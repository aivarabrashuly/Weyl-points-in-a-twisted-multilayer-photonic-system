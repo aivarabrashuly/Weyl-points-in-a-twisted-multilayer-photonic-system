{
 "cells": [
  {
   "cell_type": "code",
   "execution_count": 1,
   "id": "54e130f3",
   "metadata": {},
   "outputs": [],
   "source": [
    "def MakePMatrix(omega, which_layer, kx0, ky0, Uniform_ep_list, Uniform_mu_list, Uniform_xi_list, Uniform_zeta_list):\n",
    "    \n",
    "    det = Uniform_ep_list[which_layer][2][2]*Uniform_mu_list[which_layer][2][2]-Uniform_xi_list[which_layer][2][2]*Uniform_zeta_list[which_layer][2][2]\n",
    "    \n",
    "    nuzxee = - (Uniform_mu_list[which_layer][2][2]*Uniform_ep_list[which_layer][2][0]-Uniform_xi_list[which_layer][2][2]*(Uniform_zeta_list[which_layer][2][0]+ky0/omega))/det\n",
    "    nuzyee = - (Uniform_mu_list[which_layer][2][2]*Uniform_ep_list[which_layer][2][1]-Uniform_xi_list[which_layer][2][2]*(Uniform_zeta_list[which_layer][2][1]-kx0/omega))/det\n",
    "    nuzxeh = (Uniform_xi_list[which_layer][2][2]*Uniform_mu_list[which_layer][2][0]-Uniform_mu_list[which_layer][2][2]*(Uniform_xi_list[which_layer][2][0]-ky0/omega))/det\n",
    "    nuzyeh = (Uniform_xi_list[which_layer][2][2]*Uniform_mu_list[which_layer][2][1]-Uniform_mu_list[which_layer][2][2]*(Uniform_xi_list[which_layer][2][1]+kx0/omega))/det\n",
    "    nuzxhe = (Uniform_zeta_list[which_layer][2][2]*Uniform_ep_list[which_layer][2][0]-Uniform_ep_list[which_layer][2][2]*(Uniform_zeta_list[which_layer][2][0]+ky0/omega))/det\n",
    "    nuzyhe = (Uniform_zeta_list[which_layer][2][2]*Uniform_ep_list[which_layer][2][1]-Uniform_ep_list[which_layer][2][2]*(Uniform_zeta_list[which_layer][2][1]-kx0/omega))/det\n",
    "    nuzxhh = - (Uniform_ep_list[which_layer][2][2]*Uniform_mu_list[which_layer][2][0]-Uniform_zeta_list[which_layer][2][2]*(Uniform_xi_list[which_layer][2][0]-ky0/omega))/det\n",
    "    nuzyhh = - (Uniform_ep_list[which_layer][2][2]*Uniform_mu_list[which_layer][2][1]-Uniform_zeta_list[which_layer][2][2]*(Uniform_xi_list[which_layer][2][1]+kx0/omega))/det   \n",
    "    \n",
    "    J = np.ones((4,4), dtype = complex)\n",
    "    \n",
    "    P = np.zeros((4,4), dtype = complex)\n",
    "    \n",
    "    temp0 = np.array([[Uniform_zeta_list[which_layer][1][0], Uniform_zeta_list[which_layer][1][1], Uniform_mu_list[which_layer][1][0], Uniform_mu_list[which_layer][1][1]], [-Uniform_zeta_list[which_layer][0][0], -Uniform_zeta_list[which_layer][0][1], -Uniform_mu_list[which_layer][0][0], -Uniform_mu_list[which_layer][0][1]], [-Uniform_ep_list[which_layer][1][0], -Uniform_ep_list[which_layer][1][1], -Uniform_xi_list[which_layer][1][0], -Uniform_xi_list[which_layer][1][1]], [Uniform_ep_list[which_layer][0][0], Uniform_ep_list[which_layer][0][1], Uniform_xi_list[which_layer][0][0], Uniform_xi_list[which_layer][0][1]]])\n",
    "    temp1 = np.diag((Uniform_zeta_list[which_layer][1][2]+kx0/omega, -Uniform_zeta_list[which_layer][0][2]+ky0/omega, -Uniform_ep_list[which_layer][1][2], Uniform_ep_list[which_layer][0][2]))\n",
    "    temp2 = np.diag((nuzxee, nuzyee, nuzxeh, nuzyeh))\n",
    "    \n",
    "    temp3 = np.diag((Uniform_mu_list[which_layer][1][2], -Uniform_mu_list[which_layer][0][2], -Uniform_xi_list[which_layer][1][2]+kx0/omega, Uniform_xi_list[which_layer][0][2]+ky0/omega))\n",
    "    temp4 = np.diag((nuzxhe, nuzyhe, nuzxhh, nuzyhh))\n",
    "    \n",
    "    P = omega*(temp0 + temp1 @ J @ temp2 + temp3 @ J @ temp4)\n",
    "    \n",
    "    return P\n",
    "\n",
    "\n",
    "def Kmatrix(n, theta, phi):\n",
    "    K   = np.array([[-np.sin(phi), -np.cos(phi)*np.cos(theta), -np.sin(phi), np.cos(phi)*np.cos(theta)], [np.cos(phi), -np.sin(phi)*np.cos(theta), np.cos(phi), np.sin(phi)*np.cos(theta)], [-n/eta0*np.cos(phi)*np.cos(theta), n/eta0*np.sin(phi), n/eta0*np.cos(phi)*np.cos(theta), n/eta0*np.sin(phi)], [-n/eta0*np.sin(phi)*np.cos(theta), -n1/eta0*np.cos(phi), n/eta0*np.sin(phi)*np.cos(theta), -n/eta0*np.cos(phi)]])\n",
    "    \n",
    "    return K\n",
    "    \n",
    "    \n",
    "def MakeMMatrix(omega, which_layer, kx0, ky0, Uniform_ep_list, Uniform_mu_list, Uniform_xi_list, Uniform_zeta_list, thickness_list):\n",
    "    \n",
    "    P = MakePMatrix(omega, which_layer, kx0, ky0, Uniform_ep_list, Uniform_mu_list, Uniform_xi_list, Uniform_zeta_list)\n",
    "    \n",
    "    w, v = np.linalg.eig(P)\n",
    "\n",
    "    expG = np.zeros((4, 4), dtype = complex)\n",
    "    \n",
    "    for i in range(4):\n",
    "        expG[i, i] = np.exp(1j*w[i]*thickness_list[which_layer])\n",
    "    \n",
    "    M  = v @ expG @ np.linalg.inv(v)\n",
    "    \n",
    "    return M\n",
    "\n",
    "def BandStructure(M, thickness_list):\n",
    "    \n",
    "    w, v = np.linalg.eig(M)\n",
    "    \n",
    "    q1    = np.log(w)/(1j*np.sum(thickness_list))\n",
    "    q     = np.zeros(q1.shape, dtype = float)\n",
    "    \n",
    "    for j in range(4):\n",
    "        if np.abs(np.imag(q1[j])/np.abs(q1[j])) < 1e-5:\n",
    "            q[j] = np.real(q1[j])*np.sum(thickness_list)\n",
    "        else:\n",
    "            q[j] = None\n",
    "    \n",
    "    sort = np.argsort(q)\n",
    "    q    = np.sort(q)\n",
    "    \n",
    "    return q, sort\n",
    "\n",
    "def Electric(M, omega, which_layer, kx0, ky0, Uniform_ep_list, Uniform_mu_list, Uniform_xi_list, Uniform_zeta_list, thickness_list):\n",
    "    \n",
    "    w, v = np.linalg.eig(M)\n",
    "    \n",
    "    q, sort = BandStructure(M, thickness_list[which_layer])\n",
    "    \n",
    "    vsort = np.zeros(v.shape, dtype = complex)\n",
    "    for i in range(4):\n",
    "        vsort[:,i] = v[:,sort[i]]\n",
    "    \n",
    "    det = Uniform_ep_list[which_layer][2][2]*Uniform_mu_list[which_layer][2][2]-Uniform_xi_list[which_layer][2][2]*Uniform_zeta_list[which_layer][2][2]\n",
    "    \n",
    "    nuzxee = - (Uniform_mu_list[which_layer][2][2]*Uniform_ep_list[which_layer][2][0]-Uniform_xi_list[which_layer][2][2]*(Uniform_zeta_list[which_layer][2][0]+ky0/omega))/det\n",
    "    nuzyee = - (Uniform_mu_list[which_layer][2][2]*Uniform_ep_list[which_layer][2][1]-Uniform_xi_list[which_layer][2][2]*(Uniform_zeta_list[which_layer][2][1]-kx0/omega))/det\n",
    "    nuzxeh = (Uniform_xi_list[which_layer][2][2]*Uniform_mu_list[which_layer][2][0]-Uniform_mu_list[which_layer][2][2]*(Uniform_xi_list[which_layer][2][0]-ky0/omega))/det\n",
    "    nuzyeh = (Uniform_xi_list[which_layer][2][2]*Uniform_mu_list[which_layer][2][1]-Uniform_mu_list[which_layer][2][2]*(Uniform_xi_list[which_layer][2][1]+kx0/omega))/det\n",
    "    \n",
    "    vex = np.zeros(4, dtype = complex)\n",
    "    vey = np.zeros(4, dtype = complex)\n",
    "    vez = np.zeros(4, dtype = complex)\n",
    "    \n",
    "    for i in range(4):\n",
    "        vex[i] = vsort[0,i]\n",
    "        vey[i] = vsort[1,i]\n",
    "        vez[i] = nuzxee*vsort[0,i]+nuzyee*vsort[1,i]+nuzxeh*vsort[2,i]+nuzyeh*vsort[3,i]\n",
    "    \n",
    "    return np.array([vex, vey, vez])\n",
    "\n",
    "def Magnetic(M, omega, which_layer, kx0, ky0, Uniform_ep_list, Uniform_mu_list, Uniform_xi_list, Uniform_zeta_list, thickness_list):\n",
    "    \n",
    "    w, v = np.linalg.eig(M)\n",
    "    \n",
    "    q, sort = BandStructure(M, thickness_list[which_layer])\n",
    "    \n",
    "    vsort = np.zeros(v.shape, dtype = complex)\n",
    "    for i in range(4):\n",
    "        vsort[:,i] = v[:,sort[i]]\n",
    "    \n",
    "    det = Uniform_ep_list[which_layer][2][2]*Uniform_mu_list[which_layer][2][2]-Uniform_xi_list[which_layer][2][2]*Uniform_zeta_list[which_layer][2][2]\n",
    "    \n",
    "    nuzxhe = (Uniform_zeta_list[which_layer][2][2]*Uniform_ep_list[which_layer][2][0]-Uniform_ep_list[which_layer][2][2]*(Uniform_zeta_list[which_layer][2][0]+ky0/omega))/det\n",
    "    nuzyhe = (Uniform_zeta_list[which_layer][2][2]*Uniform_ep_list[which_layer][2][1]-Uniform_ep_list[which_layer][2][2]*(Uniform_zeta_list[which_layer][2][1]-kx0/omega))/det\n",
    "    nuzxhh = - (Uniform_ep_list[which_layer][2][2]*Uniform_mu_list[which_layer][2][0]-Uniform_zeta_list[which_layer][2][2]*(Uniform_xi_list[which_layer][2][0]-ky0/omega))/det\n",
    "    nuzyhh = - (Uniform_ep_list[which_layer][2][2]*Uniform_mu_list[which_layer][2][1]-Uniform_zeta_list[which_layer][2][2]*(Uniform_xi_list[which_layer][2][1]+kx0/omega))/det   \n",
    "    \n",
    "    vhx = np.zeros(4, dtype = complex)\n",
    "    vhy = np.zeros(4, dtype = complex)\n",
    "    vhz = np.zeros(4, dtype = complex)\n",
    "    \n",
    "    for i in range(4):\n",
    "        vhx[i] = vsort[2,i]\n",
    "        vhy[i] = vsort[3,i]\n",
    "        vhz[i] = nuzxhe*vsort[0,i]+nuzyhe*vsort[1,i]+nuzxhh*vsort[2,i]+nuzyhh*vsort[3,i]\n",
    "    \n",
    "    return np.array([vhx, vhy, vhz])\n",
    "\n",
    "def Fields(ve, vh, M, incoming, z_offset, x_offset, y_offset, kx0, ky0, thickness):\n",
    "    \n",
    "    \n",
    "    # Suppose we want to find the field in t-th layer,\n",
    "    # M - Transfer Matrix of the t-th layer, ve, vh - electric and magnetic field eigenvectors in t-th layer, \n",
    "    # thickness - thickness of the t-th layer\n",
    "    \n",
    "    w, v = np.linalg.eig(M)\n",
    "    q    = BandStructure(M, thickness)\n",
    "    \n",
    "    Coef = np.linalg.inv(v) @ incoming\n",
    "    \n",
    "    eh = []\n",
    "    \n",
    "    for j in range(len(z_offset)):\n",
    "        ex = 0; ey = 0; ez = 0; hx = 0; hy = 0; hz = 0\n",
    "        \n",
    "        for i in range(4):\n",
    "            ex += ve[0][i]*np.exp(1j*kx0*x_offset+1j*ky0*y_offset)*np.exp(1j*q[i]*z_offset[j])*Coef[i]\n",
    "            ey += ve[1][i]*np.exp(1j*kx0*x_offset+1j*ky0*y_offset)*np.exp(1j*q[i]*z_offset[j])*Coef[i]\n",
    "            ez += ve[2][i]*np.exp(1j*kx0*x_offset+1j*ky0*y_offset)*np.exp(1j*q[i]*z_offset[j])*Coef[i]\n",
    "            \n",
    "            hx += vh[0][i]*np.exp(1j*kx0*x_offset+1j*ky0*y_offset)*np.exp(1j*q[i]*z_offset[j])*Coef[i]\n",
    "            hy += vh[1][i]*np.exp(1j*kx0*x_offset+1j*ky0*y_offset)*np.exp(1j*q[i]*z_offset[j])*Coef[i]\n",
    "            hz += vh[2][i]*np.exp(1j*kx0*x_offset+1j*ky0*y_offset)*np.exp(1j*q[i]*z_offset[j])*Coef[i]\n",
    "        \n",
    "        eh.append([[ex, ey, ez], [hx, hy, hz]])\n",
    "    \n",
    "    return eh\n",
    "\n",
    "\n",
    "def RandT(M):\n",
    "    r  = np.zeros((2,2), dtype = complex)\n",
    "    t  = np.zeros((2,2), dtype = complex)\n",
    "    \n",
    "    det = (M[2,2]*M[3,3] - M[2,3]*M[3,2])\n",
    "    \n",
    "    r[0, 0] = (M[2, 3]*M[3,0]-M[2,0]*M[3,3])/det\n",
    "    r[0, 1] = (M[2, 3]*M[3,1]-M[2,1]*M[3,3])/det\n",
    "    r[1, 0] = (M[2, 0]*M[3,2]-M[3,0]*M[2,2])/det\n",
    "    r[1, 1] = (M[2, 1]*M[3,2]-M[3,1]*M[2,2])/det\n",
    "    \n",
    "    t[0, 0] = ((M[0, 2]*M[2, 3]-M[0, 3]*M[2, 2])*M[3, 0]+(M[0, 3]*M[2,0]-M[0,0]*M[2, 3])*M[3,2]+(M[0,0]*M[2,2]-M[0, 2]*M[2,0])*M[3,3])/det\n",
    "    t[0, 1] = M[0, 1] + ((M[0,2]*M[2,3]-M[0, 3]*M[2,2])*M[3,1]+(M[0, 3]*M[3, 2]-M[0, 2]*M[3,3])*M[2,1])/det\n",
    "    t[1, 0] = ((M[1,2]*M[2,3]-M[1,3]*M[2,2])*M[3,0]+(M[1,3]*M[2,0]-M[1,0]*M[2,3])*M[3,2]+(M[1,0]*M[2,2]-M[1,2]*M[2,0])*M[3,3])/det\n",
    "    t[1, 1] = M[1,1] + ((M[1,2]*M[2,3]-M[1,3]*M[2,2])*M[3,1]+(M[1,3]*M[3,2]-M[1,2]*M[3,3])*M[2,1])/det\n",
    "    \n",
    "    return r, t\n",
    "    \n",
    "def RefTrans(r, t, theta, n1, n2):\n",
    "    Rss = np.abs(r[0,0])**2\n",
    "    Rsp = np.abs(r[0,1])**2\n",
    "    Rps = np.abs(r[1,0])**2\n",
    "    Rpp = np.abs(r[1,1])**2\n",
    "    \n",
    "    thetar  = np.arcsin(n1*np.sin(theta)/n2)\n",
    "    \n",
    "    Tss = (n2/n1)*(np.real(np.cos(thetar))/np.cos(theta))*np.abs(t[0,0])**2\n",
    "    Tsp = (n2/n1)*(np.real(np.cos(thetar))/np.cos(theta))*np.abs(t[0,1])**2\n",
    "    Tps = (n2/n1)*(np.real(np.cos(thetar))/np.cos(theta))*np.abs(t[1,0])**2\n",
    "    Tpp = (n2/n1)*(np.real(np.cos(thetar))/np.cos(theta))*np.abs(t[1,1])**2\n",
    "    \n",
    "    As = 1 - (Rss+Rps+Tss+Tps)\n",
    "    Ap = 1 - (Rpp+Rsp+Tpp+Tsp)\n",
    "    \n",
    "    return Rss, Rsp, Rps, Rpp, Tss, Tsp, Tps, Tpp, As, Ap\n",
    "\n",
    "def find_nearest(array, value):\n",
    "    array = np.asarray(array)\n",
    "    idx = (np.abs(array - value)).argmin()\n",
    "    return array[idx], idx\n",
    "\n",
    "def EnDensity(weps, wmu, wgamma, elec1, elec2, mag1, mag2):\n",
    "    \n",
    "    coef1 = 1/2*(np.dot(np.conjugate(elec1), weps @ elec1)+np.dot(np.conjugate(mag1), wmu @ mag1)-2/c*np.imag(np.dot(np.conjugate(elec1), wgamma @ mag1)))\n",
    "    \n",
    "    coef2 = 1/2*(np.dot(np.conjugate(elec2), weps @ elec2)+np.dot(np.conjugate(mag2), wmu @ mag2)-2/c*np.imag(np.dot(np.conjugate(elec2), wgamma @ mag2)))\n",
    "        \n",
    "    elec1 = elec1/np.sqrt(coef1)\n",
    "    mag1 = mag1/np.sqrt(coef1)\n",
    "    elec2 = elec2/np.sqrt(coef2)\n",
    "    mag2 = mag2/np.sqrt(coef2)\n",
    "    \n",
    "    \n",
    "    res   = 1/2*(np.dot(np.conjugate(elec1), weps @ elec2)+np.dot(np.conjugate(mag1), wmu @ mag2)-2/c*np.imag(np.dot(np.conjugate(elec1), wgamma @ mag2)))\n",
    "        \n",
    "    return res\n",
    "\n",
    "def EnDensity3(weps1, weps2, weps3, wmu1, wmu2, wmu3, elec11, elec12, elec13, elec21, elec22, elec23, mag11, mag12, mag13, mag21, mag22, mag23):\n",
    "    \n",
    "    coef11 = 1/2*(np.dot(np.conjugate(elec11), weps1 @ elec11)+np.dot(np.conjugate(mag11), wmu1 @ mag11))\n",
    "    coef12 = 1/2*(np.dot(np.conjugate(elec12), weps2 @ elec12)+np.dot(np.conjugate(mag12), wmu2 @ mag12))\n",
    "    coef13 = 1/2*(np.dot(np.conjugate(elec13), weps3 @ elec13)+np.dot(np.conjugate(mag13), wmu3 @ mag13))\n",
    "    \n",
    "    coef21 = 1/2*(np.dot(np.conjugate(elec21), weps1 @ elec21)+np.dot(np.conjugate(mag21), wmu1 @ mag21))\n",
    "    coef22 = 1/2*(np.dot(np.conjugate(elec22), weps2 @ elec22)+np.dot(np.conjugate(mag22), wmu2 @ mag22))\n",
    "    coef23 = 1/2*(np.dot(np.conjugate(elec23), weps3 @ elec23)+np.dot(np.conjugate(mag23), wmu3 @ mag23))\n",
    "        \n",
    "    elec11 = elec11/np.sqrt(coef11+coef12+coef13)\n",
    "    elec12 = elec12/np.sqrt(coef11+coef12+coef13)\n",
    "    elec13 = elec13/np.sqrt(coef11+coef12+coef13)\n",
    "    mag11  = mag11/np.sqrt(coef11+coef12+coef13)\n",
    "    mag12  = mag12/np.sqrt(coef11+coef12+coef13)\n",
    "    mag13  = mag13/np.sqrt(coef11+coef12+coef13)\n",
    "                  \n",
    "    elec21 = elec21/np.sqrt(coef21+coef22+coef23)\n",
    "    elec22 = elec22/np.sqrt(coef21+coef22+coef23)\n",
    "    elec23 = elec23/np.sqrt(coef21+coef22+coef23)\n",
    "    mag21  = mag21/np.sqrt(coef21+coef22+coef23)\n",
    "    mag22  = mag22/np.sqrt(coef21+coef22+coef23)\n",
    "    mag23  = mag23/np.sqrt(coef21+coef22+coef23)\n",
    "    \n",
    "    \n",
    "    res1   = 1/2*(np.dot(np.conjugate(elec11), weps1 @ elec21)+np.dot(np.conjugate(mag11), wmu1 @ mag21))\n",
    "    res2   = 1/2*(np.dot(np.conjugate(elec12), weps2 @ elec22)+np.dot(np.conjugate(mag12), wmu2 @ mag22))\n",
    "    res3   = 1/2*(np.dot(np.conjugate(elec13), weps3 @ elec23)+np.dot(np.conjugate(mag13), wmu3 @ mag23))\n",
    "                  \n",
    "    return res1+res2+res3"
   ]
  },
  {
   "cell_type": "code",
   "execution_count": 2,
   "id": "2a4709e2",
   "metadata": {},
   "outputs": [],
   "source": [
    "import numpy as np\n",
    "import scipy as sp\n",
    "import scipy.constants as spcs\n",
    "from numpy.linalg import matrix_power\n",
    "\n",
    "# universal constants \n",
    "c       = spcs.c\n",
    "eps0    = spcs.epsilon_0\n",
    "mu0     = spcs.mu_0\n",
    "eta0    = np.sqrt(mu0/eps0)\n",
    "\n",
    "# problem parameters \n",
    "m       = 10000\n",
    "length  = 1e-6\n",
    "omega   = np.linspace(0.5e-4*np.pi*c/length, 0.65*np.pi*c/length, m)\n",
    "n1      = 1\n",
    "n2      = 1\n",
    "phi1    = 0.\n",
    "\n",
    "\n",
    "\n",
    "omega_p = 0.5*np.pi*c/length\n",
    "\n",
    "kx0     = 0.\n",
    "ky0     = 0.\n",
    "\n",
    "    \n",
    "# material parameters\n",
    "\n",
    "\n",
    "q1    = np.zeros((m, 4), dtype = float)\n",
    "\n",
    "for i in range(m):\n",
    "    epsA = np.array([[2.2, -1j*0.2, 0], [+1j*0.2, 2.2, 0], [0, 0, 1 - (omega_p/omega[i])**2]])*eps0\n",
    "    muA  = np.array([[1., 0, 0], [0, 1., 0], [0, 0, 1.]])*mu0\n",
    "    xiA  = np.zeros((3,3), dtype = complex)\n",
    "    zetA = np.zeros((3,3), dtype = complex)\n",
    "    dA   = length\n",
    "    \n",
    "    rot  = np.array([[np.cos(phi1), -np.sin(phi1), 0], [np.sin(phi1), np.cos(phi1), 0], [0, 0, 1]])\n",
    "    \n",
    "    Uniform_ep_list = [epsA, rot @ epsA @ np.linalg.inv(rot)]\n",
    "    Uniform_mu_list = [muA, rot @ muA @ np.linalg.inv(rot)]\n",
    "    Uniform_xi_list = [xiA, rot @ xiA @ np.linalg.inv(rot)]\n",
    "    Uniform_zeta_list = [zetA, rot @ zetA @ np.linalg.inv(rot)]\n",
    "    thickness_list  = [dA/2, dA/2]\n",
    "    \n",
    "    M1 = MakeMMatrix(omega[i], 0, kx0, ky0, Uniform_ep_list, Uniform_mu_list, Uniform_xi_list, Uniform_zeta_list, thickness_list)\n",
    "    M2 = MakeMMatrix(omega[i], 1, kx0, ky0, Uniform_ep_list, Uniform_mu_list, Uniform_xi_list, Uniform_zeta_list, thickness_list)\n",
    "    # M3 = MakeMMatrix(omega[i], 2, kx0, ky0, Uniform_ep_list, Uniform_mu_list, Uniform_xi_list, Uniform_zeta_list, thickness_list)\n",
    " \n",
    "        \n",
    "    q1[i], sort  = BandStructure(M2 @ M1, thickness_list)\n",
    "    \n",
    "    \n",
    "    Uniform_ep_list = []\n",
    "    Uniform_mu_list = []\n",
    "    Uniform_xi_list = []\n",
    "    Uniform_zeta_list = []\n",
    "    thickness_list  = []"
   ]
  },
  {
   "cell_type": "code",
   "execution_count": 3,
   "id": "c299abe6",
   "metadata": {},
   "outputs": [
    {
     "data": {
      "text/plain": [
       "(-3.141592653589793, 3.141592653589793)"
      ]
     },
     "execution_count": 3,
     "metadata": {},
     "output_type": "execute_result"
    },
    {
     "data": {
      "image/png": "[encoded data removed]",
      "text/plain": [
       "<Figure size 432x288 with 1 Axes>"
      ]
     },
     "metadata": {
      "needs_background": "light"
     },
     "output_type": "display_data"
    }
   ],
   "source": [
    "from matplotlib import pyplot as plt \n",
    "\n",
    "plt.figure(figsize=(6,4))\n",
    "\n",
    "plt.title(r'$\\omega(k_z)$ band structure for fixed $k_x L = 0.05$', fontname = \"Arial\", fontsize = 15)\n",
    "plt.xlabel(r\"$k_z L$\", fontname = \"Arial\", fontsize = 20)\n",
    "plt.ylabel(r\"$\\omega/\\omega_p$\", fontsize = 20)\n",
    "plt.scatter(q1[:, 0], omega/omega_p,s = 0.1, marker='.',  color = \"black\")\n",
    "plt.scatter(q1[:, 1], omega/omega_p,s = 0.1, marker='.', color = \"black\")\n",
    "plt.scatter(q1[:, 2], omega/omega_p,s = 0.1, marker='.', color = \"black\")\n",
    "plt.scatter(q1[:, 3], omega/omega_p,s = 0.1, marker='.', color = \"black\")\n",
    "plt.axvline(0, linestyle='--', color='k')\n",
    "plt.xlim([-np.pi, np.pi])"
   ]
  },
  {
   "cell_type": "code",
   "execution_count": 4,
   "id": "a4e6f52b",
   "metadata": {},
   "outputs": [
    {
     "data": {
      "text/plain": [
       "(470890794384584.56, 7691)"
      ]
     },
     "execution_count": 4,
     "metadata": {},
     "output_type": "execute_result"
    }
   ],
   "source": [
    "find_nearest(omega, omega_p)"
   ]
  },
  {
   "cell_type": "code",
   "execution_count": 5,
   "id": "545d3346",
   "metadata": {},
   "outputs": [
    {
     "data": {
      "text/plain": [
       "2.4333530158838563"
      ]
     },
     "execution_count": 5,
     "metadata": {},
     "output_type": "execute_result"
    }
   ],
   "source": [
    "q1[7691,3]"
   ]
  },
  {
   "cell_type": "code",
   "execution_count": 6,
   "id": "2ba0d481",
   "metadata": {},
   "outputs": [],
   "source": [
    "import numpy as np\n",
    "import scipy as sp\n",
    "import scipy.constants as spcs\n",
    "from numpy.linalg import matrix_power\n",
    "\n",
    "# universal constants \n",
    "c       = spcs.c\n",
    "eps0    = spcs.epsilon_0\n",
    "mu0     = spcs.mu_0\n",
    "eta0    = np.sqrt(mu0/eps0)\n",
    "\n",
    "# problem parameters \n",
    "length  = 1e-6\n",
    "omega_p = 0.5*np.pi*c/length\n",
    "n1      = 1\n",
    "n2      = 1\n",
    "#phi     = np.linspace(0, 2*np.pi, 11)\n",
    "#theta   = np.linspace(0, np.pi, 1001)\n",
    "phi1    = 0.\n",
    "\n",
    "dk      = 2221.44\n",
    "\n",
    "\n",
    "kx0     = np.linspace(-dk, dk, 1001)\n",
    "ky0     = 0.\n",
    "\n",
    "\n",
    "omega   = (1-1e-3)*omega_p\n",
    "\n",
    "q1      = np.zeros((len(kx0), 4), dtype = float)\n",
    "\n",
    "for j in range(len(kx0)):\n",
    "        \n",
    "    epsA = np.array([[2.2, -1j*0.2, 0], [1j*0.2, 2.2, 0], [0, 0, 1 - (omega_p/omega)**2]])*eps0\n",
    "    muA  = np.array([[1., 0, 0], [0, 1., 0], [0, 0, 1.]])*mu0\n",
    "    xiA  = np.zeros((3,3), dtype = complex)\n",
    "    zetA = np.zeros((3,3), dtype = complex)\n",
    "    dA   = length\n",
    "        \n",
    "    rot  = np.array([[np.cos(phi1), -np.sin(phi1), 0], [np.sin(phi1), np.cos(phi1), 0], [0, 0, 1]])\n",
    "    \n",
    "    Uniform_ep_list = [epsA, rot @ epsA @ np.linalg.inv(rot)]\n",
    "    Uniform_mu_list   = [muA, rot @ muA @ np.linalg.inv(rot)]\n",
    "    Uniform_xi_list   = [xiA, rot @ xiA @ np.linalg.inv(rot)]\n",
    "    Uniform_zeta_list = [zetA, rot @ zetA @ np.linalg.inv(rot)]\n",
    "    thickness_list    = [dA/2, dA/2]\n",
    "\n",
    "    M1 = MakeMMatrix(omega, 0, kx0[j], ky0, Uniform_ep_list, Uniform_mu_list, Uniform_xi_list, Uniform_zeta_list, thickness_list)\n",
    "    M2 = MakeMMatrix(omega, 1, kx0[j], ky0, Uniform_ep_list, Uniform_mu_list, Uniform_xi_list, Uniform_zeta_list, thickness_list)\n",
    "    #M3 = MakeMMatrix(omega, 2, kx0[j], ky0, Uniform_ep_list, Uniform_mu_list, Uniform_xi_list, Uniform_zeta_list, thickness_list)\n",
    " \n",
    "    \n",
    "    q1[j], sort = BandStructure(M2 @ M1, thickness_list)"
   ]
  },
  {
   "cell_type": "code",
   "execution_count": 7,
   "id": "a98049e1",
   "metadata": {},
   "outputs": [
    {
     "data": {
      "text/plain": [
       "<matplotlib.collections.PathCollection at 0x7fab10db1460>"
      ]
     },
     "execution_count": 7,
     "metadata": {},
     "output_type": "execute_result"
    },
    {
     "data": {
      "image/png": "[encoded data removed]",
      "text/plain": [
       "<Figure size 432x288 with 1 Axes>"
      ]
     },
     "metadata": {
      "needs_background": "light"
     },
     "output_type": "display_data"
    }
   ],
   "source": [
    "import matplotlib.pyplot as plt\n",
    "\n",
    "plt.ylabel(r\"$dk_zdw$\", fontsize = 20)\n",
    "plt.xlabel(r\"$(k_x L)^2$\", fontsize = 20)\n",
    "plt.scatter((kx0*length)**2, (q1[:,3]-2.4333530158838563)*(omega/omega_p-1),s = 2, marker='.',  color = \"black\")\n",
    "#plt.plot((omega/omega_p-1)**2, (omega/omega_p-1)**2*0.5*np.pi*np.sqrt(2))"
   ]
  },
  {
   "cell_type": "code",
   "execution_count": 8,
   "id": "f4d2c241",
   "metadata": {},
   "outputs": [
    {
     "data": {
      "text/plain": [
       "array([-0.00171028, -0.00171272, -0.00171515, ..., -0.00171515,\n",
       "       -0.00171272, -0.00171028])"
      ]
     },
     "execution_count": 8,
     "metadata": {},
     "output_type": "execute_result"
    }
   ],
   "source": [
    "(q1[:,3]-2.4333530158838563)"
   ]
  },
  {
   "cell_type": "code",
   "execution_count": 12,
   "id": "79dad454",
   "metadata": {},
   "outputs": [
    {
     "data": {
      "text/plain": [
       "<matplotlib.collections.PathCollection at 0x7fb8e05e97f0>"
      ]
     },
     "execution_count": 12,
     "metadata": {},
     "output_type": "execute_result"
    },
    {
     "data": {
      "image/png": "[encoded data removed]",
      "text/plain": [
       "<Figure size 432x288 with 1 Axes>"
      ]
     },
     "metadata": {
      "needs_background": "light"
     },
     "output_type": "display_data"
    }
   ],
   "source": [
    "import matplotlib.pyplot as plt\n",
    "\n",
    "plt.ylabel(r\"$dk_zdw$\", fontsize = 20)\n",
    "plt.xlabel(r\"$(k_y L)^2$\", fontsize = 20)\n",
    "plt.scatter((ky0*length)**2, (q1[:,3]-2.5809606278283224)*(omega/omega_p-1),s = 2, marker='.',  color = \"black\")\n",
    "#plt.plot((omega/omega_p-1)**2, (omega/omega_p-1)**2*0.5*np.pi*np.sqrt(2))"
   ]
  },
  {
   "cell_type": "code",
   "execution_count": 54,
   "id": "cdfe877f",
   "metadata": {},
   "outputs": [
    {
     "data": {
      "text/plain": [
       "<matplotlib.collections.PathCollection at 0x7fcf40e992e0>"
      ]
     },
     "execution_count": 54,
     "metadata": {},
     "output_type": "execute_result"
    },
    {
     "data": {
      "image/png": "[encoded data removed]",
      "text/plain": [
       "<Figure size 432x288 with 1 Axes>"
      ]
     },
     "metadata": {
      "needs_background": "light"
     },
     "output_type": "display_data"
    }
   ],
   "source": [
    "import matplotlib.pyplot as plt\n",
    "\n",
    "plt.ylabel(r\"$dk_zdw$\", fontsize = 20)\n",
    "plt.xlabel(r\"$(k_y L)^2$\", fontsize = 20)\n",
    "plt.scatter((ky0*length)**2, (q1[:,3]-2.3297581401478435)*(omega/omega_p-1),s = 2, marker='.',  color = \"black\")\n",
    "#plt.plot((omega/omega_p-1)**2, (omega/omega_p-1)**2*0.5*np.pi*np.sqrt(2))"
   ]
  },
  {
   "cell_type": "code",
   "execution_count": 14,
   "id": "e5c360e5",
   "metadata": {},
   "outputs": [
    {
     "data": {
      "text/plain": [
       "array([-1.30678328e-01,  2.46000560e-06])"
      ]
     },
     "execution_count": 14,
     "metadata": {},
     "output_type": "execute_result"
    }
   ],
   "source": [
    "np.polyfit((ky0*length)**2, -(q1[:,3]-2.5809606278283224)*1e-3, 1)"
   ]
  },
  {
   "cell_type": "code",
   "execution_count": 9,
   "id": "ac71fdf8",
   "metadata": {},
   "outputs": [
    {
     "data": {
      "text/plain": [
       "array([-1.23368190e-01,  2.31940199e-06])"
      ]
     },
     "execution_count": 9,
     "metadata": {},
     "output_type": "execute_result"
    }
   ],
   "source": [
    "np.polyfit((kx0*length)**2, -(q1[:,3]-2.4333530158838563)*1e-3, 1)"
   ]
  },
  {
   "cell_type": "code",
   "execution_count": 38,
   "id": "1ca1d84e",
   "metadata": {},
   "outputs": [
    {
     "data": {
      "text/plain": [
       "array([2.43346721e+00, 1.14189700e-04])"
      ]
     },
     "execution_count": 38,
     "metadata": {},
     "output_type": "execute_result"
    }
   ],
   "source": [
    "np.polyfit((omega/omega_p-1), (q1[:,3]-2.4333530158838563), 1)"
   ]
  },
  {
   "cell_type": "code",
   "execution_count": 10,
   "id": "2764a0b5",
   "metadata": {},
   "outputs": [
    {
     "name": "stderr",
     "output_type": "stream",
     "text": [
      "<ipython-input-10-0603d1f9588d>:68: ComplexWarning: Casting complex values to real discards the imaginary part\n",
      "  weps1[j][i]  = np.array([[2.2, -1j*0.2, 0], [1j*0.2, 2.2, 0], [0, 0, 1+omega_p**2/omega**2]])*eps0\n",
      "<ipython-input-10-0603d1f9588d>:134: ComplexWarning: Casting complex values to real discards the imaginary part\n",
      "  weps1[j][i]  = np.array([[2.2, -1j*0.2, 0], [1j*0.2, 2.2, 0], [0, 0, 1+omega_p**2/omega**2]])*eps0\n"
     ]
    }
   ],
   "source": [
    "import numpy as np\n",
    "import scipy as sp\n",
    "import scipy.constants as spcs\n",
    "from numpy.linalg import matrix_power\n",
    "\n",
    "# universal constants \n",
    "c       = spcs.c\n",
    "eps0    = spcs.epsilon_0\n",
    "mu0     = spcs.mu_0\n",
    "eta0    = np.sqrt(mu0/eps0)\n",
    "\n",
    "# problem parameters \n",
    "length  = 1e-6\n",
    "omega_p = 0.5*np.pi*c/length\n",
    "n1      = 1\n",
    "n2      = 1\n",
    "phi     = np.linspace(0, 2*np.pi, 11)\n",
    "theta   = np.linspace(0.001*np.pi, 0.999*np.pi, 1001)\n",
    "phi1    = 0.\n",
    "thetar  = np.arcsin(n1*np.sin(theta)/n2)\n",
    "\n",
    "dk      = 2221.44\n",
    "\n",
    "beta    = 2.43346721e+00\n",
    "alpha1  = 1.23368190e-01\n",
    "alpha2  = 1.23368190e-01\n",
    "a1      = 1.23368190e-01\n",
    "a2      = 1.23368190e-01\n",
    "\n",
    "ve1     = np.zeros((len(theta), len(phi), 3, 4), dtype = complex)\n",
    "vh1     = np.zeros((len(theta), len(phi), 3, 4), dtype = complex)\n",
    "ve2     = np.zeros((len(theta), len(phi), 3, 4), dtype = complex)\n",
    "vh2     = np.zeros((len(theta), len(phi), 3, 4), dtype = complex)\n",
    "ve3     = np.zeros((len(theta), len(phi), 3, 4), dtype = complex)\n",
    "vh3     = np.zeros((len(theta), len(phi), 3, 4), dtype = complex)\n",
    "\n",
    "q1      = np.zeros((len(theta), len(phi), 4), dtype = float)\n",
    "\n",
    "\n",
    "weps1   = np.zeros((len(theta), len(phi), 3, 3), dtype = float)\n",
    "weps2   = np.zeros((len(theta), len(phi), 3, 3), dtype = float)\n",
    "weps3   = np.zeros((len(theta), len(phi), 3, 3), dtype = float)\n",
    "\n",
    "dw      = np.zeros((len(theta), len(phi)), dtype = float)\n",
    "\n",
    "for j in range(len(theta)):\n",
    "    for i in range(len(phi)):\n",
    "        \n",
    "        kx0 = dk*np.sin(theta[j])*np.cos(phi[i])\n",
    "        ky0 = dk*np.sin(theta[j])*np.sin(phi[i])\n",
    "        dkz = dk*np.cos(theta[j])\n",
    "        \n",
    "        if dkz > 0:\n",
    "            dw[j, i] = (dkz*length+np.sqrt((dkz*length)**2+4*alpha1*beta*(kx0*length)**2+4*alpha2*beta*(ky0*length)**2))/(2*beta)\n",
    "        else:\n",
    "            dw[j, i] = (dkz*length+np.sqrt((dkz*length)**2+4*alpha1*beta*(kx0*length)**2+4*alpha2*beta*(ky0*length)**2))/(2*beta)\n",
    "        \n",
    "        omega = (1+dw[j, i])*omega_p\n",
    "        \n",
    "        epsA = np.array([[2.2, -1j*0.2, 0], [1j*0.2, 2.2, 0], [0, 0, 1 - (omega_p/omega)**2]])*eps0\n",
    "        muA  = np.array([[1., 0, 0], [0, 1., 0], [0, 0, 1.]])*mu0\n",
    "        xiA  = np.zeros((3,3), dtype = complex)\n",
    "        zetA = np.zeros((3,3), dtype = complex)\n",
    "        dA   = length\n",
    "        \n",
    "        rot  = np.array([[np.cos(phi1), -np.sin(phi1), 0], [np.sin(phi1), np.cos(phi1), 0], [0, 0, 1]])\n",
    "    \n",
    "        weps1[j][i]  = np.array([[2.2, -1j*0.2, 0], [1j*0.2, 2.2, 0], [0, 0, 1+omega_p**2/omega**2]])*eps0\n",
    "        weps2[j][i]  = rot @ weps1[j][i] @ np.linalg.inv(rot)\n",
    "        weps3[j][i]  = matrix_power(rot, 2) @ weps1[j][i] @ matrix_power(rot, -2)\n",
    "        \n",
    "        Uniform_ep_list = [epsA, rot @ epsA @ np.linalg.inv(rot), matrix_power(rot, 2) @ epsA @ matrix_power(rot, -2)]\n",
    "        Uniform_mu_list   = [muA, rot @ muA @ np.linalg.inv(rot), matrix_power(rot, 2) @ muA @ matrix_power(rot, -2)]\n",
    "        Uniform_xi_list   = [xiA, rot @ xiA @ np.linalg.inv(rot), matrix_power(rot, 2) @ xiA @ matrix_power(rot, -2)]\n",
    "        Uniform_zeta_list = [zetA, rot @ zetA @ np.linalg.inv(rot), matrix_power(rot, 2) @ zetA @ matrix_power(rot, -2)]\n",
    "        thickness_list    = [dA/3, dA/3, dA/3]\n",
    "\n",
    "        M1 = MakeMMatrix(omega, 0, kx0, ky0, Uniform_ep_list, Uniform_mu_list, Uniform_xi_list, Uniform_zeta_list, thickness_list)\n",
    "        M2 = MakeMMatrix(omega, 1, kx0, ky0, Uniform_ep_list, Uniform_mu_list, Uniform_xi_list, Uniform_zeta_list, thickness_list)\n",
    "        M3 = MakeMMatrix(omega, 2, kx0, ky0, Uniform_ep_list, Uniform_mu_list, Uniform_xi_list, Uniform_zeta_list, thickness_list)\n",
    " \n",
    "    \n",
    "        q1[j, i], sort = BandStructure(M3 @ M2 @ M1, thickness_list)\n",
    "\n",
    "\n",
    "        ve1[j, i] = Electric(M3 @ M2 @ M1, omega, 0, kx0, ky0, Uniform_ep_list, Uniform_mu_list, Uniform_xi_list, Uniform_zeta_list, thickness_list)\n",
    "        vh1[j, i] = Magnetic(M3 @ M2 @ M1, omega, 0, kx0, ky0, Uniform_ep_list, Uniform_mu_list, Uniform_xi_list, Uniform_zeta_list, thickness_list)\n",
    "        ve2[j, i] = Electric(M3 @ M2 @ M1, omega, 1, kx0, ky0, Uniform_ep_list, Uniform_mu_list, Uniform_xi_list, Uniform_zeta_list, thickness_list)\n",
    "        vh2[j, i] = Magnetic(M3 @ M2 @ M1, omega, 1, kx0, ky0, Uniform_ep_list, Uniform_mu_list, Uniform_xi_list, Uniform_zeta_list, thickness_list)\n",
    "        ve3[j, i] = Electric(M3 @ M2 @ M1, omega, 2, kx0, ky0, Uniform_ep_list, Uniform_mu_list, Uniform_xi_list, Uniform_zeta_list, thickness_list)\n",
    "        vh3[j, i] = Magnetic(M3 @ M2 @ M1, omega, 2, kx0, ky0, Uniform_ep_list, Uniform_mu_list, Uniform_xi_list, Uniform_zeta_list, thickness_list)\n",
    "\n",
    "\n",
    "    #inner[j, i] = Poynting(weps, Uniform_mu_list[0], Uniform_xi_list[0], ve1[i,:,0], ve1[:,0], vh1[:,0], vh1[:,0])\n",
    "\n",
    "berry1 = np.zeros(len(theta), dtype = float)\n",
    "berry2 = np.zeros(len(theta), dtype = float)\n",
    "\n",
    "wmu   = mu0*np.eye(3)\n",
    "wxi   = np.zeros((3,3))*1j*np.sqrt(mu0*eps0)\n",
    "\n",
    "for j in range(len(theta)):\n",
    "    \n",
    "    \n",
    "    for i in range(len(phi)-1):\n",
    "        \n",
    "        inner = EnDensity3(weps1[j][i], weps2[j][i], weps3[j][i], muA, rot @ muA @ np.linalg.inv(rot), matrix_power(rot, 2) @ muA @ matrix_power(rot, -2),  ve1[j,i,:,3], ve2[j,i,:,3], ve3[j,i,:,3], ve1[j,i+1, :,3], ve2[j,i+1, :,3], ve3[j,i+1, :,3], vh1[j,i,:,3], vh2[j,i,:,3], vh3[j,i,:,3], vh1[j,i+1, :,3], vh2[j,i+1, :,3], vh3[j,i+1, :,3])\n",
    "        \n",
    "        berry1[j] = berry1[j] - np.imag(np.log(inner))\n",
    "\n",
    "        \n",
    "for j in range(len(theta)):\n",
    "    for i in range(len(phi)):\n",
    "        \n",
    "        kx0 = dk*np.sin(theta[j])*np.cos(phi[i])\n",
    "        ky0 = dk*np.sin(theta[j])*np.sin(phi[i])\n",
    "        dkz = dk*np.cos(theta[j])\n",
    "        \n",
    "        if dkz > 0:\n",
    "            dw[j, i] = (dkz*length-np.sqrt((dkz*length)**2+4*a1*beta*(kx0*length)**2+4*a2*beta*(ky0*length)**2))/(2*beta)\n",
    "        else:\n",
    "            dw[j, i] = (dkz*length-np.sqrt((dkz*length)**2+4*a1*beta*(kx0*length)**2+4*a2*beta*(ky0*length)**2))/(2*beta)\n",
    "        \n",
    "        omega = (1+dw[j, i])*omega_p\n",
    "        \n",
    "        epsA = np.array([[2.2, -1j*0.2, 0], [1j*0.2, 2.2, 0], [0, 0, 1 - (omega_p/omega)**2]])*eps0\n",
    "        muA  = np.array([[1., 0, 0], [0, 1., 0], [0, 0, 1.]])*mu0\n",
    "        xiA  = np.zeros((3,3), dtype = complex)\n",
    "        zetA = np.zeros((3,3), dtype = complex)\n",
    "        dA   = length\n",
    "        \n",
    "        rot  = np.array([[np.cos(phi1), -np.sin(phi1), 0], [np.sin(phi1), np.cos(phi1), 0], [0, 0, 1]])\n",
    "    \n",
    "        weps1[j][i]  = np.array([[2.2, -1j*0.2, 0], [1j*0.2, 2.2, 0], [0, 0, 1+omega_p**2/omega**2]])*eps0\n",
    "        weps2[j][i]  = rot @ weps1[j][i] @ np.linalg.inv(rot)\n",
    "        weps3[j][i]  = matrix_power(rot, 2) @ weps1[j][i] @ matrix_power(rot, -2)\n",
    "        \n",
    "        Uniform_ep_list = [epsA, rot @ epsA @ np.linalg.inv(rot), matrix_power(rot, 2) @ epsA @ matrix_power(rot, -2)]\n",
    "        Uniform_mu_list   = [muA, rot @ muA @ np.linalg.inv(rot), matrix_power(rot, 2) @ muA @ matrix_power(rot, -2)]\n",
    "        Uniform_xi_list   = [xiA, rot @ xiA @ np.linalg.inv(rot), matrix_power(rot, 2) @ xiA @ matrix_power(rot, -2)]\n",
    "        Uniform_zeta_list = [zetA, rot @ zetA @ np.linalg.inv(rot), matrix_power(rot, 2) @ zetA @ matrix_power(rot, -2)]\n",
    "        thickness_list    = [dA/3, dA/3, dA/3]\n",
    "\n",
    "        M1 = MakeMMatrix(omega, 0, kx0, ky0, Uniform_ep_list, Uniform_mu_list, Uniform_xi_list, Uniform_zeta_list, thickness_list)\n",
    "        M2 = MakeMMatrix(omega, 1, kx0, ky0, Uniform_ep_list, Uniform_mu_list, Uniform_xi_list, Uniform_zeta_list, thickness_list)\n",
    "        M3 = MakeMMatrix(omega, 2, kx0, ky0, Uniform_ep_list, Uniform_mu_list, Uniform_xi_list, Uniform_zeta_list, thickness_list)\n",
    " \n",
    "    \n",
    "        q1[j, i], sort = BandStructure(M3 @ M2 @ M1, thickness_list)\n",
    "\n",
    "\n",
    "        ve1[j, i] = Electric(M3 @ M2 @ M1, omega, 0, kx0, ky0, Uniform_ep_list, Uniform_mu_list, Uniform_xi_list, Uniform_zeta_list, thickness_list)\n",
    "        vh1[j, i] = Magnetic(M3 @ M2 @ M1, omega, 0, kx0, ky0, Uniform_ep_list, Uniform_mu_list, Uniform_xi_list, Uniform_zeta_list, thickness_list)\n",
    "        ve2[j, i] = Electric(M3 @ M2 @ M1, omega, 1, kx0, ky0, Uniform_ep_list, Uniform_mu_list, Uniform_xi_list, Uniform_zeta_list, thickness_list)\n",
    "        vh2[j, i] = Magnetic(M3 @ M2 @ M1, omega, 1, kx0, ky0, Uniform_ep_list, Uniform_mu_list, Uniform_xi_list, Uniform_zeta_list, thickness_list)\n",
    "        ve3[j, i] = Electric(M3 @ M2 @ M1, omega, 2, kx0, ky0, Uniform_ep_list, Uniform_mu_list, Uniform_xi_list, Uniform_zeta_list, thickness_list)\n",
    "        vh3[j, i] = Magnetic(M3 @ M2 @ M1, omega, 2, kx0, ky0, Uniform_ep_list, Uniform_mu_list, Uniform_xi_list, Uniform_zeta_list, thickness_list)\n",
    "\n",
    "\n",
    "\n",
    "for j in range(len(theta)):\n",
    "    for i in range(len(phi)-1):\n",
    "        \n",
    "        inner = EnDensity3(weps1[j][i], weps2[j][i], weps3[j][i], muA, rot @ muA @ np.linalg.inv(rot), matrix_power(rot, 2) @ muA @ matrix_power(rot, -2),  ve1[j,i,:,3], ve2[j,i,:,3], ve3[j,i,:,3], ve1[j,i+1, :,3], ve2[j,i+1, :,3], ve3[j,i+1, :,3], vh1[j,i,:,3], vh2[j,i,:,3], vh3[j,i,:,3], vh1[j,i+1, :,3], vh2[j,i+1, :,3], vh3[j,i+1, :,3])\n",
    "        \n",
    "        berry2[j] = berry2[j] - np.imag(np.log(inner))"
   ]
  },
  {
   "cell_type": "code",
   "execution_count": 11,
   "id": "54099516",
   "metadata": {},
   "outputs": [
    {
     "data": {
      "text/plain": [
       "<matplotlib.legend.Legend at 0x7fab20869100>"
      ]
     },
     "execution_count": 11,
     "metadata": {},
     "output_type": "execute_result"
    },
    {
     "data": {
      "image/png": "[encoded data removed]",
      "text/plain": [
       "<Figure size 432x288 with 1 Axes>"
      ]
     },
     "metadata": {
      "needs_background": "light"
     },
     "output_type": "display_data"
    }
   ],
   "source": [
    "import matplotlib.pyplot as plt\n",
    "\n",
    "plt.xlabel(r\"$\\theta/\\pi$\", fontsize = 20)\n",
    "plt.ylabel(r\"$\\beta/\\pi$\", fontsize = 20)\n",
    "plt.scatter(theta/np.pi, (berry1)/np.pi,s = 5, marker='.',  color = \"red\")\n",
    "plt.scatter(theta/np.pi, berry2/np.pi,s = 5, marker='.',  color = \"black\")\n",
    "plt.legend(['Transverse', 'Longitudinal'], fontsize=15)"
   ]
  },
  {
   "cell_type": "code",
   "execution_count": 33,
   "id": "baff6917",
   "metadata": {},
   "outputs": [],
   "source": [
    "import numpy as np\n",
    "import scipy as sp\n",
    "import scipy.constants as spcs\n",
    "from numpy.linalg import matrix_power\n",
    "\n",
    "# universal constants \n",
    "c       = spcs.c\n",
    "eps0    = spcs.epsilon_0\n",
    "mu0     = spcs.mu_0\n",
    "eta0    = np.sqrt(mu0/eps0)\n",
    "\n",
    "# problem parameters \n",
    "m       = 10000\n",
    "length  = 1e-6\n",
    "omega   = np.linspace(0.5e-4*np.pi*c/length, 1.5*np.pi*c/length, m)\n",
    "n1      = 1\n",
    "n2      = 1\n",
    "phi1    = 0.\n",
    "\n",
    "\n",
    "\n",
    "omega_p = 0.5*np.pi*c/length\n",
    "Omega   = 0.8*omega_p\n",
    "\n",
    "kx0     = 0.\n",
    "ky0     = 0.\n",
    "\n",
    "    \n",
    "# material parameters\n",
    "\n",
    "\n",
    "q1    = np.zeros((m, 4), dtype = float)\n",
    "\n",
    "for i in range(m):\n",
    "    exx  = 1 - omega_p**2/(omega[i]**2 - Omega**2)\n",
    "    exy  = -1j*Omega/omega[i]*(omega_p**2/(omega[i]**2 - Omega**2))\n",
    "    epsA = np.array([[exx, -exy, 0], [exy, exx, 0], [0, 0, 1 - (omega_p/omega[i])**2]])*eps0\n",
    "    muA  = np.array([[1., 0, 0], [0, 1., 0], [0, 0, 1.]])*mu0\n",
    "    xiA  = np.zeros((3,3), dtype = complex)\n",
    "    zetA = np.zeros((3,3), dtype = complex)\n",
    "    dA   = length\n",
    "    \n",
    "    \n",
    "    Uniform_ep_list = [epsA]\n",
    "    Uniform_mu_list = [muA]\n",
    "    Uniform_xi_list = [xiA]\n",
    "    Uniform_zeta_list = [zetA]\n",
    "    thickness_list  = [dA]\n",
    "    \n",
    "    M1 = MakeMMatrix(omega[i], 0, kx0, ky0, Uniform_ep_list, Uniform_mu_list, Uniform_xi_list, Uniform_zeta_list, thickness_list)\n",
    "        \n",
    "    q1[i], sort  = BandStructure(M1, thickness_list)\n",
    "    \n",
    "    \n",
    "    Uniform_ep_list = []\n",
    "    Uniform_mu_list = []\n",
    "    Uniform_xi_list = []\n",
    "    Uniform_zeta_list = []\n",
    "    thickness_list  = []"
   ]
  },
  {
   "cell_type": "code",
   "execution_count": 34,
   "id": "e8870da7",
   "metadata": {},
   "outputs": [
    {
     "data": {
      "text/plain": [
       "(-3.141592653589793, 3.141592653589793)"
      ]
     },
     "execution_count": 34,
     "metadata": {},
     "output_type": "execute_result"
    },
    {
     "data": {
      "image/png": "[encoded data removed]",
      "text/plain": [
       "<Figure size 432x288 with 1 Axes>"
      ]
     },
     "metadata": {
      "needs_background": "light"
     },
     "output_type": "display_data"
    }
   ],
   "source": [
    "from matplotlib import pyplot as plt \n",
    "\n",
    "plt.figure(figsize=(6,4))\n",
    "\n",
    "#plt.title(r'$\\omega(k_z)$ band structure for fixed $k_x L = 0.05$', fontname = \"Arial\", fontsize = 15)\n",
    "plt.xlabel(r\"$k_z L$\", fontname = \"Arial\", fontsize = 20)\n",
    "plt.ylabel(r\"$\\omega/\\omega_p$\", fontsize = 20)\n",
    "plt.scatter(q1[:, 0], omega/omega_p,s = 0.5, marker='.',  color = \"black\")\n",
    "plt.scatter(q1[:, 1], omega/omega_p,s = 0.5, marker='.', color = \"black\")\n",
    "plt.scatter(q1[:, 2], omega/omega_p,s = 0.5, marker='.', color = \"black\")\n",
    "plt.scatter(q1[:, 3], omega/omega_p,s = 0.5, marker='.', color = \"black\")\n",
    "plt.axvline(0, linestyle='--', color='k')\n",
    "plt.xlim([-np.pi, np.pi])"
   ]
  },
  {
   "cell_type": "code",
   "execution_count": 30,
   "id": "a944ed06",
   "metadata": {},
   "outputs": [
    {
     "data": {
      "text/plain": [
       "1.1600225402392335"
      ]
     },
     "execution_count": 30,
     "metadata": {},
     "output_type": "execute_result"
    }
   ],
   "source": [
    "q1[7691,2]"
   ]
  },
  {
   "cell_type": "code",
   "execution_count": 45,
   "id": "9bb5b5d4",
   "metadata": {},
   "outputs": [],
   "source": [
    "import numpy as np\n",
    "import scipy as sp\n",
    "import scipy.constants as spcs\n",
    "from numpy.linalg import matrix_power\n",
    "\n",
    "# universal constants \n",
    "c       = spcs.c\n",
    "eps0    = spcs.epsilon_0\n",
    "mu0     = spcs.mu_0\n",
    "eta0    = np.sqrt(mu0/eps0)\n",
    "\n",
    "# problem parameters \n",
    "length  = 1e-6\n",
    "omega_p = 0.5*np.pi*c/length\n",
    "n1      = 1\n",
    "n2      = 1\n",
    "#phi     = np.linspace(0, 2*np.pi, 11)\n",
    "#theta   = np.linspace(0, np.pi, 1001)\n",
    "phi1    = 0.\n",
    "\n",
    "dk      = 2221.44\n",
    "\n",
    "\n",
    "kx0     = 0.\n",
    "ky0     = 0.\n",
    "\n",
    "\n",
    "omega   = np.linspace((1-1e-3)*omega_p, (1+1.1e-3)*omega_p, 1001)\n",
    "Omega   = 1.2*omega_p\n",
    "\n",
    "q1      = np.zeros((len(omega), 4), dtype = float)\n",
    "\n",
    "for j in range(len(omega)):\n",
    "    exx  = 1 - omega_p**2/(omega[j]**2 - Omega**2)\n",
    "    exy  = -1j*Omega/omega[j]*(omega_p**2/(omega[j]**2 - Omega**2))        \n",
    "    epsA = np.array([[exx, exy, 0], [-exy, exx, 0], [0, 0, 1 - (omega_p/omega[j])**2]])*eps0\n",
    "    muA  = np.array([[1., 0, 0], [0, 1., 0], [0, 0, 1.]])*mu0\n",
    "    xiA  = np.zeros((3,3), dtype = complex)\n",
    "    zetA = np.zeros((3,3), dtype = complex)\n",
    "    dA   = length\n",
    "        \n",
    "    rot  = np.array([[np.cos(phi1), -np.sin(phi1), 0], [np.sin(phi1), np.cos(phi1), 0], [0, 0, 1]])\n",
    "    \n",
    "    Uniform_ep_list = [epsA, rot @ epsA @ np.linalg.inv(rot)]\n",
    "    Uniform_mu_list   = [muA, rot @ muA @ np.linalg.inv(rot)]\n",
    "    Uniform_xi_list   = [xiA, rot @ xiA @ np.linalg.inv(rot)]\n",
    "    Uniform_zeta_list = [zetA, rot @ zetA @ np.linalg.inv(rot)]\n",
    "    thickness_list    = [dA/2, dA/2]\n",
    "\n",
    "    M1 = MakeMMatrix(omega[j], 0, kx0, ky0, Uniform_ep_list, Uniform_mu_list, Uniform_xi_list, Uniform_zeta_list, thickness_list)\n",
    "    M2 = MakeMMatrix(omega[j], 1, kx0, ky0, Uniform_ep_list, Uniform_mu_list, Uniform_xi_list, Uniform_zeta_list, thickness_list)\n",
    "    #M3 = MakeMMatrix(omega, 2, kx0[j], ky0, Uniform_ep_list, Uniform_mu_list, Uniform_xi_list, Uniform_zeta_list, thickness_list)\n",
    " \n",
    "    \n",
    "    q1[j], sort = BandStructure(M2 @ M1, thickness_list)"
   ]
  },
  {
   "cell_type": "code",
   "execution_count": 47,
   "id": "6c191502",
   "metadata": {},
   "outputs": [
    {
     "data": {
      "text/plain": [
       "<matplotlib.collections.PathCollection at 0x7fab006798b0>"
      ]
     },
     "execution_count": 47,
     "metadata": {},
     "output_type": "execute_result"
    },
    {
     "data": {
      "image/png": "[encoded data removed]",
      "text/plain": [
       "<Figure size 432x288 with 1 Axes>"
      ]
     },
     "metadata": {
      "needs_background": "light"
     },
     "output_type": "display_data"
    }
   ],
   "source": [
    "import matplotlib.pyplot as plt\n",
    "\n",
    "plt.ylabel(r\"$dk_zdw$\", fontsize = 20)\n",
    "plt.xlabel(r\"$(k_y L)^2$\", fontsize = 20)\n",
    "plt.scatter((omega/omega_p-1), (q1[:,2]-1.1600225402392335),s = 2, marker='.',  color = \"black\")\n",
    "#plt.plot((omega/omega_p-1)**2, (omega/omega_p-1)**2*0.5*np.pi*np.sqrt(2))"
   ]
  },
  {
   "cell_type": "code",
   "execution_count": 35,
   "id": "110a4c46",
   "metadata": {},
   "outputs": [
    {
     "data": {
      "text/plain": [
       "array([-5.84568575e-02,  1.77607234e-06])"
      ]
     },
     "execution_count": 35,
     "metadata": {},
     "output_type": "execute_result"
    }
   ],
   "source": [
    "np.polyfit((kx0*length)**2, -(q1[:,2]-1.1600225402392335)*1e-3, 1)"
   ]
  },
  {
   "cell_type": "code",
   "execution_count": 42,
   "id": "f41ab14f",
   "metadata": {},
   "outputs": [
    {
     "data": {
      "text/plain": [
       "array([ 5.90860064e-02, -1.95034238e-06])"
      ]
     },
     "execution_count": 42,
     "metadata": {},
     "output_type": "execute_result"
    }
   ],
   "source": [
    "np.polyfit((ky0*length)**2, -(q1[:,2]-1.1600225402392335)*1e-3, 1)"
   ]
  },
  {
   "cell_type": "code",
   "execution_count": 48,
   "id": "5ad79c52",
   "metadata": {},
   "outputs": [
    {
     "data": {
      "text/plain": [
       "array([1.86317593e+00, 8.73166606e-05])"
      ]
     },
     "execution_count": 48,
     "metadata": {},
     "output_type": "execute_result"
    }
   ],
   "source": [
    "np.polyfit((omega/omega_p-1), (q1[:,2]-1.1600225402392335), 1)"
   ]
  },
  {
   "cell_type": "code",
   "execution_count": 50,
   "id": "16143510",
   "metadata": {},
   "outputs": [
    {
     "name": "stderr",
     "output_type": "stream",
     "text": [
      "<ipython-input-50-4c668342d8bb>:72: ComplexWarning: Casting complex values to real discards the imaginary part\n",
      "  weps1[j][i]  = np.array([[1+omega_p**2*(omega**2 + Omega**2)/(omega**2 - Omega**2)**2, 1j*2*Omega*omega*omega_p**2/(omega**2 - Omega**2)**2, 0], [-1j*2*Omega*omega*omega_p**2/(omega**2 - Omega**2)**2, 1+omega_p**2*(omega**2 + Omega**2)/(omega**2 - Omega**2)**2, 0], [0, 0, 1+omega_p**2/omega**2]])*eps0\n",
      "<ipython-input-50-4c668342d8bb>:141: ComplexWarning: Casting complex values to real discards the imaginary part\n",
      "  weps1[j][i]  = np.array([[1+omega_p**2*(omega**2 + Omega**2)/(omega**2 - Omega**2)**2, 1j*2*Omega*omega*omega_p**2/(omega**2 - Omega**2)**2, 0], [-1j*2*Omega*omega*omega_p**2/(omega**2 - Omega**2)**2, 1+omega_p**2*(omega**2 + Omega**2)/(omega**2 - Omega**2)**2, 0], [0, 0, 1+omega_p**2/omega**2]])*eps0\n"
     ]
    }
   ],
   "source": [
    "import numpy as np\n",
    "import scipy as sp\n",
    "import scipy.constants as spcs\n",
    "from numpy.linalg import matrix_power\n",
    "\n",
    "# universal constants \n",
    "c       = spcs.c\n",
    "eps0    = spcs.epsilon_0\n",
    "mu0     = spcs.mu_0\n",
    "eta0    = np.sqrt(mu0/eps0)\n",
    "\n",
    "# problem parameters \n",
    "length  = 1e-6\n",
    "omega_p = 0.5*np.pi*c/length\n",
    "n1      = 1\n",
    "n2      = 1\n",
    "phi     = np.linspace(0, 2*np.pi, 11)\n",
    "theta   = np.linspace(0.001*np.pi, 0.999*np.pi, 1001)\n",
    "phi1    = 0.\n",
    "thetar  = np.arcsin(n1*np.sin(theta)/n2)\n",
    "\n",
    "dk      = 2221.44\n",
    "Omega   = 1.2*omega_p\n",
    "\n",
    "beta    = 1.86317593e+00\n",
    "alpha1  = 5.84568575e-02\n",
    "alpha2  = 5.84568575e-02\n",
    "a1      = 5.90860064e-02\n",
    "a2      = 5.90860064e-02\n",
    "\n",
    "ve1     = np.zeros((len(theta), len(phi), 3, 4), dtype = complex)\n",
    "vh1     = np.zeros((len(theta), len(phi), 3, 4), dtype = complex)\n",
    "ve2     = np.zeros((len(theta), len(phi), 3, 4), dtype = complex)\n",
    "vh2     = np.zeros((len(theta), len(phi), 3, 4), dtype = complex)\n",
    "ve3     = np.zeros((len(theta), len(phi), 3, 4), dtype = complex)\n",
    "vh3     = np.zeros((len(theta), len(phi), 3, 4), dtype = complex)\n",
    "\n",
    "q1      = np.zeros((len(theta), len(phi), 4), dtype = float)\n",
    "\n",
    "\n",
    "weps1   = np.zeros((len(theta), len(phi), 3, 3), dtype = float)\n",
    "weps2   = np.zeros((len(theta), len(phi), 3, 3), dtype = float)\n",
    "weps3   = np.zeros((len(theta), len(phi), 3, 3), dtype = float)\n",
    "\n",
    "dw      = np.zeros((len(theta), len(phi)), dtype = float)\n",
    "\n",
    "for j in range(len(theta)):\n",
    "    for i in range(len(phi)):\n",
    "        \n",
    "        kx0 = dk*np.sin(theta[j])*np.cos(phi[i])\n",
    "        ky0 = dk*np.sin(theta[j])*np.sin(phi[i])\n",
    "        dkz = dk*np.cos(theta[j])\n",
    "        \n",
    "        if dkz > 0:\n",
    "            dw[j, i] = (dkz*length+np.sqrt((dkz*length)**2+4*alpha1*beta*(kx0*length)**2+4*alpha2*beta*(ky0*length)**2))/(2*beta)\n",
    "        else:\n",
    "            dw[j, i] = (dkz*length+np.sqrt((dkz*length)**2+4*alpha1*beta*(kx0*length)**2+4*alpha2*beta*(ky0*length)**2))/(2*beta)\n",
    "        \n",
    "        omega = (1+dw[j, i])*omega_p\n",
    "        \n",
    "        exx  = 1 - omega_p**2/(omega**2 - Omega**2)\n",
    "        exy  = -1j*Omega/omega*(omega_p**2/(omega**2 - Omega**2)) \n",
    "        \n",
    "        epsA = np.array([[exx, exy, 0], [-exy, exx, 0], [0, 0, 1 - (omega_p/omega)**2]])*eps0\n",
    "        muA  = np.array([[1., 0, 0], [0, 1., 0], [0, 0, 1.]])*mu0\n",
    "        xiA  = np.zeros((3,3), dtype = complex)\n",
    "        zetA = np.zeros((3,3), dtype = complex)\n",
    "        dA   = length\n",
    "        \n",
    "        rot  = np.array([[np.cos(phi1), -np.sin(phi1), 0], [np.sin(phi1), np.cos(phi1), 0], [0, 0, 1]])\n",
    "    \n",
    "        weps1[j][i]  = np.array([[1+omega_p**2*(omega**2 + Omega**2)/(omega**2 - Omega**2)**2, 1j*2*Omega*omega*omega_p**2/(omega**2 - Omega**2)**2, 0], [-1j*2*Omega*omega*omega_p**2/(omega**2 - Omega**2)**2, 1+omega_p**2*(omega**2 + Omega**2)/(omega**2 - Omega**2)**2, 0], [0, 0, 1+omega_p**2/omega**2]])*eps0\n",
    "        weps2[j][i]  = rot @ weps1[j][i] @ np.linalg.inv(rot)\n",
    "        weps3[j][i]  = matrix_power(rot, 2) @ weps1[j][i] @ matrix_power(rot, -2)\n",
    "        \n",
    "        Uniform_ep_list = [epsA, rot @ epsA @ np.linalg.inv(rot), matrix_power(rot, 2) @ epsA @ matrix_power(rot, -2)]\n",
    "        Uniform_mu_list   = [muA, rot @ muA @ np.linalg.inv(rot), matrix_power(rot, 2) @ muA @ matrix_power(rot, -2)]\n",
    "        Uniform_xi_list   = [xiA, rot @ xiA @ np.linalg.inv(rot), matrix_power(rot, 2) @ xiA @ matrix_power(rot, -2)]\n",
    "        Uniform_zeta_list = [zetA, rot @ zetA @ np.linalg.inv(rot), matrix_power(rot, 2) @ zetA @ matrix_power(rot, -2)]\n",
    "        thickness_list    = [dA/3, dA/3, dA/3]\n",
    "\n",
    "        M1 = MakeMMatrix(omega, 0, kx0, ky0, Uniform_ep_list, Uniform_mu_list, Uniform_xi_list, Uniform_zeta_list, thickness_list)\n",
    "        M2 = MakeMMatrix(omega, 1, kx0, ky0, Uniform_ep_list, Uniform_mu_list, Uniform_xi_list, Uniform_zeta_list, thickness_list)\n",
    "        M3 = MakeMMatrix(omega, 2, kx0, ky0, Uniform_ep_list, Uniform_mu_list, Uniform_xi_list, Uniform_zeta_list, thickness_list)\n",
    " \n",
    "    \n",
    "        q1[j, i], sort = BandStructure(M3 @ M2 @ M1, thickness_list)\n",
    "\n",
    "\n",
    "        ve1[j, i] = Electric(M3 @ M2 @ M1, omega, 0, kx0, ky0, Uniform_ep_list, Uniform_mu_list, Uniform_xi_list, Uniform_zeta_list, thickness_list)\n",
    "        vh1[j, i] = Magnetic(M3 @ M2 @ M1, omega, 0, kx0, ky0, Uniform_ep_list, Uniform_mu_list, Uniform_xi_list, Uniform_zeta_list, thickness_list)\n",
    "        ve2[j, i] = Electric(M3 @ M2 @ M1, omega, 1, kx0, ky0, Uniform_ep_list, Uniform_mu_list, Uniform_xi_list, Uniform_zeta_list, thickness_list)\n",
    "        vh2[j, i] = Magnetic(M3 @ M2 @ M1, omega, 1, kx0, ky0, Uniform_ep_list, Uniform_mu_list, Uniform_xi_list, Uniform_zeta_list, thickness_list)\n",
    "        ve3[j, i] = Electric(M3 @ M2 @ M1, omega, 2, kx0, ky0, Uniform_ep_list, Uniform_mu_list, Uniform_xi_list, Uniform_zeta_list, thickness_list)\n",
    "        vh3[j, i] = Magnetic(M3 @ M2 @ M1, omega, 2, kx0, ky0, Uniform_ep_list, Uniform_mu_list, Uniform_xi_list, Uniform_zeta_list, thickness_list)\n",
    "\n",
    "\n",
    "    #inner[j, i] = Poynting(weps, Uniform_mu_list[0], Uniform_xi_list[0], ve1[i,:,0], ve1[:,0], vh1[:,0], vh1[:,0])\n",
    "\n",
    "berry1 = np.zeros(len(theta), dtype = float)\n",
    "berry2 = np.zeros(len(theta), dtype = float)\n",
    "\n",
    "wmu   = mu0*np.eye(3)\n",
    "wxi   = np.zeros((3,3))*1j*np.sqrt(mu0*eps0)\n",
    "\n",
    "for j in range(len(theta)):\n",
    "    \n",
    "    \n",
    "    for i in range(len(phi)-1):\n",
    "        \n",
    "        inner = EnDensity3(weps1[j][i], weps2[j][i], weps3[j][i], muA, rot @ muA @ np.linalg.inv(rot), matrix_power(rot, 2) @ muA @ matrix_power(rot, -2),  ve1[j,i,:,3], ve2[j,i,:,3], ve3[j,i,:,3], ve1[j,i+1, :,3], ve2[j,i+1, :,3], ve3[j,i+1, :,3], vh1[j,i,:,3], vh2[j,i,:,3], vh3[j,i,:,3], vh1[j,i+1, :,3], vh2[j,i+1, :,3], vh3[j,i+1, :,3])\n",
    "        \n",
    "        berry1[j] = berry1[j] - np.imag(np.log(inner))\n",
    "\n",
    "        \n",
    "for j in range(len(theta)):\n",
    "    for i in range(len(phi)):\n",
    "        \n",
    "        kx0 = dk*np.sin(theta[j])*np.cos(phi[i])\n",
    "        ky0 = dk*np.sin(theta[j])*np.sin(phi[i])\n",
    "        dkz = dk*np.cos(theta[j])\n",
    "        \n",
    "        if dkz > 0:\n",
    "            dw[j, i] = (dkz*length-np.sqrt((dkz*length)**2+4*a1*beta*(kx0*length)**2+4*a2*beta*(ky0*length)**2))/(2*beta)\n",
    "        else:\n",
    "            dw[j, i] = (dkz*length-np.sqrt((dkz*length)**2+4*a1*beta*(kx0*length)**2+4*a2*beta*(ky0*length)**2))/(2*beta)\n",
    "        \n",
    "        omega = (1+dw[j, i])*omega_p\n",
    "        \n",
    "        exx  = 1 - omega_p**2/(omega**2 - Omega**2)\n",
    "        exy  = -1j*Omega/omega*(omega_p**2/(omega**2 - Omega**2)) \n",
    "        \n",
    "        epsA = np.array([[exx, exy, 0], [-exy, exx, 0], [0, 0, 1 - (omega_p/omega)**2]])*eps0\n",
    "        muA  = np.array([[1., 0, 0], [0, 1., 0], [0, 0, 1.]])*mu0\n",
    "        xiA  = np.zeros((3,3), dtype = complex)\n",
    "        zetA = np.zeros((3,3), dtype = complex)\n",
    "        dA   = length\n",
    "        \n",
    "        rot  = np.array([[np.cos(phi1), -np.sin(phi1), 0], [np.sin(phi1), np.cos(phi1), 0], [0, 0, 1]])\n",
    "    \n",
    "        weps1[j][i]  = np.array([[1+omega_p**2*(omega**2 + Omega**2)/(omega**2 - Omega**2)**2, 1j*2*Omega*omega*omega_p**2/(omega**2 - Omega**2)**2, 0], [-1j*2*Omega*omega*omega_p**2/(omega**2 - Omega**2)**2, 1+omega_p**2*(omega**2 + Omega**2)/(omega**2 - Omega**2)**2, 0], [0, 0, 1+omega_p**2/omega**2]])*eps0\n",
    "        weps2[j][i]  = rot @ weps1[j][i] @ np.linalg.inv(rot)\n",
    "        weps3[j][i]  = matrix_power(rot, 2) @ weps1[j][i] @ matrix_power(rot, -2)\n",
    "        \n",
    "        Uniform_ep_list = [epsA, rot @ epsA @ np.linalg.inv(rot), matrix_power(rot, 2) @ epsA @ matrix_power(rot, -2)]\n",
    "        Uniform_mu_list   = [muA, rot @ muA @ np.linalg.inv(rot), matrix_power(rot, 2) @ muA @ matrix_power(rot, -2)]\n",
    "        Uniform_xi_list   = [xiA, rot @ xiA @ np.linalg.inv(rot), matrix_power(rot, 2) @ xiA @ matrix_power(rot, -2)]\n",
    "        Uniform_zeta_list = [zetA, rot @ zetA @ np.linalg.inv(rot), matrix_power(rot, 2) @ zetA @ matrix_power(rot, -2)]\n",
    "        thickness_list    = [dA/3, dA/3, dA/3]\n",
    "\n",
    "        M1 = MakeMMatrix(omega, 0, kx0, ky0, Uniform_ep_list, Uniform_mu_list, Uniform_xi_list, Uniform_zeta_list, thickness_list)\n",
    "        M2 = MakeMMatrix(omega, 1, kx0, ky0, Uniform_ep_list, Uniform_mu_list, Uniform_xi_list, Uniform_zeta_list, thickness_list)\n",
    "        M3 = MakeMMatrix(omega, 2, kx0, ky0, Uniform_ep_list, Uniform_mu_list, Uniform_xi_list, Uniform_zeta_list, thickness_list)\n",
    " \n",
    "    \n",
    "        q1[j, i], sort = BandStructure(M3 @ M2 @ M1, thickness_list)\n",
    "\n",
    "\n",
    "        ve1[j, i] = Electric(M3 @ M2 @ M1, omega, 0, kx0, ky0, Uniform_ep_list, Uniform_mu_list, Uniform_xi_list, Uniform_zeta_list, thickness_list)\n",
    "        vh1[j, i] = Magnetic(M3 @ M2 @ M1, omega, 0, kx0, ky0, Uniform_ep_list, Uniform_mu_list, Uniform_xi_list, Uniform_zeta_list, thickness_list)\n",
    "        ve2[j, i] = Electric(M3 @ M2 @ M1, omega, 1, kx0, ky0, Uniform_ep_list, Uniform_mu_list, Uniform_xi_list, Uniform_zeta_list, thickness_list)\n",
    "        vh2[j, i] = Magnetic(M3 @ M2 @ M1, omega, 1, kx0, ky0, Uniform_ep_list, Uniform_mu_list, Uniform_xi_list, Uniform_zeta_list, thickness_list)\n",
    "        ve3[j, i] = Electric(M3 @ M2 @ M1, omega, 2, kx0, ky0, Uniform_ep_list, Uniform_mu_list, Uniform_xi_list, Uniform_zeta_list, thickness_list)\n",
    "        vh3[j, i] = Magnetic(M3 @ M2 @ M1, omega, 2, kx0, ky0, Uniform_ep_list, Uniform_mu_list, Uniform_xi_list, Uniform_zeta_list, thickness_list)\n",
    "\n",
    "\n",
    "\n",
    "for j in range(len(theta)):\n",
    "    for i in range(len(phi)-1):\n",
    "        \n",
    "        inner = EnDensity3(weps1[j][i], weps2[j][i], weps3[j][i], muA, rot @ muA @ np.linalg.inv(rot), matrix_power(rot, 2) @ muA @ matrix_power(rot, -2),  ve1[j,i,:,3], ve2[j,i,:,3], ve3[j,i,:,3], ve1[j,i+1, :,3], ve2[j,i+1, :,3], ve3[j,i+1, :,3], vh1[j,i,:,3], vh2[j,i,:,3], vh3[j,i,:,3], vh1[j,i+1, :,3], vh2[j,i+1, :,3], vh3[j,i+1, :,3])\n",
    "        \n",
    "        berry2[j] = berry2[j] - np.imag(np.log(inner))"
   ]
  },
  {
   "cell_type": "code",
   "execution_count": 52,
   "id": "74f143f4",
   "metadata": {},
   "outputs": [
    {
     "data": {
      "text/plain": [
       "<matplotlib.legend.Legend at 0x7fab30657820>"
      ]
     },
     "execution_count": 52,
     "metadata": {},
     "output_type": "execute_result"
    },
    {
     "data": {
      "image/png": "[encoded data removed]",
      "text/plain": [
       "<Figure size 432x288 with 1 Axes>"
      ]
     },
     "metadata": {
      "needs_background": "light"
     },
     "output_type": "display_data"
    }
   ],
   "source": [
    "import matplotlib.pyplot as plt\n",
    "\n",
    "plt.xlabel(r\"$\\theta/\\pi$\", fontsize = 20)\n",
    "plt.ylabel(r\"$\\beta/\\pi$\", fontsize = 20)\n",
    "plt.scatter(theta/np.pi, (berry1)/np.pi,s = 5, marker='.',  color = \"red\")\n",
    "plt.scatter(theta/np.pi, berry2/np.pi,s = 5, marker='.',  color = \"black\")\n",
    "plt.legend(['Transverse', 'Longitudinal'], fontsize=15)"
   ]
  },
  {
   "cell_type": "markdown",
   "id": "2e5f1cf0",
   "metadata": {},
   "source": [
    "### for weaker magnetic field. Cycloton frequency $\\omega_c = 0.2\\omega_p$."
   ]
  },
  {
   "cell_type": "code",
   "execution_count": 6,
   "id": "fa5cdb4a",
   "metadata": {},
   "outputs": [],
   "source": [
    "import numpy as np\n",
    "import scipy as sp\n",
    "import scipy.constants as spcs\n",
    "from numpy.linalg import matrix_power\n",
    "\n",
    "# universal constants \n",
    "c       = spcs.c\n",
    "eps0    = spcs.epsilon_0\n",
    "mu0     = spcs.mu_0\n",
    "eta0    = np.sqrt(mu0/eps0)\n",
    "\n",
    "# problem parameters \n",
    "m       = 10000\n",
    "length  = 1e-6\n",
    "omega   = np.linspace(0.5e-4*np.pi*c/length, 0.65*np.pi*c/length, m)\n",
    "n1      = 1\n",
    "n2      = 1\n",
    "phi1    = 0.\n",
    "\n",
    "\n",
    "\n",
    "omega_p = 0.5*np.pi*c/length\n",
    "Omega   = .2*omega_p\n",
    "\n",
    "kx0     = 0.\n",
    "ky0     = 0.\n",
    "\n",
    "    \n",
    "# material parameters\n",
    "\n",
    "\n",
    "q1    = np.zeros((m, 4), dtype = float)\n",
    "\n",
    "for i in range(m):\n",
    "    exx  = 1 - omega_p**2/(omega[i]**2 - Omega**2)\n",
    "    exy  = -1j*Omega/omega[i]*(omega_p**2/(omega[i]**2 - Omega**2))\n",
    "    epsA = np.array([[exx, exy, 0], [-exy, exx, 0], [0, 0, 1 - (omega_p/omega[i])**2]])*eps0\n",
    "    muA  = np.array([[1., 0, 0], [0, 1., 0], [0, 0, 1.]])*mu0\n",
    "    xiA  = np.zeros((3,3), dtype = complex)\n",
    "    zetA = np.zeros((3,3), dtype = complex)\n",
    "    dA   = length\n",
    "    \n",
    "    rot  = np.array([[np.cos(phi1), -np.sin(phi1), 0], [np.sin(phi1), np.cos(phi1), 0], [0, 0, 1]])\n",
    "    \n",
    "    Uniform_ep_list = [epsA, rot @ epsA @ np.linalg.inv(rot)]\n",
    "    Uniform_mu_list = [muA, rot @ muA @ np.linalg.inv(rot)]\n",
    "    Uniform_xi_list = [xiA, rot @ xiA @ np.linalg.inv(rot)]\n",
    "    Uniform_zeta_list = [zetA, rot @ zetA @ np.linalg.inv(rot)]\n",
    "    thickness_list  = [dA/2, dA/2]\n",
    "    \n",
    "    M1 = MakeMMatrix(omega[i], 0, kx0, ky0, Uniform_ep_list, Uniform_mu_list, Uniform_xi_list, Uniform_zeta_list, thickness_list)\n",
    "    M2 = MakeMMatrix(omega[i], 1, kx0, ky0, Uniform_ep_list, Uniform_mu_list, Uniform_xi_list, Uniform_zeta_list, thickness_list)\n",
    "    # M3 = MakeMMatrix(omega[i], 2, kx0, ky0, Uniform_ep_list, Uniform_mu_list, Uniform_xi_list, Uniform_zeta_list, thickness_list)\n",
    " \n",
    "        \n",
    "    q1[i], sort  = BandStructure(M2 @ M1, thickness_list)\n",
    "    \n",
    "    \n",
    "    Uniform_ep_list = []\n",
    "    Uniform_mu_list = []\n",
    "    Uniform_xi_list = []\n",
    "    Uniform_zeta_list = []\n",
    "    thickness_list  = []"
   ]
  },
  {
   "cell_type": "code",
   "execution_count": 7,
   "id": "72857656",
   "metadata": {},
   "outputs": [
    {
     "data": {
      "text/plain": [
       "(-3.141592653589793, 3.141592653589793)"
      ]
     },
     "execution_count": 7,
     "metadata": {},
     "output_type": "execute_result"
    },
    {
     "data": {
      "image/png": "[encoded data removed]",
      "text/plain": [
       "<Figure size 432x288 with 1 Axes>"
      ]
     },
     "metadata": {
      "needs_background": "light"
     },
     "output_type": "display_data"
    }
   ],
   "source": [
    "from matplotlib import pyplot as plt \n",
    "\n",
    "plt.figure(figsize=(6,4))\n",
    "\n",
    "#plt.title(r'$\\omega(k_z)$ band structure for fixed $k_x L = 0.05$', fontname = \"Arial\", fontsize = 15)\n",
    "plt.xlabel(r\"$k_z L$\", fontname = \"Arial\", fontsize = 20)\n",
    "plt.ylabel(r\"$\\omega/\\omega_p$\", fontsize = 20)\n",
    "plt.scatter(q1[:, 0], omega/omega_p,s = 0.1, marker='.',  color = \"black\")\n",
    "plt.scatter(q1[:, 1], omega/omega_p,s = 0.1, marker='.', color = \"black\")\n",
    "plt.scatter(q1[:, 2], omega/omega_p,s = 0.1, marker='.', color = \"black\")\n",
    "plt.scatter(q1[:, 3], omega/omega_p,s = 0.1, marker='.', color = \"black\")\n",
    "plt.axvline(0, linestyle='--', color='k')\n",
    "plt.xlim([-np.pi, np.pi])"
   ]
  },
  {
   "cell_type": "code",
   "execution_count": 59,
   "id": "3b3ebbfb",
   "metadata": {},
   "outputs": [
    {
     "data": {
      "text/plain": [
       "0.6411068862029584"
      ]
     },
     "execution_count": 59,
     "metadata": {},
     "output_type": "execute_result"
    }
   ],
   "source": [
    "q1[7691, 1]"
   ]
  },
  {
   "cell_type": "code",
   "execution_count": 78,
   "id": "837e4b02",
   "metadata": {},
   "outputs": [],
   "source": [
    "import numpy as np\n",
    "import scipy as sp\n",
    "import scipy.constants as spcs\n",
    "from numpy.linalg import matrix_power\n",
    "\n",
    "# universal constants \n",
    "c       = spcs.c\n",
    "eps0    = spcs.epsilon_0\n",
    "mu0     = spcs.mu_0\n",
    "eta0    = np.sqrt(mu0/eps0)\n",
    "\n",
    "# problem parameters \n",
    "length  = 1e-6\n",
    "omega_p = 0.5*np.pi*c/length\n",
    "n1      = 1\n",
    "n2      = 1\n",
    "#phi     = np.linspace(0, 2*np.pi, 11)\n",
    "#theta   = np.linspace(0, np.pi, 1001)\n",
    "phi1    = 0.\n",
    "\n",
    "dk      = 2221.44\n",
    "\n",
    "\n",
    "kx0     = 0.\n",
    "ky0     = np.linspace(-dk, dk, 1001)\n",
    "\n",
    "\n",
    "omega   = (1+1e-3)*omega_p\n",
    "Omega   = .2*omega_p\n",
    "\n",
    "q1      = np.zeros((len(ky0), 4), dtype = float)\n",
    "\n",
    "for j in range(len(ky0)):\n",
    "    exx  = 1 - omega_p**2/(omega**2 - Omega**2)\n",
    "    exy  = -1j*Omega/omega*(omega_p**2/(omega**2 - Omega**2))        \n",
    "    epsA = np.array([[exx, exy, 0], [-exy, exx, 0], [0, 0, 1 - (omega_p/omega)**2]])*eps0\n",
    "    muA  = np.array([[1., 0, 0], [0, 1., 0], [0, 0, 1.]])*mu0\n",
    "    xiA  = np.zeros((3,3), dtype = complex)\n",
    "    zetA = np.zeros((3,3), dtype = complex)\n",
    "    dA   = length\n",
    "        \n",
    "    rot  = np.array([[np.cos(phi1), -np.sin(phi1), 0], [np.sin(phi1), np.cos(phi1), 0], [0, 0, 1]])\n",
    "    \n",
    "    Uniform_ep_list = [epsA, rot @ epsA @ np.linalg.inv(rot)]\n",
    "    Uniform_mu_list   = [muA, rot @ muA @ np.linalg.inv(rot)]\n",
    "    Uniform_xi_list   = [xiA, rot @ xiA @ np.linalg.inv(rot)]\n",
    "    Uniform_zeta_list = [zetA, rot @ zetA @ np.linalg.inv(rot)]\n",
    "    thickness_list    = [dA/2, dA/2]\n",
    "\n",
    "    M1 = MakeMMatrix(omega, 0, kx0, ky0[j], Uniform_ep_list, Uniform_mu_list, Uniform_xi_list, Uniform_zeta_list, thickness_list)\n",
    "    M2 = MakeMMatrix(omega, 1, kx0, ky0[j], Uniform_ep_list, Uniform_mu_list, Uniform_xi_list, Uniform_zeta_list, thickness_list)\n",
    "    #M3 = MakeMMatrix(omega, 2, kx0[j], ky0, Uniform_ep_list, Uniform_mu_list, Uniform_xi_list, Uniform_zeta_list, thickness_list)\n",
    " \n",
    "    \n",
    "    q1[j], sort = BandStructure(M2 @ M1, thickness_list)"
   ]
  },
  {
   "cell_type": "code",
   "execution_count": 64,
   "id": "e6f7b04e",
   "metadata": {},
   "outputs": [
    {
     "data": {
      "text/plain": [
       "<matplotlib.collections.PathCollection at 0x7fab40fa4370>"
      ]
     },
     "execution_count": 64,
     "metadata": {},
     "output_type": "execute_result"
    },
    {
     "data": {
      "image/png": "[encoded data removed]",
      "text/plain": [
       "<Figure size 432x288 with 1 Axes>"
      ]
     },
     "metadata": {
      "needs_background": "light"
     },
     "output_type": "display_data"
    }
   ],
   "source": [
    "import matplotlib.pyplot as plt\n",
    "\n",
    "plt.ylabel(r\"$dk_zdw$\", fontsize = 20)\n",
    "plt.xlabel(r\"$(k_y L)^2$\", fontsize = 20)\n",
    "plt.scatter((omega/omega_p-1), (q1[:,1]-0.6411068862029584),s = 2, marker='.',  color = \"black\")\n",
    "#plt.plot((omega/omega_p-1)**2, (omega/omega_p-1)**2*0.5*np.pi*np.sqrt(2))"
   ]
  },
  {
   "cell_type": "code",
   "execution_count": 66,
   "id": "bd77393e",
   "metadata": {},
   "outputs": [
    {
     "data": {
      "text/plain": [
       "array([3.57969593e+00, 1.65159129e-04])"
      ]
     },
     "execution_count": 66,
     "metadata": {},
     "output_type": "execute_result"
    }
   ],
   "source": [
    "np.polyfit((omega/omega_p-1), (q1[:,1]-0.6411068862029584), 1)"
   ]
  },
  {
   "cell_type": "code",
   "execution_count": 68,
   "id": "e15b5b09",
   "metadata": {},
   "outputs": [
    {
     "data": {
      "text/plain": [
       "array([-3.19178813e-02,  3.42030976e-06])"
      ]
     },
     "execution_count": 68,
     "metadata": {},
     "output_type": "execute_result"
    }
   ],
   "source": [
    "np.polyfit((kx0*length)**2, -(q1[:,1]-0.6411068862029584)*1e-3, 1)"
   ]
  },
  {
   "cell_type": "code",
   "execution_count": 79,
   "id": "ce61d062",
   "metadata": {},
   "outputs": [
    {
     "data": {
      "text/plain": [
       "array([ 3.30516225e-02, -3.74068078e-06])"
      ]
     },
     "execution_count": 79,
     "metadata": {},
     "output_type": "execute_result"
    }
   ],
   "source": [
    "np.polyfit((ky0*length)**2, -(q1[:,1]-0.6411068862029584)*1e-3, 1)"
   ]
  },
  {
   "cell_type": "code",
   "execution_count": 80,
   "id": "b874df63",
   "metadata": {},
   "outputs": [
    {
     "name": "stderr",
     "output_type": "stream",
     "text": [
      "<ipython-input-80-bcb08929a261>:72: ComplexWarning: Casting complex values to real discards the imaginary part\n",
      "  weps1[j][i]  = np.array([[1+omega_p**2*(omega**2 + Omega**2)/(omega**2 - Omega**2)**2, 1j*2*Omega*omega*omega_p**2/(omega**2 - Omega**2)**2, 0], [-1j*2*Omega*omega*omega_p**2/(omega**2 - Omega**2)**2, 1+omega_p**2*(omega**2 + Omega**2)/(omega**2 - Omega**2)**2, 0], [0, 0, 1+omega_p**2/omega**2]])*eps0\n",
      "<ipython-input-80-bcb08929a261>:141: ComplexWarning: Casting complex values to real discards the imaginary part\n",
      "  weps1[j][i]  = np.array([[1+omega_p**2*(omega**2 + Omega**2)/(omega**2 - Omega**2)**2, 1j*2*Omega*omega*omega_p**2/(omega**2 - Omega**2)**2, 0], [-1j*2*Omega*omega*omega_p**2/(omega**2 - Omega**2)**2, 1+omega_p**2*(omega**2 + Omega**2)/(omega**2 - Omega**2)**2, 0], [0, 0, 1+omega_p**2/omega**2]])*eps0\n"
     ]
    }
   ],
   "source": [
    "import numpy as np\n",
    "import scipy as sp\n",
    "import scipy.constants as spcs\n",
    "from numpy.linalg import matrix_power\n",
    "\n",
    "# universal constants \n",
    "c       = spcs.c\n",
    "eps0    = spcs.epsilon_0\n",
    "mu0     = spcs.mu_0\n",
    "eta0    = np.sqrt(mu0/eps0)\n",
    "\n",
    "# problem parameters \n",
    "length  = 1e-6\n",
    "omega_p = 0.5*np.pi*c/length\n",
    "n1      = 1\n",
    "n2      = 1\n",
    "phi     = np.linspace(0, 2*np.pi, 11)\n",
    "theta   = np.linspace(0.001*np.pi, 0.999*np.pi, 1001)\n",
    "phi1    = 0.\n",
    "thetar  = np.arcsin(n1*np.sin(theta)/n2)\n",
    "\n",
    "dk      = 2221.44\n",
    "Omega   = .2*omega_p\n",
    "\n",
    "beta    = 3.57969593e+00\n",
    "alpha1  = 3.19178813e-02\n",
    "alpha2  = 3.19178813e-02\n",
    "a1      = 3.30516225e-02\n",
    "a2      = 3.30516225e-02\n",
    "\n",
    "ve1     = np.zeros((len(theta), len(phi), 3, 4), dtype = complex)\n",
    "vh1     = np.zeros((len(theta), len(phi), 3, 4), dtype = complex)\n",
    "ve2     = np.zeros((len(theta), len(phi), 3, 4), dtype = complex)\n",
    "vh2     = np.zeros((len(theta), len(phi), 3, 4), dtype = complex)\n",
    "ve3     = np.zeros((len(theta), len(phi), 3, 4), dtype = complex)\n",
    "vh3     = np.zeros((len(theta), len(phi), 3, 4), dtype = complex)\n",
    "\n",
    "q1      = np.zeros((len(theta), len(phi), 4), dtype = float)\n",
    "\n",
    "\n",
    "weps1   = np.zeros((len(theta), len(phi), 3, 3), dtype = float)\n",
    "weps2   = np.zeros((len(theta), len(phi), 3, 3), dtype = float)\n",
    "weps3   = np.zeros((len(theta), len(phi), 3, 3), dtype = float)\n",
    "\n",
    "dw      = np.zeros((len(theta), len(phi)), dtype = float)\n",
    "\n",
    "for j in range(len(theta)):\n",
    "    for i in range(len(phi)):\n",
    "        \n",
    "        kx0 = dk*np.sin(theta[j])*np.cos(phi[i])\n",
    "        ky0 = dk*np.sin(theta[j])*np.sin(phi[i])\n",
    "        dkz = dk*np.cos(theta[j])\n",
    "        \n",
    "        if dkz > 0:\n",
    "            dw[j, i] = (dkz*length+np.sqrt((dkz*length)**2+4*alpha1*beta*(kx0*length)**2+4*alpha2*beta*(ky0*length)**2))/(2*beta)\n",
    "        else:\n",
    "            dw[j, i] = (dkz*length+np.sqrt((dkz*length)**2+4*alpha1*beta*(kx0*length)**2+4*alpha2*beta*(ky0*length)**2))/(2*beta)\n",
    "        \n",
    "        omega = (1+dw[j, i])*omega_p\n",
    "        \n",
    "        exx  = 1 - omega_p**2/(omega**2 - Omega**2)\n",
    "        exy  = -1j*Omega/omega*(omega_p**2/(omega**2 - Omega**2)) \n",
    "        \n",
    "        epsA = np.array([[exx, exy, 0], [-exy, exx, 0], [0, 0, 1 - (omega_p/omega)**2]])*eps0\n",
    "        muA  = np.array([[1., 0, 0], [0, 1., 0], [0, 0, 1.]])*mu0\n",
    "        xiA  = np.zeros((3,3), dtype = complex)\n",
    "        zetA = np.zeros((3,3), dtype = complex)\n",
    "        dA   = length\n",
    "        \n",
    "        rot  = np.array([[np.cos(phi1), -np.sin(phi1), 0], [np.sin(phi1), np.cos(phi1), 0], [0, 0, 1]])\n",
    "    \n",
    "        weps1[j][i]  = np.array([[1+omega_p**2*(omega**2 + Omega**2)/(omega**2 - Omega**2)**2, 1j*2*Omega*omega*omega_p**2/(omega**2 - Omega**2)**2, 0], [-1j*2*Omega*omega*omega_p**2/(omega**2 - Omega**2)**2, 1+omega_p**2*(omega**2 + Omega**2)/(omega**2 - Omega**2)**2, 0], [0, 0, 1+omega_p**2/omega**2]])*eps0\n",
    "        weps2[j][i]  = rot @ weps1[j][i] @ np.linalg.inv(rot)\n",
    "        weps3[j][i]  = matrix_power(rot, 2) @ weps1[j][i] @ matrix_power(rot, -2)\n",
    "        \n",
    "        Uniform_ep_list = [epsA, rot @ epsA @ np.linalg.inv(rot), matrix_power(rot, 2) @ epsA @ matrix_power(rot, -2)]\n",
    "        Uniform_mu_list   = [muA, rot @ muA @ np.linalg.inv(rot), matrix_power(rot, 2) @ muA @ matrix_power(rot, -2)]\n",
    "        Uniform_xi_list   = [xiA, rot @ xiA @ np.linalg.inv(rot), matrix_power(rot, 2) @ xiA @ matrix_power(rot, -2)]\n",
    "        Uniform_zeta_list = [zetA, rot @ zetA @ np.linalg.inv(rot), matrix_power(rot, 2) @ zetA @ matrix_power(rot, -2)]\n",
    "        thickness_list    = [dA/3, dA/3, dA/3]\n",
    "\n",
    "        M1 = MakeMMatrix(omega, 0, kx0, ky0, Uniform_ep_list, Uniform_mu_list, Uniform_xi_list, Uniform_zeta_list, thickness_list)\n",
    "        M2 = MakeMMatrix(omega, 1, kx0, ky0, Uniform_ep_list, Uniform_mu_list, Uniform_xi_list, Uniform_zeta_list, thickness_list)\n",
    "        M3 = MakeMMatrix(omega, 2, kx0, ky0, Uniform_ep_list, Uniform_mu_list, Uniform_xi_list, Uniform_zeta_list, thickness_list)\n",
    " \n",
    "    \n",
    "        q1[j, i], sort = BandStructure(M3 @ M2 @ M1, thickness_list)\n",
    "\n",
    "\n",
    "        ve1[j, i] = Electric(M3 @ M2 @ M1, omega, 0, kx0, ky0, Uniform_ep_list, Uniform_mu_list, Uniform_xi_list, Uniform_zeta_list, thickness_list)\n",
    "        vh1[j, i] = Magnetic(M3 @ M2 @ M1, omega, 0, kx0, ky0, Uniform_ep_list, Uniform_mu_list, Uniform_xi_list, Uniform_zeta_list, thickness_list)\n",
    "        ve2[j, i] = Electric(M3 @ M2 @ M1, omega, 1, kx0, ky0, Uniform_ep_list, Uniform_mu_list, Uniform_xi_list, Uniform_zeta_list, thickness_list)\n",
    "        vh2[j, i] = Magnetic(M3 @ M2 @ M1, omega, 1, kx0, ky0, Uniform_ep_list, Uniform_mu_list, Uniform_xi_list, Uniform_zeta_list, thickness_list)\n",
    "        ve3[j, i] = Electric(M3 @ M2 @ M1, omega, 2, kx0, ky0, Uniform_ep_list, Uniform_mu_list, Uniform_xi_list, Uniform_zeta_list, thickness_list)\n",
    "        vh3[j, i] = Magnetic(M3 @ M2 @ M1, omega, 2, kx0, ky0, Uniform_ep_list, Uniform_mu_list, Uniform_xi_list, Uniform_zeta_list, thickness_list)\n",
    "\n",
    "\n",
    "    #inner[j, i] = Poynting(weps, Uniform_mu_list[0], Uniform_xi_list[0], ve1[i,:,0], ve1[:,0], vh1[:,0], vh1[:,0])\n",
    "\n",
    "berry1 = np.zeros(len(theta), dtype = float)\n",
    "berry2 = np.zeros(len(theta), dtype = float)\n",
    "\n",
    "wmu   = mu0*np.eye(3)\n",
    "wxi   = np.zeros((3,3))*1j*np.sqrt(mu0*eps0)\n",
    "\n",
    "for j in range(len(theta)):\n",
    "    \n",
    "    \n",
    "    for i in range(len(phi)-1):\n",
    "        \n",
    "        inner = EnDensity3(weps1[j][i], weps2[j][i], weps3[j][i], muA, rot @ muA @ np.linalg.inv(rot), matrix_power(rot, 2) @ muA @ matrix_power(rot, -2),  ve1[j,i,:,3], ve2[j,i,:,3], ve3[j,i,:,3], ve1[j,i+1, :,3], ve2[j,i+1, :,3], ve3[j,i+1, :,3], vh1[j,i,:,3], vh2[j,i,:,3], vh3[j,i,:,3], vh1[j,i+1, :,3], vh2[j,i+1, :,3], vh3[j,i+1, :,3])\n",
    "        \n",
    "        berry1[j] = berry1[j] - np.imag(np.log(inner))\n",
    "\n",
    "        \n",
    "for j in range(len(theta)):\n",
    "    for i in range(len(phi)):\n",
    "        \n",
    "        kx0 = dk*np.sin(theta[j])*np.cos(phi[i])\n",
    "        ky0 = dk*np.sin(theta[j])*np.sin(phi[i])\n",
    "        dkz = dk*np.cos(theta[j])\n",
    "        \n",
    "        if dkz > 0:\n",
    "            dw[j, i] = (dkz*length-np.sqrt((dkz*length)**2+4*a1*beta*(kx0*length)**2+4*a2*beta*(ky0*length)**2))/(2*beta)\n",
    "        else:\n",
    "            dw[j, i] = (dkz*length-np.sqrt((dkz*length)**2+4*a1*beta*(kx0*length)**2+4*a2*beta*(ky0*length)**2))/(2*beta)\n",
    "        \n",
    "        omega = (1+dw[j, i])*omega_p\n",
    "        \n",
    "        exx  = 1 - omega_p**2/(omega**2 - Omega**2)\n",
    "        exy  = -1j*Omega/omega*(omega_p**2/(omega**2 - Omega**2)) \n",
    "        \n",
    "        epsA = np.array([[exx, exy, 0], [-exy, exx, 0], [0, 0, 1 - (omega_p/omega)**2]])*eps0\n",
    "        muA  = np.array([[1., 0, 0], [0, 1., 0], [0, 0, 1.]])*mu0\n",
    "        xiA  = np.zeros((3,3), dtype = complex)\n",
    "        zetA = np.zeros((3,3), dtype = complex)\n",
    "        dA   = length\n",
    "        \n",
    "        rot  = np.array([[np.cos(phi1), -np.sin(phi1), 0], [np.sin(phi1), np.cos(phi1), 0], [0, 0, 1]])\n",
    "    \n",
    "        weps1[j][i]  = np.array([[1+omega_p**2*(omega**2 + Omega**2)/(omega**2 - Omega**2)**2, 1j*2*Omega*omega*omega_p**2/(omega**2 - Omega**2)**2, 0], [-1j*2*Omega*omega*omega_p**2/(omega**2 - Omega**2)**2, 1+omega_p**2*(omega**2 + Omega**2)/(omega**2 - Omega**2)**2, 0], [0, 0, 1+omega_p**2/omega**2]])*eps0\n",
    "        weps2[j][i]  = rot @ weps1[j][i] @ np.linalg.inv(rot)\n",
    "        weps3[j][i]  = matrix_power(rot, 2) @ weps1[j][i] @ matrix_power(rot, -2)\n",
    "        \n",
    "        Uniform_ep_list = [epsA, rot @ epsA @ np.linalg.inv(rot), matrix_power(rot, 2) @ epsA @ matrix_power(rot, -2)]\n",
    "        Uniform_mu_list   = [muA, rot @ muA @ np.linalg.inv(rot), matrix_power(rot, 2) @ muA @ matrix_power(rot, -2)]\n",
    "        Uniform_xi_list   = [xiA, rot @ xiA @ np.linalg.inv(rot), matrix_power(rot, 2) @ xiA @ matrix_power(rot, -2)]\n",
    "        Uniform_zeta_list = [zetA, rot @ zetA @ np.linalg.inv(rot), matrix_power(rot, 2) @ zetA @ matrix_power(rot, -2)]\n",
    "        thickness_list    = [dA/3, dA/3, dA/3]\n",
    "\n",
    "        M1 = MakeMMatrix(omega, 0, kx0, ky0, Uniform_ep_list, Uniform_mu_list, Uniform_xi_list, Uniform_zeta_list, thickness_list)\n",
    "        M2 = MakeMMatrix(omega, 1, kx0, ky0, Uniform_ep_list, Uniform_mu_list, Uniform_xi_list, Uniform_zeta_list, thickness_list)\n",
    "        M3 = MakeMMatrix(omega, 2, kx0, ky0, Uniform_ep_list, Uniform_mu_list, Uniform_xi_list, Uniform_zeta_list, thickness_list)\n",
    " \n",
    "    \n",
    "        q1[j, i], sort = BandStructure(M3 @ M2 @ M1, thickness_list)\n",
    "\n",
    "\n",
    "        ve1[j, i] = Electric(M3 @ M2 @ M1, omega, 0, kx0, ky0, Uniform_ep_list, Uniform_mu_list, Uniform_xi_list, Uniform_zeta_list, thickness_list)\n",
    "        vh1[j, i] = Magnetic(M3 @ M2 @ M1, omega, 0, kx0, ky0, Uniform_ep_list, Uniform_mu_list, Uniform_xi_list, Uniform_zeta_list, thickness_list)\n",
    "        ve2[j, i] = Electric(M3 @ M2 @ M1, omega, 1, kx0, ky0, Uniform_ep_list, Uniform_mu_list, Uniform_xi_list, Uniform_zeta_list, thickness_list)\n",
    "        vh2[j, i] = Magnetic(M3 @ M2 @ M1, omega, 1, kx0, ky0, Uniform_ep_list, Uniform_mu_list, Uniform_xi_list, Uniform_zeta_list, thickness_list)\n",
    "        ve3[j, i] = Electric(M3 @ M2 @ M1, omega, 2, kx0, ky0, Uniform_ep_list, Uniform_mu_list, Uniform_xi_list, Uniform_zeta_list, thickness_list)\n",
    "        vh3[j, i] = Magnetic(M3 @ M2 @ M1, omega, 2, kx0, ky0, Uniform_ep_list, Uniform_mu_list, Uniform_xi_list, Uniform_zeta_list, thickness_list)\n",
    "\n",
    "\n",
    "\n",
    "for j in range(len(theta)):\n",
    "    for i in range(len(phi)-1):\n",
    "        \n",
    "        inner = EnDensity3(weps1[j][i], weps2[j][i], weps3[j][i], muA, rot @ muA @ np.linalg.inv(rot), matrix_power(rot, 2) @ muA @ matrix_power(rot, -2),  ve1[j,i,:,3], ve2[j,i,:,3], ve3[j,i,:,3], ve1[j,i+1, :,3], ve2[j,i+1, :,3], ve3[j,i+1, :,3], vh1[j,i,:,3], vh2[j,i,:,3], vh3[j,i,:,3], vh1[j,i+1, :,3], vh2[j,i+1, :,3], vh3[j,i+1, :,3])\n",
    "        \n",
    "        berry2[j] = berry2[j] - np.imag(np.log(inner))"
   ]
  },
  {
   "cell_type": "code",
   "execution_count": 81,
   "id": "717fdec6",
   "metadata": {},
   "outputs": [
    {
     "data": {
      "text/plain": [
       "<matplotlib.legend.Legend at 0x7fab21887280>"
      ]
     },
     "execution_count": 81,
     "metadata": {},
     "output_type": "execute_result"
    },
    {
     "data": {
      "image/png": "[encoded data removed]",
      "text/plain": [
       "<Figure size 432x288 with 1 Axes>"
      ]
     },
     "metadata": {
      "needs_background": "light"
     },
     "output_type": "display_data"
    }
   ],
   "source": [
    "import matplotlib.pyplot as plt\n",
    "\n",
    "plt.xlabel(r\"$\\theta/\\pi$\", fontsize = 20)\n",
    "plt.ylabel(r\"$\\beta/\\pi$\", fontsize = 20)\n",
    "plt.scatter(theta/np.pi, (berry1)/np.pi,s = 5, marker='.',  color = \"red\")\n",
    "plt.scatter(theta/np.pi, berry2/np.pi,s = 5, marker='.',  color = \"black\")\n",
    "plt.legend(['Transverse', 'Longitudinal'], fontsize=15)"
   ]
  },
  {
   "cell_type": "code",
   "execution_count": null,
   "id": "b205f54e",
   "metadata": {},
   "outputs": [],
   "source": []
  }
 ],
 "metadata": {
  "kernelspec": {
   "display_name": "Python 3",
   "language": "python",
   "name": "python3"
  },
  "language_info": {
   "codemirror_mode": {
    "name": "ipython",
    "version": 3
   },
   "file_extension": ".py",
   "mimetype": "text/x-python",
   "name": "python",
   "nbconvert_exporter": "python",
   "pygments_lexer": "ipython3",
   "version": "3.8.8"
  }
 },
 "nbformat": 4,
 "nbformat_minor": 5
}
