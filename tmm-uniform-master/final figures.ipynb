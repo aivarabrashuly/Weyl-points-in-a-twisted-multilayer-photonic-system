{
 "cells": [
  {
   "cell_type": "code",
   "execution_count": 1,
   "id": "f094e173",
   "metadata": {},
   "outputs": [],
   "source": [
    "def MakePMatrix(omega, which_layer, kx0, ky0, Uniform_ep_list, Uniform_mu_list, Uniform_xi_list, Uniform_zeta_list):\n",
    "    \n",
    "    det = Uniform_ep_list[which_layer][2][2]*Uniform_mu_list[which_layer][2][2]-Uniform_xi_list[which_layer][2][2]*Uniform_zeta_list[which_layer][2][2]\n",
    "    \n",
    "    nuzxee = - (Uniform_mu_list[which_layer][2][2]*Uniform_ep_list[which_layer][2][0]-Uniform_xi_list[which_layer][2][2]*(Uniform_zeta_list[which_layer][2][0]+ky0/omega))/det\n",
    "    nuzyee = - (Uniform_mu_list[which_layer][2][2]*Uniform_ep_list[which_layer][2][1]-Uniform_xi_list[which_layer][2][2]*(Uniform_zeta_list[which_layer][2][1]-kx0/omega))/det\n",
    "    nuzxeh = (Uniform_xi_list[which_layer][2][2]*Uniform_mu_list[which_layer][2][0]-Uniform_mu_list[which_layer][2][2]*(Uniform_xi_list[which_layer][2][0]-ky0/omega))/det\n",
    "    nuzyeh = (Uniform_xi_list[which_layer][2][2]*Uniform_mu_list[which_layer][2][1]-Uniform_mu_list[which_layer][2][2]*(Uniform_xi_list[which_layer][2][1]+kx0/omega))/det\n",
    "    nuzxhe = (Uniform_zeta_list[which_layer][2][2]*Uniform_ep_list[which_layer][2][0]-Uniform_ep_list[which_layer][2][2]*(Uniform_zeta_list[which_layer][2][0]+ky0/omega))/det\n",
    "    nuzyhe = (Uniform_zeta_list[which_layer][2][2]*Uniform_ep_list[which_layer][2][1]-Uniform_ep_list[which_layer][2][2]*(Uniform_zeta_list[which_layer][2][1]-kx0/omega))/det\n",
    "    nuzxhh = - (Uniform_ep_list[which_layer][2][2]*Uniform_mu_list[which_layer][2][0]-Uniform_zeta_list[which_layer][2][2]*(Uniform_xi_list[which_layer][2][0]-ky0/omega))/det\n",
    "    nuzyhh = - (Uniform_ep_list[which_layer][2][2]*Uniform_mu_list[which_layer][2][1]-Uniform_zeta_list[which_layer][2][2]*(Uniform_xi_list[which_layer][2][1]+kx0/omega))/det   \n",
    "    \n",
    "    J = np.ones((4,4), dtype = complex)\n",
    "    \n",
    "    P = np.zeros((4,4), dtype = complex)\n",
    "    \n",
    "    temp0 = np.array([[Uniform_zeta_list[which_layer][1][0], Uniform_zeta_list[which_layer][1][1], Uniform_mu_list[which_layer][1][0], Uniform_mu_list[which_layer][1][1]], [-Uniform_zeta_list[which_layer][0][0], -Uniform_zeta_list[which_layer][0][1], -Uniform_mu_list[which_layer][0][0], -Uniform_mu_list[which_layer][0][1]], [-Uniform_ep_list[which_layer][1][0], -Uniform_ep_list[which_layer][1][1], -Uniform_xi_list[which_layer][1][0], -Uniform_xi_list[which_layer][1][1]], [Uniform_ep_list[which_layer][0][0], Uniform_ep_list[which_layer][0][1], Uniform_xi_list[which_layer][0][0], Uniform_xi_list[which_layer][0][1]]])\n",
    "    temp1 = np.diag((Uniform_zeta_list[which_layer][1][2]+kx0/omega, -Uniform_zeta_list[which_layer][0][2]+ky0/omega, -Uniform_ep_list[which_layer][1][2], Uniform_ep_list[which_layer][0][2]))\n",
    "    temp2 = np.diag((nuzxee, nuzyee, nuzxeh, nuzyeh))\n",
    "    \n",
    "    temp3 = np.diag((Uniform_mu_list[which_layer][1][2], -Uniform_mu_list[which_layer][0][2], -Uniform_xi_list[which_layer][1][2]+kx0/omega, Uniform_xi_list[which_layer][0][2]+ky0/omega))\n",
    "    temp4 = np.diag((nuzxhe, nuzyhe, nuzxhh, nuzyhh))\n",
    "    \n",
    "    P = omega*(temp0 + temp1 @ J @ temp2 + temp3 @ J @ temp4)\n",
    "    \n",
    "    return P\n",
    "\n",
    "\n",
    "def Kmatrix(n, theta, phi):\n",
    "    K   = np.array([[-np.sin(phi), -np.cos(phi)*np.cos(theta), -np.sin(phi), np.cos(phi)*np.cos(theta)], [np.cos(phi), -np.sin(phi)*np.cos(theta), np.cos(phi), np.sin(phi)*np.cos(theta)], [-n/eta0*np.cos(phi)*np.cos(theta), n/eta0*np.sin(phi), n/eta0*np.cos(phi)*np.cos(theta), n/eta0*np.sin(phi)], [-n/eta0*np.sin(phi)*np.cos(theta), -n1/eta0*np.cos(phi), n/eta0*np.sin(phi)*np.cos(theta), -n/eta0*np.cos(phi)]])\n",
    "    \n",
    "    return K\n",
    "    \n",
    "    \n",
    "def MakeMMatrix(omega, which_layer, kx0, ky0, Uniform_ep_list, Uniform_mu_list, Uniform_xi_list, Uniform_zeta_list, thickness_list):\n",
    "    \n",
    "    P = MakePMatrix(omega, which_layer, kx0, ky0, Uniform_ep_list, Uniform_mu_list, Uniform_xi_list, Uniform_zeta_list)\n",
    "    \n",
    "    w, v = np.linalg.eig(P)\n",
    "\n",
    "    expG = np.zeros((4, 4), dtype = complex)\n",
    "    \n",
    "    for i in range(4):\n",
    "        expG[i, i] = np.exp(1j*w[i]*thickness_list[which_layer])\n",
    "    \n",
    "    M  = v @ expG @ np.linalg.inv(v)\n",
    "    \n",
    "    return M\n",
    "\n",
    "def BandStructure(M, thickness_list):\n",
    "    \n",
    "    w, v = np.linalg.eig(M)\n",
    "    \n",
    "    q1    = np.log(w)/(1j*np.sum(thickness_list))\n",
    "    q     = np.zeros(q1.shape, dtype = float)\n",
    "    \n",
    "    for j in range(4):\n",
    "        if np.abs(np.imag(q1[j])/np.abs(q1[j])) < 1e-5:\n",
    "            q[j] = np.real(q1[j])*np.sum(thickness_list)\n",
    "        else:\n",
    "            q[j] = None\n",
    "    \n",
    "    sort = np.argsort(q)\n",
    "    q    = np.sort(q)\n",
    "    \n",
    "    return q, sort\n",
    "\n",
    "def Electric(M, omega, which_layer, kx0, ky0, Uniform_ep_list, Uniform_mu_list, Uniform_xi_list, Uniform_zeta_list, thickness_list):\n",
    "    \n",
    "    w, v = np.linalg.eig(M)\n",
    "    \n",
    "    q, sort = BandStructure(M, thickness_list[which_layer])\n",
    "    \n",
    "    vsort = np.zeros(v.shape, dtype = complex)\n",
    "    for i in range(4):\n",
    "        vsort[:,i] = v[:,sort[i]]\n",
    "    \n",
    "    det = Uniform_ep_list[which_layer][2][2]*Uniform_mu_list[which_layer][2][2]-Uniform_xi_list[which_layer][2][2]*Uniform_zeta_list[which_layer][2][2]\n",
    "    \n",
    "    nuzxee = - (Uniform_mu_list[which_layer][2][2]*Uniform_ep_list[which_layer][2][0]-Uniform_xi_list[which_layer][2][2]*(Uniform_zeta_list[which_layer][2][0]+ky0/omega))/det\n",
    "    nuzyee = - (Uniform_mu_list[which_layer][2][2]*Uniform_ep_list[which_layer][2][1]-Uniform_xi_list[which_layer][2][2]*(Uniform_zeta_list[which_layer][2][1]-kx0/omega))/det\n",
    "    nuzxeh = (Uniform_xi_list[which_layer][2][2]*Uniform_mu_list[which_layer][2][0]-Uniform_mu_list[which_layer][2][2]*(Uniform_xi_list[which_layer][2][0]-ky0/omega))/det\n",
    "    nuzyeh = (Uniform_xi_list[which_layer][2][2]*Uniform_mu_list[which_layer][2][1]-Uniform_mu_list[which_layer][2][2]*(Uniform_xi_list[which_layer][2][1]+kx0/omega))/det\n",
    "    \n",
    "    vex = np.zeros(4, dtype = complex)\n",
    "    vey = np.zeros(4, dtype = complex)\n",
    "    vez = np.zeros(4, dtype = complex)\n",
    "    \n",
    "    for i in range(4):\n",
    "        vex[i] = vsort[0,i]\n",
    "        vey[i] = vsort[1,i]\n",
    "        vez[i] = nuzxee*vsort[0,i]+nuzyee*vsort[1,i]+nuzxeh*vsort[2,i]+nuzyeh*vsort[3,i]\n",
    "    \n",
    "    return np.array([vex, vey, vez])\n",
    "\n",
    "def Magnetic(M, omega, which_layer, kx0, ky0, Uniform_ep_list, Uniform_mu_list, Uniform_xi_list, Uniform_zeta_list, thickness_list):\n",
    "    \n",
    "    w, v = np.linalg.eig(M)\n",
    "    \n",
    "    q, sort = BandStructure(M, thickness_list[which_layer])\n",
    "    \n",
    "    vsort = np.zeros(v.shape, dtype = complex)\n",
    "    for i in range(4):\n",
    "        vsort[:,i] = v[:,sort[i]]\n",
    "    \n",
    "    det = Uniform_ep_list[which_layer][2][2]*Uniform_mu_list[which_layer][2][2]-Uniform_xi_list[which_layer][2][2]*Uniform_zeta_list[which_layer][2][2]\n",
    "    \n",
    "    nuzxhe = (Uniform_zeta_list[which_layer][2][2]*Uniform_ep_list[which_layer][2][0]-Uniform_ep_list[which_layer][2][2]*(Uniform_zeta_list[which_layer][2][0]+ky0/omega))/det\n",
    "    nuzyhe = (Uniform_zeta_list[which_layer][2][2]*Uniform_ep_list[which_layer][2][1]-Uniform_ep_list[which_layer][2][2]*(Uniform_zeta_list[which_layer][2][1]-kx0/omega))/det\n",
    "    nuzxhh = - (Uniform_ep_list[which_layer][2][2]*Uniform_mu_list[which_layer][2][0]-Uniform_zeta_list[which_layer][2][2]*(Uniform_xi_list[which_layer][2][0]-ky0/omega))/det\n",
    "    nuzyhh = - (Uniform_ep_list[which_layer][2][2]*Uniform_mu_list[which_layer][2][1]-Uniform_zeta_list[which_layer][2][2]*(Uniform_xi_list[which_layer][2][1]+kx0/omega))/det   \n",
    "    \n",
    "    vhx = np.zeros(4, dtype = complex)\n",
    "    vhy = np.zeros(4, dtype = complex)\n",
    "    vhz = np.zeros(4, dtype = complex)\n",
    "    \n",
    "    for i in range(4):\n",
    "        vhx[i] = vsort[2,i]\n",
    "        vhy[i] = vsort[3,i]\n",
    "        vhz[i] = nuzxhe*vsort[0,i]+nuzyhe*vsort[1,i]+nuzxhh*vsort[2,i]+nuzyhh*vsort[3,i]\n",
    "    \n",
    "    return np.array([vhx, vhy, vhz])\n",
    "\n",
    "def Fields(ve, vh, M, incoming, z_offset, x_offset, y_offset, kx0, ky0, thickness):\n",
    "    \n",
    "    \n",
    "    # Suppose we want to find the field in t-th layer,\n",
    "    # M - Transfer Matrix of the t-th layer, ve, vh - electric and magnetic field eigenvectors in t-th layer, \n",
    "    # thickness - thickness of the t-th layer\n",
    "    \n",
    "    w, v = np.linalg.eig(M)\n",
    "    q    = BandStructure(M, thickness)\n",
    "    \n",
    "    Coef = np.linalg.inv(v) @ incoming\n",
    "    \n",
    "    eh = []\n",
    "    \n",
    "    for j in range(len(z_offset)):\n",
    "        ex = 0; ey = 0; ez = 0; hx = 0; hy = 0; hz = 0\n",
    "        \n",
    "        for i in range(4):\n",
    "            ex += ve[0][i]*np.exp(1j*kx0*x_offset+1j*ky0*y_offset)*np.exp(1j*q[i]*z_offset[j])*Coef[i]\n",
    "            ey += ve[1][i]*np.exp(1j*kx0*x_offset+1j*ky0*y_offset)*np.exp(1j*q[i]*z_offset[j])*Coef[i]\n",
    "            ez += ve[2][i]*np.exp(1j*kx0*x_offset+1j*ky0*y_offset)*np.exp(1j*q[i]*z_offset[j])*Coef[i]\n",
    "            \n",
    "            hx += vh[0][i]*np.exp(1j*kx0*x_offset+1j*ky0*y_offset)*np.exp(1j*q[i]*z_offset[j])*Coef[i]\n",
    "            hy += vh[1][i]*np.exp(1j*kx0*x_offset+1j*ky0*y_offset)*np.exp(1j*q[i]*z_offset[j])*Coef[i]\n",
    "            hz += vh[2][i]*np.exp(1j*kx0*x_offset+1j*ky0*y_offset)*np.exp(1j*q[i]*z_offset[j])*Coef[i]\n",
    "        \n",
    "        eh.append([[ex, ey, ez], [hx, hy, hz]])\n",
    "    \n",
    "    return eh\n",
    "\n",
    "\n",
    "def RandT(M):\n",
    "    r  = np.zeros((2,2), dtype = complex)\n",
    "    t  = np.zeros((2,2), dtype = complex)\n",
    "    \n",
    "    det = (M[2,2]*M[3,3] - M[2,3]*M[3,2])\n",
    "    \n",
    "    r[0, 0] = (M[2, 3]*M[3,0]-M[2,0]*M[3,3])/det\n",
    "    r[0, 1] = (M[2, 3]*M[3,1]-M[2,1]*M[3,3])/det\n",
    "    r[1, 0] = (M[2, 0]*M[3,2]-M[3,0]*M[2,2])/det\n",
    "    r[1, 1] = (M[2, 1]*M[3,2]-M[3,1]*M[2,2])/det\n",
    "    \n",
    "    t[0, 0] = ((M[0, 2]*M[2, 3]-M[0, 3]*M[2, 2])*M[3, 0]+(M[0, 3]*M[2,0]-M[0,0]*M[2, 3])*M[3,2]+(M[0,0]*M[2,2]-M[0, 2]*M[2,0])*M[3,3])/det\n",
    "    t[0, 1] = M[0, 1] + ((M[0,2]*M[2,3]-M[0, 3]*M[2,2])*M[3,1]+(M[0, 3]*M[3, 2]-M[0, 2]*M[3,3])*M[2,1])/det\n",
    "    t[1, 0] = ((M[1,2]*M[2,3]-M[1,3]*M[2,2])*M[3,0]+(M[1,3]*M[2,0]-M[1,0]*M[2,3])*M[3,2]+(M[1,0]*M[2,2]-M[1,2]*M[2,0])*M[3,3])/det\n",
    "    t[1, 1] = M[1,1] + ((M[1,2]*M[2,3]-M[1,3]*M[2,2])*M[3,1]+(M[1,3]*M[3,2]-M[1,2]*M[3,3])*M[2,1])/det\n",
    "    \n",
    "    return r, t\n",
    "    \n",
    "def RefTrans(r, t, theta, n1, n2):\n",
    "    Rss = np.abs(r[0,0])**2\n",
    "    Rsp = np.abs(r[0,1])**2\n",
    "    Rps = np.abs(r[1,0])**2\n",
    "    Rpp = np.abs(r[1,1])**2\n",
    "    \n",
    "    thetar  = np.arcsin(n1*np.sin(theta)/n2)\n",
    "    \n",
    "    Tss = (n2/n1)*(np.real(np.cos(thetar))/np.cos(theta))*np.abs(t[0,0])**2\n",
    "    Tsp = (n2/n1)*(np.real(np.cos(thetar))/np.cos(theta))*np.abs(t[0,1])**2\n",
    "    Tps = (n2/n1)*(np.real(np.cos(thetar))/np.cos(theta))*np.abs(t[1,0])**2\n",
    "    Tpp = (n2/n1)*(np.real(np.cos(thetar))/np.cos(theta))*np.abs(t[1,1])**2\n",
    "    \n",
    "    As = 1 - (Rss+Rps+Tss+Tps)\n",
    "    Ap = 1 - (Rpp+Rsp+Tpp+Tsp)\n",
    "    \n",
    "    return Rss, Rsp, Rps, Rpp, Tss, Tsp, Tps, Tpp, As, Ap\n",
    "\n",
    "def find_nearest(array, value):\n",
    "    array = np.asarray(array)\n",
    "    idx = (np.abs(array - value)).argmin()\n",
    "    return array[idx], idx\n",
    "\n",
    "def EnDensity(weps, wmu, wgamma, elec1, elec2, mag1, mag2):\n",
    "    \n",
    "    coef1 = 1/2*(np.dot(np.conjugate(elec1), weps @ elec1)+np.dot(np.conjugate(mag1), wmu @ mag1)-2/c*np.imag(np.dot(np.conjugate(elec1), wgamma @ mag1)))\n",
    "    \n",
    "    coef2 = 1/2*(np.dot(np.conjugate(elec2), weps @ elec2)+np.dot(np.conjugate(mag2), wmu @ mag2)-2/c*np.imag(np.dot(np.conjugate(elec2), wgamma @ mag2)))\n",
    "        \n",
    "    elec1 = elec1/np.sqrt(coef1)\n",
    "    mag1 = mag1/np.sqrt(coef1)\n",
    "    elec2 = elec2/np.sqrt(coef2)\n",
    "    mag2 = mag2/np.sqrt(coef2)\n",
    "    \n",
    "    \n",
    "    res   = 1/2*(np.dot(np.conjugate(elec1), weps @ elec2)+np.dot(np.conjugate(mag1), wmu @ mag2)-2/c*np.imag(np.dot(np.conjugate(elec1), wgamma @ mag2)))\n",
    "        \n",
    "    return res\n",
    "\n",
    "def EnDensity3(weps1, weps2, weps3, wmu1, wmu2, wmu3, elec11, elec12, elec13, elec21, elec22, elec23, mag11, mag12, mag13, mag21, mag22, mag23):\n",
    "    \n",
    "    coef11 = 1/2*(np.dot(np.conjugate(elec11), weps1 @ elec11)+np.dot(np.conjugate(mag11), wmu1 @ mag11))\n",
    "    coef12 = 1/2*(np.dot(np.conjugate(elec12), weps2 @ elec12)+np.dot(np.conjugate(mag12), wmu2 @ mag12))\n",
    "    coef13 = 1/2*(np.dot(np.conjugate(elec13), weps3 @ elec13)+np.dot(np.conjugate(mag13), wmu3 @ mag13))\n",
    "    \n",
    "    coef21 = 1/2*(np.dot(np.conjugate(elec21), weps1 @ elec21)+np.dot(np.conjugate(mag21), wmu1 @ mag21))\n",
    "    coef22 = 1/2*(np.dot(np.conjugate(elec22), weps2 @ elec22)+np.dot(np.conjugate(mag22), wmu2 @ mag22))\n",
    "    coef23 = 1/2*(np.dot(np.conjugate(elec23), weps3 @ elec23)+np.dot(np.conjugate(mag23), wmu3 @ mag23))\n",
    "        \n",
    "    elec11 = elec11/np.sqrt(coef11+coef12+coef13)\n",
    "    elec12 = elec12/np.sqrt(coef11+coef12+coef13)\n",
    "    elec13 = elec13/np.sqrt(coef11+coef12+coef13)\n",
    "    mag11  = mag11/np.sqrt(coef11+coef12+coef13)\n",
    "    mag12  = mag12/np.sqrt(coef11+coef12+coef13)\n",
    "    mag13  = mag13/np.sqrt(coef11+coef12+coef13)\n",
    "                  \n",
    "    elec21 = elec21/np.sqrt(coef21+coef22+coef23)\n",
    "    elec22 = elec22/np.sqrt(coef21+coef22+coef23)\n",
    "    elec23 = elec23/np.sqrt(coef21+coef22+coef23)\n",
    "    mag21  = mag21/np.sqrt(coef21+coef22+coef23)\n",
    "    mag22  = mag22/np.sqrt(coef21+coef22+coef23)\n",
    "    mag23  = mag23/np.sqrt(coef21+coef22+coef23)\n",
    "    \n",
    "    \n",
    "    res1   = 1/2*(np.dot(np.conjugate(elec11), weps1 @ elec21)+np.dot(np.conjugate(mag11), wmu1 @ mag21))\n",
    "    res2   = 1/2*(np.dot(np.conjugate(elec12), weps2 @ elec22)+np.dot(np.conjugate(mag12), wmu2 @ mag22))\n",
    "    res3   = 1/2*(np.dot(np.conjugate(elec13), weps3 @ elec23)+np.dot(np.conjugate(mag13), wmu3 @ mag23))\n",
    "                  \n",
    "    return res1+res2+res3"
   ]
  },
  {
   "cell_type": "markdown",
   "id": "9d9175ae",
   "metadata": {},
   "source": [
    "# Band structure for fixed $k_x a = 0.05$ and $k_y a = 0$.\n",
    "\n",
    "Here I find out how frequency $\\omega$ depends on propagating wave vector $k_z$ at some oblique incidence. Worth to note that incidence angle $\\theta$ here is not constant, but equal to $\\tan \\theta = \\frac{k_x L}{k_z L} = \\frac{0.05}{k_z L}$. While azimuthal angle is constant and equal to $\\varphi = 0$. "
   ]
  },
  {
   "cell_type": "code",
   "execution_count": 2,
   "id": "ec4c986d",
   "metadata": {},
   "outputs": [],
   "source": [
    "import numpy as np\n",
    "import scipy as sp\n",
    "import scipy.constants as spcs\n",
    "from numpy.linalg import matrix_power\n",
    "\n",
    "# universal constants \n",
    "c       = spcs.c\n",
    "eps0    = spcs.epsilon_0\n",
    "mu0     = spcs.mu_0\n",
    "eta0    = np.sqrt(mu0/eps0)\n",
    "\n",
    "# problem parameters \n",
    "m       = 100000\n",
    "length  = 1e-6\n",
    "omega   = np.linspace(0.5e-4*np.pi*c/length, 0.65*np.pi*c/length, m)\n",
    "n1      = 1\n",
    "n2      = 1\n",
    "phi1    = 2*np.pi/9\n",
    "\n",
    "\n",
    "omega_p = 0.5*np.pi*c/length\n",
    "\n",
    "kx0     = 0.\n",
    "ky0     = 0.\n",
    "\n",
    "    \n",
    "# material parameters\n",
    "\n",
    "\n",
    "q1    = np.zeros((m, 4), dtype = float)\n",
    "\n",
    "for i in range(m):\n",
    "    epsA = np.array([[2.2, 0, 0], [0, 1.2, 0], [0, 0, 1 - (omega_p/omega[i])**2]])*eps0\n",
    "    muA  = np.array([[1., 0, 0], [0, 1., 0], [0, 0, 1.]])*mu0\n",
    "    xiA  = np.zeros((3,3), dtype = complex)\n",
    "    zetA = np.zeros((3,3), dtype = complex)\n",
    "    dA   = length\n",
    "    \n",
    "    rot  = np.array([[np.cos(phi1), -np.sin(phi1), 0], [np.sin(phi1), np.cos(phi1), 0], [0, 0, 1]])\n",
    "    \n",
    "    Uniform_ep_list = [epsA, rot @ epsA @ np.linalg.inv(rot), matrix_power(rot, 2) @ epsA @ matrix_power(rot, -2)]\n",
    "    Uniform_mu_list = [muA, rot @ muA @ np.linalg.inv(rot), matrix_power(rot, 2) @ muA @ matrix_power(rot, -2)]\n",
    "    Uniform_xi_list = [xiA, rot @ xiA @ np.linalg.inv(rot), matrix_power(rot, 2) @ xiA @ matrix_power(rot, -2)]\n",
    "    Uniform_zeta_list = [zetA, rot @ zetA @ np.linalg.inv(rot), matrix_power(rot, 2) @ zetA @ matrix_power(rot, -2)]\n",
    "    thickness_list  = [dA/3, dA/3, dA/3]\n",
    "    \n",
    "    M1 = MakeMMatrix(omega[i], 0, kx0, ky0, Uniform_ep_list, Uniform_mu_list, Uniform_xi_list, Uniform_zeta_list, thickness_list)\n",
    "    M2 = MakeMMatrix(omega[i], 1, kx0, ky0, Uniform_ep_list, Uniform_mu_list, Uniform_xi_list, Uniform_zeta_list, thickness_list)\n",
    "    M3 = MakeMMatrix(omega[i], 2, kx0, ky0, Uniform_ep_list, Uniform_mu_list, Uniform_xi_list, Uniform_zeta_list, thickness_list)\n",
    " \n",
    "        \n",
    "    q1[i], sort  = BandStructure(M3 @ M2 @ M1, thickness_list)\n",
    "    \n",
    "    \n",
    "    Uniform_ep_list = []\n",
    "    Uniform_mu_list = []\n",
    "    Uniform_xi_list = []\n",
    "    Uniform_zeta_list = []\n",
    "    thickness_list  = []"
   ]
  },
  {
   "cell_type": "code",
   "execution_count": 3,
   "id": "fa100ece",
   "metadata": {},
   "outputs": [
    {
     "data": {
      "text/plain": [
       "0.21808512056095752"
      ]
     },
     "execution_count": 3,
     "metadata": {},
     "output_type": "execute_result"
    }
   ],
   "source": [
    "q1[7691, 3]"
   ]
  },
  {
   "cell_type": "code",
   "execution_count": 20,
   "id": "699f88cf",
   "metadata": {},
   "outputs": [
    {
     "data": {
      "text/plain": [
       "1.9175314763033413"
      ]
     },
     "execution_count": 20,
     "metadata": {},
     "output_type": "execute_result"
    }
   ],
   "source": [
    "q1[7691, 2]"
   ]
  },
  {
   "cell_type": "markdown",
   "id": "d43e163b",
   "metadata": {},
   "source": [
    "Two crossing points with the longitudinal mode are $k_z L = 1.9175$ and $k_z L = 2.1882$. "
   ]
  },
  {
   "cell_type": "code",
   "execution_count": 4,
   "id": "3c1621e6",
   "metadata": {},
   "outputs": [
    {
     "data": {
      "text/plain": [
       "(-3.141592653589793, 3.141592653589793)"
      ]
     },
     "execution_count": 4,
     "metadata": {},
     "output_type": "execute_result"
    },
    {
     "data": {
      "image/png": "[encoded data removed]",
      "text/plain": [
       "<Figure size 432x288 with 1 Axes>"
      ]
     },
     "metadata": {
      "needs_background": "light"
     },
     "output_type": "display_data"
    }
   ],
   "source": [
    "from matplotlib import pyplot as plt \n",
    "\n",
    "plt.figure(figsize=(6,4))\n",
    "\n",
    "plt.title(r'$\\omega(k_z)$ band structure for fixed $k_x L = 0.05$', fontname = \"Arial\", fontsize = 15)\n",
    "plt.xlabel(r\"$k_z L$\", fontname = \"Arial\", fontsize = 20)\n",
    "plt.ylabel(r\"$\\omega/\\omega_p$\", fontsize = 20)\n",
    "plt.scatter(q1[:, 0], omega/omega_p,s = 0.1, marker='.',  color = \"black\")\n",
    "plt.scatter(q1[:, 1], omega/omega_p,s = 0.1, marker='.', color = \"black\")\n",
    "plt.scatter(q1[:, 2], omega/omega_p,s = 0.1, marker='.', color = \"black\")\n",
    "plt.scatter(q1[:, 3], omega/omega_p,s = 0.1, marker='.', color = \"black\")\n",
    "plt.axvline(0, linestyle='--', color='k')\n",
    "plt.xlim([-np.pi, np.pi])"
   ]
  },
  {
   "cell_type": "code",
   "execution_count": 5,
   "id": "6c0e5864",
   "metadata": {},
   "outputs": [],
   "source": [
    "import scipy.io\n",
    "\n",
    "scipy.io.savemat('test.mat', dict(x=q1, y=omega/omega_p))"
   ]
  },
  {
   "cell_type": "code",
   "execution_count": 7,
   "id": "c21ac3c4",
   "metadata": {},
   "outputs": [
    {
     "data": {
      "text/plain": [
       "<matplotlib.legend.Legend at 0x7f9a217eeeb0>"
      ]
     },
     "execution_count": 7,
     "metadata": {},
     "output_type": "execute_result"
    },
    {
     "data": {
      "image/png": "[encoded data removed]",
      "text/plain": [
       "<Figure size 432x288 with 1 Axes>"
      ]
     },
     "metadata": {},
     "output_type": "display_data"
    }
   ],
   "source": [
    "from matplotlib import pyplot as plt \n",
    "\n",
    "beta = 2.22154806e+00\n",
    "a1x  = 1.30334142e-01\n",
    "a2x  = 1.33135950e-01\n",
    "\n",
    "dkz  = np.linspace(-0.1, 0.1, 1001)\n",
    "\n",
    "plt.figure(figsize=(6,4))\n",
    "\n",
    "plt.title(r'Fitting with TMM', fontname = \"Arial\", fontsize = 15)\n",
    "plt.xlabel(r\"$\\delta k_z$\", fontsize = 20)\n",
    "plt.ylabel(r\"$\\delta\\omega$\", fontsize = 20)\n",
    "plt.scatter(q1[:, 3], omega,s = 10, marker='*', color = \"red\")\n",
    "plt.plot(dkz+2.1882345816667197, ((dkz + np.sqrt(dkz**2 + 4*a1x*beta*0.05**2))/(2*beta)+1)*omega_p, color = \"blue\")\n",
    "plt.plot(dkz+2.1882345816667197, ((dkz - np.sqrt(dkz**2 + 4*a2x*beta*0.05**2))/(2*beta)+1)*omega_p, color = \"blue\", label='_nolegend_')\n",
    "plt.xlim([2.1882345816667197-0.1, 2.1882345816667197+0.1])\n",
    "plt.ylim([0.94*omega_p, 1.06*omega_p])\n",
    "plt.yticks([])\n",
    "plt.xticks([])\n",
    "plt.legend([r'$Fitting$' , 'TMM'], fontsize = 'large')"
   ]
  },
  {
   "cell_type": "markdown",
   "id": "5869ba1b",
   "metadata": {},
   "source": [
    "### Fitting band structure\n",
    "\n",
    "Finding $\\delta k_z \\delta \\omega = C_1 - \\alpha_x k_x^2$ and $\\delta k_z \\delta \\omega = C_2 - \\alpha_y k_y^2$ values $\\alpha_x$ and $\\alpha_y$. Also values $\\beta$ in $\\delta k_z = \\beta \\delta \\omega$."
   ]
  },
  {
   "cell_type": "code",
   "execution_count": 49,
   "id": "c3ea7f76",
   "metadata": {},
   "outputs": [],
   "source": [
    "import numpy as np\n",
    "import scipy as sp\n",
    "import scipy.constants as spcs\n",
    "from numpy.linalg import matrix_power\n",
    "\n",
    "# universal constants \n",
    "c       = spcs.c\n",
    "eps0    = spcs.epsilon_0\n",
    "mu0     = spcs.mu_0\n",
    "eta0    = np.sqrt(mu0/eps0)\n",
    "\n",
    "# problem parameters \n",
    "length  = 1e-6\n",
    "omega_p = 0.5*np.pi*c/length\n",
    "n1      = 1\n",
    "n2      = 1\n",
    "#phi     = np.linspace(0, 2*np.pi, 11)\n",
    "#theta   = np.linspace(0, np.pi, 1001)\n",
    "phi1    = 2*np.pi/9\n",
    "\n",
    "dk      = 2221.44\n",
    "\n",
    "\n",
    "kx0     = 0.\n",
    "ky0     = 0.\n",
    "\n",
    "\n",
    "omega   = np.linspace((1-1e-3)*omega_p, (1+1.1e-3)*omega_p, 1001)\n",
    "\n",
    "q1      = np.zeros((len(omega), 4), dtype = float)\n",
    "\n",
    "for j in range(len(omega)):\n",
    "        \n",
    "    epsA = np.array([[2.2, 0, 0], [0, 1.2, 0], [0, 0, 1 - (omega_p/omega[j])**2]])*eps0\n",
    "    muA  = np.array([[1., 0, 0], [0, 1., 0], [0, 0, 1.]])*mu0\n",
    "    xiA  = np.zeros((3,3), dtype = complex)\n",
    "    zetA = np.zeros((3,3), dtype = complex)\n",
    "    dA   = length\n",
    "        \n",
    "    rot  = np.array([[np.cos(phi1), -np.sin(phi1), 0], [np.sin(phi1), np.cos(phi1), 0], [0, 0, 1]])\n",
    "    \n",
    "    Uniform_ep_list = [epsA, rot @ epsA @ np.linalg.inv(rot), matrix_power(rot, 2) @ epsA @ matrix_power(rot, -2)]\n",
    "    Uniform_mu_list   = [muA, rot @ muA @ np.linalg.inv(rot), matrix_power(rot, 2) @ muA @ matrix_power(rot, -2)]\n",
    "    Uniform_xi_list   = [xiA, rot @ xiA @ np.linalg.inv(rot), matrix_power(rot, 2) @ xiA @ matrix_power(rot, -2)]\n",
    "    Uniform_zeta_list = [zetA, rot @ zetA @ np.linalg.inv(rot), matrix_power(rot, 2) @ zetA @ matrix_power(rot, -2)]\n",
    "    thickness_list    = [dA/3, dA/3, dA/3]\n",
    "\n",
    "    M1 = MakeMMatrix(omega[j], 0, kx0, ky0, Uniform_ep_list, Uniform_mu_list, Uniform_xi_list, Uniform_zeta_list, thickness_list)\n",
    "    M2 = MakeMMatrix(omega[j], 1, kx0, ky0, Uniform_ep_list, Uniform_mu_list, Uniform_xi_list, Uniform_zeta_list, thickness_list)\n",
    "    M3 = MakeMMatrix(omega[j], 2, kx0, ky0, Uniform_ep_list, Uniform_mu_list, Uniform_xi_list, Uniform_zeta_list, thickness_list)\n",
    " \n",
    "    \n",
    "    q1[j], sort = BandStructure(M3 @ M2 @ M1, thickness_list)"
   ]
  },
  {
   "cell_type": "code",
   "execution_count": 43,
   "id": "e16e9d95",
   "metadata": {},
   "outputs": [
    {
     "data": {
      "text/plain": [
       "<matplotlib.collections.PathCollection at 0x7f87a9cfda30>"
      ]
     },
     "execution_count": 43,
     "metadata": {},
     "output_type": "execute_result"
    },
    {
     "data": {
      "image/png": "[encoded data removed]",
      "text/plain": [
       "<Figure size 432x288 with 1 Axes>"
      ]
     },
     "metadata": {
      "needs_background": "light"
     },
     "output_type": "display_data"
    }
   ],
   "source": [
    "import matplotlib.pyplot as plt\n",
    "\n",
    "plt.ylabel(r\"$dk_zdw$\", fontsize = 20)\n",
    "plt.xlabel(r\"$(k_x L)^2$\", fontsize = 20)\n",
    "plt.scatter((kx0*length)**2, (q1[:,3]-2.1882345816667197)*(omega/omega_p-1),s = 2, marker='.',  color = \"black\")\n",
    "#plt.plot((omega/omega_p-1)**2, (omega/omega_p-1)**2*0.5*np.pi*np.sqrt(2))"
   ]
  },
  {
   "cell_type": "markdown",
   "id": "55e5c768",
   "metadata": {},
   "source": [
    "$\\alpha_{+x}$"
   ]
  },
  {
   "cell_type": "code",
   "execution_count": 47,
   "id": "644b4eaf",
   "metadata": {},
   "outputs": [
    {
     "data": {
      "text/plain": [
       "array([-1.30334142e-01,  3.19271590e-08])"
      ]
     },
     "execution_count": 47,
     "metadata": {},
     "output_type": "execute_result"
    }
   ],
   "source": [
    "np.polyfit((kx0*length)**2, (q1[:,3]-2.1882345816667197)*1e-4, 1)"
   ]
  },
  {
   "cell_type": "markdown",
   "id": "a69e4092",
   "metadata": {},
   "source": [
    "$\\alpha_{-x}$"
   ]
  },
  {
   "cell_type": "code",
   "execution_count": 45,
   "id": "93778103",
   "metadata": {},
   "outputs": [
    {
     "data": {
      "text/plain": [
       "array([-1.33135950e-01,  1.24802911e-08])"
      ]
     },
     "execution_count": 45,
     "metadata": {},
     "output_type": "execute_result"
    }
   ],
   "source": [
    "np.polyfit((kx0*length)**2, -(q1[:,3]-2.1882345816667197)*1e-4, 1)"
   ]
  },
  {
   "cell_type": "code",
   "execution_count": 36,
   "id": "b5154ee2",
   "metadata": {
    "scrolled": true
   },
   "outputs": [
    {
     "data": {
      "text/plain": [
       "<matplotlib.collections.PathCollection at 0x7f874805e280>"
      ]
     },
     "execution_count": 36,
     "metadata": {},
     "output_type": "execute_result"
    },
    {
     "data": {
      "image/png": "[encoded data removed]",
      "text/plain": [
       "<Figure size 432x288 with 1 Axes>"
      ]
     },
     "metadata": {
      "needs_background": "light"
     },
     "output_type": "display_data"
    }
   ],
   "source": [
    "import matplotlib.pyplot as plt\n",
    "\n",
    "plt.ylabel(r\"$dk_zdw$\", fontsize = 20)\n",
    "plt.xlabel(r\"$(k_y L)^2$\", fontsize = 20)\n",
    "plt.scatter((ky0*length)**2, (q1[:,3]-2.1882345816667197)*(omega/omega_p-1),s = 2, marker='.',  color = \"black\")\n",
    "#plt.plot((omega/omega_p-1)**2, (omega/omega_p-1)**2*0.5*np.pi*np.sqrt(2))"
   ]
  },
  {
   "cell_type": "markdown",
   "id": "06a7cdd0",
   "metadata": {},
   "source": [
    "$\\alpha_{+y}$"
   ]
  },
  {
   "cell_type": "code",
   "execution_count": null,
   "id": "6a202053",
   "metadata": {},
   "outputs": [],
   "source": [
    "np.polyfit((ky0*length)**2, (q1[:,3]-2.1882345816667197)*1e-4, 1)"
   ]
  },
  {
   "cell_type": "markdown",
   "id": "0cae2eb9",
   "metadata": {},
   "source": [
    "$\\alpha_{-y}$"
   ]
  },
  {
   "cell_type": "code",
   "execution_count": 41,
   "id": "edde8d15",
   "metadata": {},
   "outputs": [
    {
     "data": {
      "text/plain": [
       "array([-9.48165379e-02,  1.25321862e-08])"
      ]
     },
     "execution_count": 41,
     "metadata": {},
     "output_type": "execute_result"
    }
   ],
   "source": [
    "np.polyfit((ky0*length)**2, -(q1[:,3]-2.1882345816667197)*1e-4, 1)"
   ]
  },
  {
   "cell_type": "code",
   "execution_count": 52,
   "id": "0d2e6152",
   "metadata": {
    "scrolled": true
   },
   "outputs": [
    {
     "data": {
      "text/plain": [
       "<matplotlib.collections.PathCollection at 0x7f87983f0940>"
      ]
     },
     "execution_count": 52,
     "metadata": {},
     "output_type": "execute_result"
    },
    {
     "data": {
      "image/png": "[encoded data removed]",
      "text/plain": [
       "<Figure size 432x288 with 1 Axes>"
      ]
     },
     "metadata": {
      "needs_background": "light"
     },
     "output_type": "display_data"
    }
   ],
   "source": [
    "import matplotlib.pyplot as plt\n",
    "\n",
    "plt.ylabel(r\"$dk_z$\", fontsize = 20)\n",
    "plt.xlabel(r\"$\\delta \\omega$\", fontsize = 20)\n",
    "plt.scatter((omega/omega_p-1), (q1[:,3]-2.1882345816667197),s = 2, marker='.',  color = \"black\")\n",
    "#plt.plot((omega/omega_p-1)**2, (omega/omega_p-1)**2*0.5*np.pi*np.sqrt(2))"
   ]
  },
  {
   "cell_type": "markdown",
   "id": "ef450f9f",
   "metadata": {},
   "source": [
    "$\\beta$"
   ]
  },
  {
   "cell_type": "code",
   "execution_count": 54,
   "id": "8ca5369a",
   "metadata": {},
   "outputs": [
    {
     "data": {
      "text/plain": [
       "array([2.22154806e+00, 1.04282931e-04])"
      ]
     },
     "execution_count": 54,
     "metadata": {},
     "output_type": "execute_result"
    }
   ],
   "source": [
    "np.polyfit((omega/omega_p-1), (q1[:,3]-2.1882345816667197), 1)"
   ]
  },
  {
   "cell_type": "markdown",
   "id": "00358f11",
   "metadata": {},
   "source": [
    "# Berry phase calculation\n",
    "\n",
    "After knowing values of each fitting parameter, we solve the equation $\\delta k_z \\delta \\omega = \\beta \\omega^2 - \\alpha_x k_x^2 - \\alpha_y k_y^2$ for $\\delta \\omega$ for each ($k_x, k_y, k_z$) parametric set. Then, we will work with this values in TMM matrix to find the inner product between the states. "
   ]
  },
  {
   "cell_type": "code",
   "execution_count": 19,
   "id": "9007d0da",
   "metadata": {},
   "outputs": [],
   "source": [
    "import numpy as np\n",
    "import scipy as sp\n",
    "import scipy.constants as spcs\n",
    "from numpy.linalg import matrix_power\n",
    "\n",
    "# universal constants \n",
    "c       = spcs.c\n",
    "eps0    = spcs.epsilon_0\n",
    "mu0     = spcs.mu_0\n",
    "eta0    = np.sqrt(mu0/eps0)\n",
    "\n",
    "# problem parameters \n",
    "length  = 1e-6\n",
    "omega_p = 0.5*np.pi*c/length\n",
    "n1      = 1\n",
    "n2      = 1\n",
    "phi     = np.linspace(0, 2*np.pi, 11)\n",
    "theta   = np.linspace(0.001*np.pi, 0.999*np.pi, 1001)\n",
    "phi1    = 2*np.pi/9\n",
    "thetar  = np.arcsin(n1*np.sin(theta)/n2)\n",
    "\n",
    "dk      = 2221.44\n",
    "\n",
    "beta    = 2.22154806e+00\n",
    "alpha1  = 1.30334142e-01\n",
    "alpha2  = 9.18566936e-02\n",
    "a1      = 1.33135950e-01\n",
    "a2      = 9.48165379e-02\n",
    "\n",
    "ve1     = np.zeros((len(theta), len(phi), 3, 4), dtype = complex)\n",
    "vh1     = np.zeros((len(theta), len(phi), 3, 4), dtype = complex)\n",
    "ve2     = np.zeros((len(theta), len(phi), 3, 4), dtype = complex)\n",
    "vh2     = np.zeros((len(theta), len(phi), 3, 4), dtype = complex)\n",
    "ve3     = np.zeros((len(theta), len(phi), 3, 4), dtype = complex)\n",
    "vh3     = np.zeros((len(theta), len(phi), 3, 4), dtype = complex)\n",
    "\n",
    "q1      = np.zeros((len(theta), len(phi), 4), dtype = float)\n",
    "\n",
    "\n",
    "weps1   = np.zeros((len(theta), len(phi), 3, 3), dtype = float)\n",
    "weps2   = np.zeros((len(theta), len(phi), 3, 3), dtype = float)\n",
    "weps3   = np.zeros((len(theta), len(phi), 3, 3), dtype = float)\n",
    "\n",
    "dw      = np.zeros((len(theta), len(phi)), dtype = float)\n",
    "\n",
    "for j in range(len(theta)):\n",
    "    for i in range(len(phi)):\n",
    "        \n",
    "        kx0 = dk*np.sin(theta[j])*np.cos(phi[i])\n",
    "        ky0 = dk*np.sin(theta[j])*np.sin(phi[i])\n",
    "        dkz = dk*np.cos(theta[j])\n",
    "        \n",
    "        if dkz > 0:\n",
    "            dw[j, i] = (dkz*length+np.sqrt((dkz*length)**2+4*alpha1*beta*(kx0*length)**2+4*alpha2*beta*(ky0*length)**2))/(2*beta)\n",
    "        else:\n",
    "            dw[j, i] = (dkz*length+np.sqrt((dkz*length)**2+4*alpha1*beta*(kx0*length)**2+4*alpha2*beta*(ky0*length)**2))/(2*beta)\n",
    "        \n",
    "        omega = (1+dw[j, i])*omega_p\n",
    "        \n",
    "        epsA = np.array([[2.2, 0, 0], [0, 1.2, 0], [0, 0, 1 - (omega_p/omega)**2]])*eps0\n",
    "        muA  = np.array([[1., 0, 0], [0, 1., 0], [0, 0, 1.]])*mu0\n",
    "        xiA  = np.zeros((3,3), dtype = complex)\n",
    "        zetA = np.zeros((3,3), dtype = complex)\n",
    "        dA   = length\n",
    "        \n",
    "        rot  = np.array([[np.cos(phi1), -np.sin(phi1), 0], [np.sin(phi1), np.cos(phi1), 0], [0, 0, 1]])\n",
    "    \n",
    "        weps1[j][i]  = np.array([[2.2, 0, 0], [0, 1.2, 0], [0, 0, 1+omega_p**2/omega**2]])*eps0\n",
    "        weps2[j][i]  = rot @ weps1[j][i] @ np.linalg.inv(rot)\n",
    "        weps3[j][i]  = matrix_power(rot, 2) @ weps1[j][i] @ matrix_power(rot, -2)\n",
    "        \n",
    "        Uniform_ep_list = [epsA, rot @ epsA @ np.linalg.inv(rot), matrix_power(rot, 2) @ epsA @ matrix_power(rot, -2)]\n",
    "        Uniform_mu_list   = [muA, rot @ muA @ np.linalg.inv(rot), matrix_power(rot, 2) @ muA @ matrix_power(rot, -2)]\n",
    "        Uniform_xi_list   = [xiA, rot @ xiA @ np.linalg.inv(rot), matrix_power(rot, 2) @ xiA @ matrix_power(rot, -2)]\n",
    "        Uniform_zeta_list = [zetA, rot @ zetA @ np.linalg.inv(rot), matrix_power(rot, 2) @ zetA @ matrix_power(rot, -2)]\n",
    "        thickness_list    = [dA/3, dA/3, dA/3]\n",
    "\n",
    "        M1 = MakeMMatrix(omega, 0, kx0, ky0, Uniform_ep_list, Uniform_mu_list, Uniform_xi_list, Uniform_zeta_list, thickness_list)\n",
    "        M2 = MakeMMatrix(omega, 1, kx0, ky0, Uniform_ep_list, Uniform_mu_list, Uniform_xi_list, Uniform_zeta_list, thickness_list)\n",
    "        M3 = MakeMMatrix(omega, 2, kx0, ky0, Uniform_ep_list, Uniform_mu_list, Uniform_xi_list, Uniform_zeta_list, thickness_list)\n",
    " \n",
    "    \n",
    "        q1[j, i], sort = BandStructure(M3 @ M2 @ M1, thickness_list)\n",
    "\n",
    "\n",
    "        ve1[j, i] = Electric(M3 @ M2 @ M1, omega, 0, kx0, ky0, Uniform_ep_list, Uniform_mu_list, Uniform_xi_list, Uniform_zeta_list, thickness_list)\n",
    "        vh1[j, i] = Magnetic(M3 @ M2 @ M1, omega, 0, kx0, ky0, Uniform_ep_list, Uniform_mu_list, Uniform_xi_list, Uniform_zeta_list, thickness_list)\n",
    "        ve2[j, i] = Electric(M3 @ M2 @ M1, omega, 1, kx0, ky0, Uniform_ep_list, Uniform_mu_list, Uniform_xi_list, Uniform_zeta_list, thickness_list)\n",
    "        vh2[j, i] = Magnetic(M3 @ M2 @ M1, omega, 1, kx0, ky0, Uniform_ep_list, Uniform_mu_list, Uniform_xi_list, Uniform_zeta_list, thickness_list)\n",
    "        ve3[j, i] = Electric(M3 @ M2 @ M1, omega, 2, kx0, ky0, Uniform_ep_list, Uniform_mu_list, Uniform_xi_list, Uniform_zeta_list, thickness_list)\n",
    "        vh3[j, i] = Magnetic(M3 @ M2 @ M1, omega, 2, kx0, ky0, Uniform_ep_list, Uniform_mu_list, Uniform_xi_list, Uniform_zeta_list, thickness_list)\n",
    "\n",
    "\n",
    "    #inner[j, i] = Poynting(weps, Uniform_mu_list[0], Uniform_xi_list[0], ve1[i,:,0], ve1[:,0], vh1[:,0], vh1[:,0])\n",
    "\n",
    "berry1 = np.zeros(len(theta), dtype = float)\n",
    "berry2 = np.zeros(len(theta), dtype = float)\n",
    "\n",
    "wmu   = mu0*np.eye(3)\n",
    "wxi   = np.zeros((3,3))*1j*np.sqrt(mu0*eps0)\n",
    "\n",
    "for j in range(len(theta)):\n",
    "    \n",
    "    \n",
    "    for i in range(len(phi)-1):\n",
    "        \n",
    "        inner = EnDensity3(weps1[j][i], weps2[j][i], weps3[j][i], muA, rot @ muA @ np.linalg.inv(rot), matrix_power(rot, 2) @ muA @ matrix_power(rot, -2),  ve1[j,i,:,3], ve2[j,i,:,3], ve3[j,i,:,3], ve1[j,i+1, :,3], ve2[j,i+1, :,3], ve3[j,i+1, :,3], vh1[j,i,:,3], vh2[j,i,:,3], vh3[j,i,:,3], vh1[j,i+1, :,3], vh2[j,i+1, :,3], vh3[j,i+1, :,3])\n",
    "        \n",
    "        berry1[j] = berry1[j] - np.imag(np.log(inner))\n",
    "\n",
    "        \n",
    "for j in range(len(theta)):\n",
    "    for i in range(len(phi)):\n",
    "        \n",
    "        kx0 = dk*np.sin(theta[j])*np.cos(phi[i])\n",
    "        ky0 = dk*np.sin(theta[j])*np.sin(phi[i])\n",
    "        dkz = dk*np.cos(theta[j])\n",
    "        \n",
    "        if dkz > 0:\n",
    "            dw[j, i] = (dkz*length-np.sqrt((dkz*length)**2+4*a1*beta*(kx0*length)**2+4*a2*beta*(ky0*length)**2))/(2*beta)\n",
    "        else:\n",
    "            dw[j, i] = (dkz*length-np.sqrt((dkz*length)**2+4*a1*beta*(kx0*length)**2+4*a2*beta*(ky0*length)**2))/(2*beta)\n",
    "        \n",
    "        omega = (1+dw[j, i])*omega_p\n",
    "        \n",
    "        epsA = np.array([[2.2, 0, 0], [0, 1.2, 0], [0, 0, 1 - (omega_p/omega)**2]])*eps0\n",
    "        muA  = np.array([[1., 0, 0], [0, 1., 0], [0, 0, 1.]])*mu0\n",
    "        xiA  = np.zeros((3,3), dtype = complex)\n",
    "        zetA = np.zeros((3,3), dtype = complex)\n",
    "        dA   = length\n",
    "        \n",
    "        rot  = np.array([[np.cos(phi1), -np.sin(phi1), 0], [np.sin(phi1), np.cos(phi1), 0], [0, 0, 1]])\n",
    "    \n",
    "        weps1[j][i]  = np.array([[2.2, 0, 0], [0, 1.2, 0], [0, 0, 1+omega_p**2/omega**2]])*eps0\n",
    "        weps2[j][i]  = rot @ weps1[j][i] @ np.linalg.inv(rot)\n",
    "        weps3[j][i]  = matrix_power(rot, 2) @ weps1[j][i] @ matrix_power(rot, -2)\n",
    "        \n",
    "        Uniform_ep_list = [epsA, rot @ epsA @ np.linalg.inv(rot), matrix_power(rot, 2) @ epsA @ matrix_power(rot, -2)]\n",
    "        Uniform_mu_list   = [muA, rot @ muA @ np.linalg.inv(rot), matrix_power(rot, 2) @ muA @ matrix_power(rot, -2)]\n",
    "        Uniform_xi_list   = [xiA, rot @ xiA @ np.linalg.inv(rot), matrix_power(rot, 2) @ xiA @ matrix_power(rot, -2)]\n",
    "        Uniform_zeta_list = [zetA, rot @ zetA @ np.linalg.inv(rot), matrix_power(rot, 2) @ zetA @ matrix_power(rot, -2)]\n",
    "        thickness_list    = [dA/3, dA/3, dA/3]\n",
    "\n",
    "        M1 = MakeMMatrix(omega, 0, kx0, ky0, Uniform_ep_list, Uniform_mu_list, Uniform_xi_list, Uniform_zeta_list, thickness_list)\n",
    "        M2 = MakeMMatrix(omega, 1, kx0, ky0, Uniform_ep_list, Uniform_mu_list, Uniform_xi_list, Uniform_zeta_list, thickness_list)\n",
    "        M3 = MakeMMatrix(omega, 2, kx0, ky0, Uniform_ep_list, Uniform_mu_list, Uniform_xi_list, Uniform_zeta_list, thickness_list)\n",
    " \n",
    "    \n",
    "        q1[j, i], sort = BandStructure(M3 @ M2 @ M1, thickness_list)\n",
    "\n",
    "\n",
    "        ve1[j, i] = Electric(M3 @ M2 @ M1, omega, 0, kx0, ky0, Uniform_ep_list, Uniform_mu_list, Uniform_xi_list, Uniform_zeta_list, thickness_list)\n",
    "        vh1[j, i] = Magnetic(M3 @ M2 @ M1, omega, 0, kx0, ky0, Uniform_ep_list, Uniform_mu_list, Uniform_xi_list, Uniform_zeta_list, thickness_list)\n",
    "        ve2[j, i] = Electric(M3 @ M2 @ M1, omega, 1, kx0, ky0, Uniform_ep_list, Uniform_mu_list, Uniform_xi_list, Uniform_zeta_list, thickness_list)\n",
    "        vh2[j, i] = Magnetic(M3 @ M2 @ M1, omega, 1, kx0, ky0, Uniform_ep_list, Uniform_mu_list, Uniform_xi_list, Uniform_zeta_list, thickness_list)\n",
    "        ve3[j, i] = Electric(M3 @ M2 @ M1, omega, 2, kx0, ky0, Uniform_ep_list, Uniform_mu_list, Uniform_xi_list, Uniform_zeta_list, thickness_list)\n",
    "        vh3[j, i] = Magnetic(M3 @ M2 @ M1, omega, 2, kx0, ky0, Uniform_ep_list, Uniform_mu_list, Uniform_xi_list, Uniform_zeta_list, thickness_list)\n",
    "\n",
    "\n",
    "\n",
    "for j in range(len(theta)):\n",
    "    for i in range(len(phi)-1):\n",
    "        \n",
    "        inner = EnDensity3(weps1[j][i], weps2[j][i], weps3[j][i], muA, rot @ muA @ np.linalg.inv(rot), matrix_power(rot, 2) @ muA @ matrix_power(rot, -2),  ve1[j,i,:,3], ve2[j,i,:,3], ve3[j,i,:,3], ve1[j,i+1, :,3], ve2[j,i+1, :,3], ve3[j,i+1, :,3], vh1[j,i,:,3], vh2[j,i,:,3], vh3[j,i,:,3], vh1[j,i+1, :,3], vh2[j,i+1, :,3], vh3[j,i+1, :,3])\n",
    "        \n",
    "        berry2[j] = berry2[j] - np.imag(np.log(inner))"
   ]
  },
  {
   "cell_type": "code",
   "execution_count": 20,
   "id": "aeded133",
   "metadata": {},
   "outputs": [],
   "source": [
    "berry1 = berry1 % (2*np.pi)\n",
    "berry2 = berry2 % (2*np.pi)"
   ]
  },
  {
   "cell_type": "code",
   "execution_count": 21,
   "id": "29a9bd1d",
   "metadata": {},
   "outputs": [
    {
     "data": {
      "text/plain": [
       "<matplotlib.legend.Legend at 0x7fcf085968e0>"
      ]
     },
     "execution_count": 21,
     "metadata": {},
     "output_type": "execute_result"
    },
    {
     "data": {
      "image/png": "[encoded data removed]",
      "text/plain": [
       "<Figure size 432x288 with 1 Axes>"
      ]
     },
     "metadata": {
      "needs_background": "light"
     },
     "output_type": "display_data"
    }
   ],
   "source": [
    "import matplotlib.pyplot as plt\n",
    "\n",
    "plt.xlabel(r\"$\\theta/\\pi$\", fontsize = 20)\n",
    "plt.ylabel(r\"$\\beta/\\pi$\", fontsize = 20)\n",
    "plt.scatter(theta/np.pi, berry1/np.pi,s = 5, marker='.',  color = \"red\")\n",
    "plt.scatter(theta/np.pi, berry2/np.pi,s = 5, marker='.',  color = \"black\")\n",
    "plt.legend(['Upper mode', 'Lower mode'], fontsize=15)"
   ]
  },
  {
   "cell_type": "code",
   "execution_count": 16,
   "id": "9f146b55",
   "metadata": {},
   "outputs": [],
   "source": [
    "import scipy.io\n",
    "\n",
    "scipy.io.savemat('test.mat', dict(x=theta/np.pi, y=berry1/np.pi, z=berry2/np.pi))"
   ]
  },
  {
   "cell_type": "markdown",
   "id": "b1d660d2",
   "metadata": {},
   "source": [
    "### The other crossing."
   ]
  },
  {
   "cell_type": "code",
   "execution_count": 22,
   "id": "4703671e",
   "metadata": {},
   "outputs": [],
   "source": [
    "import numpy as np\n",
    "import scipy as sp\n",
    "import scipy.constants as spcs\n",
    "from numpy.linalg import matrix_power\n",
    "\n",
    "# universal constants \n",
    "c       = spcs.c\n",
    "eps0    = spcs.epsilon_0\n",
    "mu0     = spcs.mu_0\n",
    "eta0    = np.sqrt(mu0/eps0)\n",
    "\n",
    "# problem parameters \n",
    "length  = 1e-6\n",
    "omega_p = 0.5*np.pi*c/length\n",
    "n1      = 1\n",
    "n2      = 1\n",
    "#phi     = np.linspace(0, 2*np.pi, 11)\n",
    "#theta   = np.linspace(0, np.pi, 1001)\n",
    "phi1    = 2*np.pi/9\n",
    "\n",
    "dk      = 2221.44\n",
    "\n",
    "\n",
    "kx0     = np.linspace(-dk, dk, 1001)\n",
    "ky0     = 0.\n",
    "\n",
    "\n",
    "omega   = (1-1e-4)*omega_p\n",
    "\n",
    "q1      = np.zeros((len(kx0), 4), dtype = float)\n",
    "\n",
    "for j in range(len(kx0)):\n",
    "        \n",
    "    epsA = np.array([[2.2, 0, 0], [0, 1.2, 0], [0, 0, 1 - (omega_p/omega)**2]])*eps0\n",
    "    muA  = np.array([[1., 0, 0], [0, 1., 0], [0, 0, 1.]])*mu0\n",
    "    xiA  = np.zeros((3,3), dtype = complex)\n",
    "    zetA = np.zeros((3,3), dtype = complex)\n",
    "    dA   = length\n",
    "        \n",
    "    rot  = np.array([[np.cos(phi1), -np.sin(phi1), 0], [np.sin(phi1), np.cos(phi1), 0], [0, 0, 1]])\n",
    "    \n",
    "    Uniform_ep_list = [epsA, rot @ epsA @ np.linalg.inv(rot), matrix_power(rot, 2) @ epsA @ matrix_power(rot, -2)]\n",
    "    Uniform_mu_list   = [muA, rot @ muA @ np.linalg.inv(rot), matrix_power(rot, 2) @ muA @ matrix_power(rot, -2)]\n",
    "    Uniform_xi_list   = [xiA, rot @ xiA @ np.linalg.inv(rot), matrix_power(rot, 2) @ xiA @ matrix_power(rot, -2)]\n",
    "    Uniform_zeta_list = [zetA, rot @ zetA @ np.linalg.inv(rot), matrix_power(rot, 2) @ zetA @ matrix_power(rot, -2)]\n",
    "    thickness_list    = [dA/3, dA/3, dA/3]\n",
    "\n",
    "    M1 = MakeMMatrix(omega, 0, kx0[j], ky0, Uniform_ep_list, Uniform_mu_list, Uniform_xi_list, Uniform_zeta_list, thickness_list)\n",
    "    M2 = MakeMMatrix(omega, 1, kx0[j], ky0, Uniform_ep_list, Uniform_mu_list, Uniform_xi_list, Uniform_zeta_list, thickness_list)\n",
    "    M3 = MakeMMatrix(omega, 2, kx0[j], ky0, Uniform_ep_list, Uniform_mu_list, Uniform_xi_list, Uniform_zeta_list, thickness_list)\n",
    " \n",
    "    \n",
    "    q1[j], sort = BandStructure(M3 @ M2 @ M1, thickness_list)"
   ]
  },
  {
   "cell_type": "markdown",
   "id": "1bc502de",
   "metadata": {},
   "source": [
    "$\\alpha_{+x}$"
   ]
  },
  {
   "cell_type": "code",
   "execution_count": 23,
   "id": "73b11993",
   "metadata": {},
   "outputs": [
    {
     "data": {
      "text/plain": [
       "array([ 8.01282388e-02, -9.45062015e-09])"
      ]
     },
     "execution_count": 23,
     "metadata": {},
     "output_type": "execute_result"
    }
   ],
   "source": [
    "np.polyfit((kx0*length)**2, (q1[:,2]-1.9175314763033413)*1e-4, 1)"
   ]
  },
  {
   "cell_type": "markdown",
   "id": "f87e601e",
   "metadata": {},
   "source": [
    "$\\alpha_{-x}$"
   ]
  },
  {
   "cell_type": "code",
   "execution_count": 21,
   "id": "c9adbc4e",
   "metadata": {},
   "outputs": [
    {
     "data": {
      "text/plain": [
       "array([-1.13622769e-01,  9.40327882e-09])"
      ]
     },
     "execution_count": 21,
     "metadata": {},
     "output_type": "execute_result"
    }
   ],
   "source": [
    "np.polyfit((ky0*length)**2, -(q1[:,2]-1.9175314763033413)*1e-4, 1)"
   ]
  },
  {
   "cell_type": "code",
   "execution_count": 11,
   "id": "fbf34836",
   "metadata": {},
   "outputs": [
    {
     "data": {
      "text/plain": [
       "array([1.94941084e+00, 9.15079702e-05])"
      ]
     },
     "execution_count": 11,
     "metadata": {},
     "output_type": "execute_result"
    }
   ],
   "source": [
    "np.polyfit((omega/omega_p-1), (q1[:,2]-1.9175314763033413), 1)"
   ]
  },
  {
   "cell_type": "code",
   "execution_count": 22,
   "id": "bf50afcf",
   "metadata": {},
   "outputs": [],
   "source": [
    "import numpy as np\n",
    "import scipy as sp\n",
    "import scipy.constants as spcs\n",
    "from numpy.linalg import matrix_power\n",
    "\n",
    "# universal constants \n",
    "c       = spcs.c\n",
    "eps0    = spcs.epsilon_0\n",
    "mu0     = spcs.mu_0\n",
    "eta0    = np.sqrt(mu0/eps0)\n",
    "\n",
    "# problem parameters \n",
    "length  = 1e-6\n",
    "omega_p = 0.5*np.pi*c/length\n",
    "n1      = 1\n",
    "n2      = 1\n",
    "phi     = np.linspace(0, 2*np.pi, 11)\n",
    "theta   = np.linspace(0.001*np.pi, 0.999*np.pi, 1001)\n",
    "phi1    = 2*np.pi/9\n",
    "thetar  = np.arcsin(n1*np.sin(theta)/n2)\n",
    "\n",
    "dk      = 2221.44\n",
    "\n",
    "beta    = 1.94941084e+00\n",
    "alpha1  = 8.38451703e-02\n",
    "alpha2  = 1.17477461e-01\n",
    "a1      = 8.01282388e-02\n",
    "a2      = 1.13622769e-01\n",
    "\n",
    "ve1     = np.zeros((len(theta), len(phi), 3, 4), dtype = complex)\n",
    "vh1     = np.zeros((len(theta), len(phi), 3, 4), dtype = complex)\n",
    "ve2     = np.zeros((len(theta), len(phi), 3, 4), dtype = complex)\n",
    "vh2     = np.zeros((len(theta), len(phi), 3, 4), dtype = complex)\n",
    "ve3     = np.zeros((len(theta), len(phi), 3, 4), dtype = complex)\n",
    "vh3     = np.zeros((len(theta), len(phi), 3, 4), dtype = complex)\n",
    "\n",
    "q1      = np.zeros((len(theta), len(phi), 4), dtype = float)\n",
    "\n",
    "\n",
    "weps1   = np.zeros((len(theta), len(phi), 3, 3), dtype = float)\n",
    "weps2   = np.zeros((len(theta), len(phi), 3, 3), dtype = float)\n",
    "weps3   = np.zeros((len(theta), len(phi), 3, 3), dtype = float)\n",
    "\n",
    "dw      = np.zeros((len(theta), len(phi)), dtype = float)\n",
    "\n",
    "for j in range(len(theta)):\n",
    "    for i in range(len(phi)):\n",
    "        \n",
    "        kx0 = dk*np.sin(theta[j])*np.cos(phi[i])\n",
    "        ky0 = dk*np.sin(theta[j])*np.sin(phi[i])\n",
    "        dkz = dk*np.cos(theta[j])\n",
    "        \n",
    "        if dkz > 0:\n",
    "            dw[j, i] = (dkz*length+np.sqrt((dkz*length)**2+4*alpha1*beta*(kx0*length)**2+4*alpha2*beta*(ky0*length)**2))/(2*beta)\n",
    "        else:\n",
    "            dw[j, i] = (dkz*length+np.sqrt((dkz*length)**2+4*alpha1*beta*(kx0*length)**2+4*alpha2*beta*(ky0*length)**2))/(2*beta)\n",
    "        \n",
    "        omega = (1+dw[j, i])*omega_p\n",
    "        \n",
    "        epsA = np.array([[2.2, 0, 0], [0, 1.2, 0], [0, 0, 1 - (omega_p/omega)**2]])*eps0\n",
    "        muA  = np.array([[1., 0, 0], [0, 1., 0], [0, 0, 1.]])*mu0\n",
    "        xiA  = np.zeros((3,3), dtype = complex)\n",
    "        zetA = np.zeros((3,3), dtype = complex)\n",
    "        dA   = length\n",
    "        \n",
    "        rot  = np.array([[np.cos(phi1), -np.sin(phi1), 0], [np.sin(phi1), np.cos(phi1), 0], [0, 0, 1]])\n",
    "    \n",
    "        weps1[j][i]  = np.array([[2.2, 0, 0], [0, 1.2, 0], [0, 0, 1+omega_p**2/omega**2]])*eps0\n",
    "        weps2[j][i]  = rot @ weps1[j][i] @ np.linalg.inv(rot)\n",
    "        weps3[j][i]  = matrix_power(rot, 2) @ weps1[j][i] @ matrix_power(rot, -2)\n",
    "        \n",
    "        Uniform_ep_list = [epsA, rot @ epsA @ np.linalg.inv(rot), matrix_power(rot, 2) @ epsA @ matrix_power(rot, -2)]\n",
    "        Uniform_mu_list   = [muA, rot @ muA @ np.linalg.inv(rot), matrix_power(rot, 2) @ muA @ matrix_power(rot, -2)]\n",
    "        Uniform_xi_list   = [xiA, rot @ xiA @ np.linalg.inv(rot), matrix_power(rot, 2) @ xiA @ matrix_power(rot, -2)]\n",
    "        Uniform_zeta_list = [zetA, rot @ zetA @ np.linalg.inv(rot), matrix_power(rot, 2) @ zetA @ matrix_power(rot, -2)]\n",
    "        thickness_list    = [dA/3, dA/3, dA/3]\n",
    "\n",
    "        M1 = MakeMMatrix(omega, 0, kx0, ky0, Uniform_ep_list, Uniform_mu_list, Uniform_xi_list, Uniform_zeta_list, thickness_list)\n",
    "        M2 = MakeMMatrix(omega, 1, kx0, ky0, Uniform_ep_list, Uniform_mu_list, Uniform_xi_list, Uniform_zeta_list, thickness_list)\n",
    "        M3 = MakeMMatrix(omega, 2, kx0, ky0, Uniform_ep_list, Uniform_mu_list, Uniform_xi_list, Uniform_zeta_list, thickness_list)\n",
    " \n",
    "    \n",
    "        q1[j, i], sort = BandStructure(M3 @ M2 @ M1, thickness_list)\n",
    "\n",
    "\n",
    "        ve1[j, i] = Electric(M3 @ M2 @ M1, omega, 0, kx0, ky0, Uniform_ep_list, Uniform_mu_list, Uniform_xi_list, Uniform_zeta_list, thickness_list)\n",
    "        vh1[j, i] = Magnetic(M3 @ M2 @ M1, omega, 0, kx0, ky0, Uniform_ep_list, Uniform_mu_list, Uniform_xi_list, Uniform_zeta_list, thickness_list)\n",
    "        ve2[j, i] = Electric(M3 @ M2 @ M1, omega, 1, kx0, ky0, Uniform_ep_list, Uniform_mu_list, Uniform_xi_list, Uniform_zeta_list, thickness_list)\n",
    "        vh2[j, i] = Magnetic(M3 @ M2 @ M1, omega, 1, kx0, ky0, Uniform_ep_list, Uniform_mu_list, Uniform_xi_list, Uniform_zeta_list, thickness_list)\n",
    "        ve3[j, i] = Electric(M3 @ M2 @ M1, omega, 2, kx0, ky0, Uniform_ep_list, Uniform_mu_list, Uniform_xi_list, Uniform_zeta_list, thickness_list)\n",
    "        vh3[j, i] = Magnetic(M3 @ M2 @ M1, omega, 2, kx0, ky0, Uniform_ep_list, Uniform_mu_list, Uniform_xi_list, Uniform_zeta_list, thickness_list)\n",
    "\n",
    "\n",
    "    #inner[j, i] = Poynting(weps, Uniform_mu_list[0], Uniform_xi_list[0], ve1[i,:,0], ve1[:,0], vh1[:,0], vh1[:,0])\n",
    "\n",
    "berry1 = np.zeros(len(theta), dtype = float)\n",
    "berry2 = np.zeros(len(theta), dtype = float)\n",
    "\n",
    "wmu   = mu0*np.eye(3)\n",
    "wxi   = np.zeros((3,3))*1j*np.sqrt(mu0*eps0)\n",
    "\n",
    "for j in range(len(theta)):\n",
    "    \n",
    "    \n",
    "    for i in range(len(phi)-1):\n",
    "        \n",
    "        inner = EnDensity3(weps1[j][i], weps2[j][i], weps3[j][i], muA, rot @ muA @ np.linalg.inv(rot), matrix_power(rot, 2) @ muA @ matrix_power(rot, -2),  ve1[j,i,:,3], ve2[j,i,:,2], ve3[j,i,:,2], ve1[j,i+1, :,2], ve2[j,i+1, :,2], ve3[j,i+1, :,2], vh1[j,i,:,2], vh2[j,i,:,2], vh3[j,i,:,2], vh1[j,i+1, :,2], vh2[j,i+1, :,2], vh3[j,i+1, :,2])\n",
    "        \n",
    "        berry1[j] = berry1[j] - np.imag(np.log(inner))\n",
    "\n",
    "        \n",
    "for j in range(len(theta)):\n",
    "    for i in range(len(phi)):\n",
    "        \n",
    "        kx0 = dk*np.sin(theta[j])*np.cos(phi[i])\n",
    "        ky0 = dk*np.sin(theta[j])*np.sin(phi[i])\n",
    "        dkz = dk*np.cos(theta[j])\n",
    "        \n",
    "        if dkz > 0:\n",
    "            dw[j, i] = (dkz*length-np.sqrt((dkz*length)**2+4*a1*beta*(kx0*length)**2+4*a2*beta*(ky0*length)**2))/(2*beta)\n",
    "        else:\n",
    "            dw[j, i] = (dkz*length-np.sqrt((dkz*length)**2+4*a1*beta*(kx0*length)**2+4*a2*beta*(ky0*length)**2))/(2*beta)\n",
    "        \n",
    "        omega = (1+dw[j, i])*omega_p\n",
    "        \n",
    "        epsA = np.array([[2.2, 0, 0], [0, 1.2, 0], [0, 0, 1 - (omega_p/omega)**2]])*eps0\n",
    "        muA  = np.array([[1., 0, 0], [0, 1., 0], [0, 0, 1.]])*mu0\n",
    "        xiA  = np.zeros((3,3), dtype = complex)\n",
    "        zetA = np.zeros((3,3), dtype = complex)\n",
    "        dA   = length\n",
    "        \n",
    "        rot  = np.array([[np.cos(phi1), -np.sin(phi1), 0], [np.sin(phi1), np.cos(phi1), 0], [0, 0, 1]])\n",
    "    \n",
    "        weps1[j][i]  = np.array([[2.2, 0, 0], [0, 1.2, 0], [0, 0, 1+omega_p**2/omega**2]])*eps0\n",
    "        weps2[j][i]  = rot @ weps1[j][i] @ np.linalg.inv(rot)\n",
    "        weps3[j][i]  = matrix_power(rot, 2) @ weps1[j][i] @ matrix_power(rot, -2)\n",
    "        \n",
    "        Uniform_ep_list = [epsA, rot @ epsA @ np.linalg.inv(rot), matrix_power(rot, 2) @ epsA @ matrix_power(rot, -2)]\n",
    "        Uniform_mu_list   = [muA, rot @ muA @ np.linalg.inv(rot), matrix_power(rot, 2) @ muA @ matrix_power(rot, -2)]\n",
    "        Uniform_xi_list   = [xiA, rot @ xiA @ np.linalg.inv(rot), matrix_power(rot, 2) @ xiA @ matrix_power(rot, -2)]\n",
    "        Uniform_zeta_list = [zetA, rot @ zetA @ np.linalg.inv(rot), matrix_power(rot, 2) @ zetA @ matrix_power(rot, -2)]\n",
    "        thickness_list    = [dA/3, dA/3, dA/3]\n",
    "\n",
    "        M1 = MakeMMatrix(omega, 0, kx0, ky0, Uniform_ep_list, Uniform_mu_list, Uniform_xi_list, Uniform_zeta_list, thickness_list)\n",
    "        M2 = MakeMMatrix(omega, 1, kx0, ky0, Uniform_ep_list, Uniform_mu_list, Uniform_xi_list, Uniform_zeta_list, thickness_list)\n",
    "        M3 = MakeMMatrix(omega, 2, kx0, ky0, Uniform_ep_list, Uniform_mu_list, Uniform_xi_list, Uniform_zeta_list, thickness_list)\n",
    " \n",
    "    \n",
    "        q1[j, i], sort = BandStructure(M3 @ M2 @ M1, thickness_list)\n",
    "\n",
    "\n",
    "        ve1[j, i] = Electric(M3 @ M2 @ M1, omega, 0, kx0, ky0, Uniform_ep_list, Uniform_mu_list, Uniform_xi_list, Uniform_zeta_list, thickness_list)\n",
    "        vh1[j, i] = Magnetic(M3 @ M2 @ M1, omega, 0, kx0, ky0, Uniform_ep_list, Uniform_mu_list, Uniform_xi_list, Uniform_zeta_list, thickness_list)\n",
    "        ve2[j, i] = Electric(M3 @ M2 @ M1, omega, 1, kx0, ky0, Uniform_ep_list, Uniform_mu_list, Uniform_xi_list, Uniform_zeta_list, thickness_list)\n",
    "        vh2[j, i] = Magnetic(M3 @ M2 @ M1, omega, 1, kx0, ky0, Uniform_ep_list, Uniform_mu_list, Uniform_xi_list, Uniform_zeta_list, thickness_list)\n",
    "        ve3[j, i] = Electric(M3 @ M2 @ M1, omega, 2, kx0, ky0, Uniform_ep_list, Uniform_mu_list, Uniform_xi_list, Uniform_zeta_list, thickness_list)\n",
    "        vh3[j, i] = Magnetic(M3 @ M2 @ M1, omega, 2, kx0, ky0, Uniform_ep_list, Uniform_mu_list, Uniform_xi_list, Uniform_zeta_list, thickness_list)\n",
    "\n",
    "\n",
    "\n",
    "for j in range(len(theta)):\n",
    "    for i in range(len(phi)-1):\n",
    "        \n",
    "        inner = EnDensity3(weps1[j][i], weps2[j][i], weps3[j][i], muA, rot @ muA @ np.linalg.inv(rot), matrix_power(rot, 2) @ muA @ matrix_power(rot, -2),  ve1[j,i,:,2], ve2[j,i,:,2], ve3[j,i,:,2], ve1[j,i+1, :,2], ve2[j,i+1, :,2], ve3[j,i+1, :,2], vh1[j,i,:,2], vh2[j,i,:,2], vh3[j,i,:,2], vh1[j,i+1, :,2], vh2[j,i+1, :,2], vh3[j,i+1, :,2])\n",
    "        \n",
    "        berry2[j] = berry2[j] - np.imag(np.log(inner))"
   ]
  },
  {
   "cell_type": "code",
   "execution_count": 23,
   "id": "e595187e",
   "metadata": {},
   "outputs": [],
   "source": [
    "berry1 = berry1 % (2*np.pi)\n",
    "berry2 = berry2 % (2*np.pi)"
   ]
  },
  {
   "cell_type": "code",
   "execution_count": 24,
   "id": "95391dfa",
   "metadata": {},
   "outputs": [
    {
     "data": {
      "text/plain": [
       "<matplotlib.legend.Legend at 0x7fcec80fd460>"
      ]
     },
     "execution_count": 24,
     "metadata": {},
     "output_type": "execute_result"
    },
    {
     "data": {
      "image/png": "[encoded data removed]",
      "text/plain": [
       "<Figure size 432x288 with 1 Axes>"
      ]
     },
     "metadata": {
      "needs_background": "light"
     },
     "output_type": "display_data"
    }
   ],
   "source": [
    "import matplotlib.pyplot as plt\n",
    "\n",
    "plt.xlabel(r\"$\\theta/\\pi$\", fontsize = 20)\n",
    "plt.ylabel(r\"$\\beta/\\pi$\", fontsize = 20)\n",
    "plt.scatter(theta/np.pi, berry1/np.pi, s = 5, marker='.',  color = \"red\")\n",
    "plt.scatter(theta/np.pi, berry2/np.pi, s = 5, marker='.',  color = \"black\")\n",
    "plt.legend(['Upper mode', 'Lower mode'], fontsize=15)"
   ]
  },
  {
   "cell_type": "code",
   "execution_count": 5,
   "id": "ff5a1b77",
   "metadata": {},
   "outputs": [
    {
     "data": {
      "text/plain": [
       "(1001, 11, 4)"
      ]
     },
     "execution_count": 5,
     "metadata": {},
     "output_type": "execute_result"
    }
   ],
   "source": [
    "q1.shape"
   ]
  },
  {
   "cell_type": "code",
   "execution_count": null,
   "id": "55946a75",
   "metadata": {},
   "outputs": [],
   "source": []
  }
 ],
 "metadata": {
  "kernelspec": {
   "display_name": "Python 3",
   "language": "python",
   "name": "python3"
  },
  "language_info": {
   "codemirror_mode": {
    "name": "ipython",
    "version": 3
   },
   "file_extension": ".py",
   "mimetype": "text/x-python",
   "name": "python",
   "nbconvert_exporter": "python",
   "pygments_lexer": "ipython3",
   "version": "3.8.8"
  }
 },
 "nbformat": 4,
 "nbformat_minor": 5
}
