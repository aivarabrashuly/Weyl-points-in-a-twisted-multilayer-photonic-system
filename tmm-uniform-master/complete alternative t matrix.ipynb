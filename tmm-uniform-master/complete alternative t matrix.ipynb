{
 "cells": [
  {
   "cell_type": "code",
   "execution_count": 1,
   "id": "45cdb3cf",
   "metadata": {},
   "outputs": [],
   "source": [
    "def f(ex, ey, mu, kx, ky, kz, w):\n",
    "    return ky*(kx**2+ky**2+kz**2-ex*mu*w**2)/kx/(kx**2+ky**2+kz**2-ey*mu*w**2)\n",
    "\n",
    "def g(ex, ey, mu, kx, ky, kz, w):\n",
    "    return -ky*w*(ey*(ky**2+kz**2)+ex*(kx**2-ey*mu*w**2))/kx/kz/(kx**2+ky**2+kz**2-ey*mu*w**2)\n",
    "\n",
    "def h(ex, ey, mu, kx, ky, kz, w):\n",
    "    return w*(ey*ky**2+ex*(kx**2+kz**2-ey*mu*w**2))/kz/(kx**2+ky**2+kz**2-ey*mu*w**2)\n",
    "\n",
    "def fp(ex, ey, mu, kx, ky, kz, w):\n",
    "    return kx*(kx**2+ky**2+kz**2-ex*mu*w**2)/ky/(kx**2+ky**2+kz**2-ex*mu*w**2)\n",
    "\n",
    "def gp(ex, ey, mu, kx, ky, kz, w):\n",
    "    return -w*(ey*(ky**2+kz**2)+ex*(kx**2-ey*mu*w**2))/kz/(kx**2+ky**2+kz**2-ex*mu*w**2)\n",
    "\n",
    "def hp(ex, ey, mu, kx, ky, kz, w):\n",
    "    return kx*w*(ey*ky**2+ex*(kx**2+kz**2-ey*mu*w**2))/ky/kz/(kx**2+ky**2+kz**2-ex*mu*w**2)\n",
    "\n",
    "def propagation(ex, ey, ez, mu, kx, ky, w):\n",
    "    k = np.zeros((4), dtype = complex)\n",
    "    \n",
    "    det = -4*ez*(kx**2+ky**2-ez*mu*w**2)*(ey*ky**2+ex*(kx**2-ey*mu*w**2))+(ey*ky**2+ez*(kx**2+ky**2-ey*mu*w**2)+ex*(kx**2-ez*mu*w**2))**2\n",
    "    \n",
    "    k[0] = np.sqrt(-((ex+ez)*kx**2+(ey+ez)*ky**2-(ex+ey)*ez*mu*w**2+np.sqrt(det))/2/ez+0j)\n",
    "    k[1] = np.sqrt(-((ex+ez)*kx**2+(ey+ez)*ky**2-(ex+ey)*ez*mu*w**2-np.sqrt(det))/2/ez+0j)\n",
    "    k[2] = -np.sqrt(-((ex+ez)*kx**2+(ey+ez)*ky**2-(ex+ey)*ez*mu*w**2+np.sqrt(det))/2/ez+0j)\n",
    "    k[3] = -np.sqrt(-((ex+ez)*kx**2+(ey+ez)*ky**2-(ex+ey)*ez*mu*w**2-np.sqrt(det))/2/ez+0j)\n",
    "    \n",
    "    return k\n",
    "\n",
    "def Mmatrix(omega, z, which_layer, kx0, ky0, Uniform_ep_list, Uniform_mu_list, Uniform_xi_list, Uniform_zeta_list):\n",
    "    # case when ky << kz and kx << kz\n",
    "    import scipy as sp\n",
    "    import scipy.constants as spcs\n",
    "\n",
    "\n",
    "    # universal constants \n",
    "    c       = spcs.c\n",
    "    eps0    = spcs.epsilon_0\n",
    "    mu0     = spcs.mu_0\n",
    "    eta0    = np.sqrt(mu0/eps0)\n",
    "    \n",
    "    # materials thing\n",
    "    ex = Uniform_ep_list[which_layer][0][0]\n",
    "    ey = Uniform_ep_list[which_layer][1][1]\n",
    "    ez = Uniform_ep_list[which_layer][2][2]\n",
    "    \n",
    "    mu = Uniform_mu_list[which_layer][0][0]\n",
    "    \n",
    "    # kz computation \n",
    "\n",
    "    det = -4*ez*(kx0**2+ky0**2-ez*mu*omega**2)*(ey*ky0**2+ex*(kx0**2-ey*mu*omega**2))+(ey*ky0**2+ez*(kx0**2+ky0**2-ey*mu*omega**2)+ex*(kx0**2-ez*mu*omega**2))**2\n",
    "    kz1 = np.sqrt(-((ex+ez)*kx0**2+(ey+ez)*ky0**2-(ex+ey)*ez*mu*omega**2+np.sqrt(det))/2/ez+0j)\n",
    "    \n",
    "    kz2 = np.sqrt(-((ex+ez)*kx0**2+(ey+ez)*ky0**2-(ex+ey)*ez*mu*omega**2-np.sqrt(det))/2/ez+0j)\n",
    "                  \n",
    "    # M computation\n",
    "    \n",
    "    M = np.zeros((4,4), dtype = complex)\n",
    "    \n",
    "    \n",
    "    M[0][0] = fp(ex, ey, mu, kx0, ky0, kz1, omega)*np.exp(-1j*kz1*z)\n",
    "    M[0][1] = np.exp(-1j*kz2*z)\n",
    "    M[0][2] = fp(ex, ey, mu, kx0, ky0, -kz1, omega)*np.exp(1j*kz1*z)\n",
    "    M[0][3] = np.exp(1j*kz2*z)\n",
    "    \n",
    "    M[1][0] = np.exp(-1j*kz1*z)\n",
    "    M[1][1] = f(ex, ey, mu, kx0, ky0, kz2, omega)*np.exp(-1j*kz2*z)\n",
    "    M[1][2] = np.exp(1j*kz1*z)\n",
    "    M[1][3] = f(ex, ey, mu, kx0, ky0, -kz2, omega)*np.exp(1j*kz2*z)\n",
    "    \n",
    "    M[2][0] = gp(ex, ey, mu, kx0, ky0, kz1, omega)*np.exp(-1j*kz1*z)\n",
    "    M[2][1] = g(ex, ey, mu, kx0, ky0, kz2, omega)*np.exp(-1j*kz2*z)\n",
    "    M[2][2] = gp(ex, ey, mu, kx0, ky0, -kz1, omega)*np.exp(1j*kz1*z)\n",
    "    M[2][3] = g(ex, ey, mu, kx0, ky0, -kz2, omega)*np.exp(1j*kz2*z)\n",
    "    \n",
    "    M[3][0] = hp(ex, ey, mu, kx0, ky0, kz1, omega)*np.exp(-1j*kz1*z)\n",
    "    M[3][1] = h(ex, ey, mu, kx0, ky0, kz2, omega)*np.exp(-1j*kz2*z)\n",
    "    M[3][2] = hp(ex, ey, mu, kx0, ky0, -kz1, omega)*np.exp(1j*kz1*z)\n",
    "    M[3][3] = h(ex, ey, mu, kx0, ky0, -kz2, omega)*np.exp(1j*kz2*z)\n",
    "    \n",
    "    return M\n",
    "\n",
    "def Tmatrix(omega, kx0, ky0, Uniform_ep_list, Uniform_mu_list, Uniform_xi_list, Uniform_zeta_list, thickness_list, phi_list):\n",
    "    \n",
    "    \n",
    "    T = np.identity(4, dtype = complex)\n",
    "    \n",
    "    for i in range(len(thickness_list)):\n",
    "        \n",
    "        kx0i = kx0*np.cos(phi_list[i])-ky0*np.sin(phi_list[i])\n",
    "        ky0i = kx0*np.sin(phi_list[i])+ky0*np.cos(phi_list[i])\n",
    "        \n",
    "        M0 = Mmatrix(omega, 0, i, kx0i, ky0i, Uniform_ep_list, Uniform_mu_list, Uniform_xi_list, Uniform_zeta_list)\n",
    "        Md = Mmatrix(omega, thickness_list[i], i, kx0i, ky0i, Uniform_ep_list, Uniform_mu_list, Uniform_xi_list, Uniform_zeta_list)\n",
    "        \n",
    "        R  = np.array([[np.cos(phi), -np.sin(phi), 0, 0], [np.sin(phi), np.cos(phi), 0, 0], [0, 0, np.cos(phi), -np.sin(phi)], [0, 0, np.sin(phi), np.cos(phi)]])\n",
    "        \n",
    "        T = np.transpose(R) @ np.linalg.inv(Md) @ M0 @ R @ T\n",
    "    \n",
    "    return T\n",
    "\n",
    "\n",
    "\n",
    "def BandStructure(M, thickness_list):\n",
    "    \n",
    "    w, v = np.linalg.eig(M)\n",
    "    \n",
    "    q    = np.log(w)/(1j*np.sum(thickness_list))\n",
    "    \n",
    "    return q\n",
    "\n",
    "def find_nearest(array, value):\n",
    "    array = np.asarray(array)\n",
    "    idx = (np.abs(array - value)).argmin()\n",
    "    return array[idx], idx"
   ]
  },
  {
   "cell_type": "code",
   "execution_count": 3,
   "id": "d417877c",
   "metadata": {},
   "outputs": [],
   "source": [
    "import numpy as np\n",
    "import scipy as sp\n",
    "import scipy.constants as spcs\n",
    "\n",
    "\n",
    "# universal constants \n",
    "c       = spcs.c\n",
    "eps0    = spcs.epsilon_0\n",
    "mu0     = spcs.mu_0\n",
    "eta0    = np.sqrt(mu0/eps0)\n",
    "\n",
    "# problem parameters \n",
    "m       = 10000\n",
    "length  = 1e-6\n",
    "omega   = np.linspace(0.05*np.pi*c/length, 0.65*np.pi*c/length, m) #np.linspace(0.5e-4*np.pi*c/length, 0.65*np.pi*c/length, m)\n",
    "n1      = 1\n",
    "n2      = 1\n",
    "theta   = 0\n",
    "phi     = 0\n",
    "phi1    = 0\n",
    "\n",
    "\n",
    "\n",
    "omega_p = 0.5*np.pi*c/length\n",
    "\n",
    "kx0     = 5e-4*np.sqrt(2)*omega_p/c\n",
    "ky0     = 5e-4*np.sqrt(2)*omega_p/c #5e-4*np.sqrt(2)*omega_p/c\n",
    "\n",
    "    \n",
    "# material parameters\n",
    "\n",
    "\n",
    "T   = np.zeros((m, 4, 4), dtype = complex)\n",
    "\n",
    "q1    = np.zeros((m, 4), dtype = complex)\n",
    "k     = np.zeros((m, 4), dtype = float)\n",
    "\n",
    "for i in range(m):\n",
    "    epsA = np.array([[2., 0, 0], [0, 1.7, 0], [0, 0, 1 - (omega_p/omega[i])**2]])*eps0\n",
    "    muA  = np.array([[1., 0, 0], [0, 1., 0], [0, 0, 1.]])*mu0\n",
    "    xiA  = np.zeros((3,3), dtype = complex)\n",
    "    zetA = np.zeros((3,3), dtype = complex)\n",
    "    dA   = length\n",
    "    \n",
    "    \n",
    "    Uniform_ep_list = [epsA]\n",
    "    Uniform_mu_list = [muA]\n",
    "    Uniform_xi_list = [xiA]\n",
    "    Uniform_zeta_list = [zetA]\n",
    "    thickness_list  = [dA]\n",
    "    phi_list = [np.pi/1.35]\n",
    "\n",
    "    T[i] = Tmatrix(omega[i], kx0, ky0, Uniform_ep_list, Uniform_mu_list, Uniform_xi_list, Uniform_zeta_list, thickness_list, phi_list)\n",
    "    \n",
    "        \n",
    "    q1[i]  = BandStructure(T[i], thickness_list)\n",
    "    \n",
    "    for j in range(4):\n",
    "        if np.abs(np.imag(q1[i, j])/np.abs(q1[i, j])) < 1e-5:\n",
    "            k[i, j] = np.real(q1[i, j])*dA\n",
    "        else:\n",
    "            k[i, j] = None\n",
    "    \n",
    "    Uniform_ep_list = []\n",
    "    Uniform_mu_list = []\n",
    "    Uniform_xi_list = []\n",
    "    Uniform_zeta_list = []\n",
    "    thickness_list  = []\n",
    "    phi_list = []"
   ]
  },
  {
   "cell_type": "code",
   "execution_count": 5,
   "id": "dbebd665",
   "metadata": {
    "scrolled": true
   },
   "outputs": [
    {
     "data": {
      "text/plain": [
       "([<matplotlib.axis.XTick at 0x7fb19d9afd60>,\n",
       "  <matplotlib.axis.XTick at 0x7fb19d9afd30>,\n",
       "  <matplotlib.axis.XTick at 0x7fb19d9ac8e0>],\n",
       " [Text(0, 0, ''), Text(0, 0, ''), Text(0, 0, '')])"
      ]
     },
     "execution_count": 5,
     "metadata": {},
     "output_type": "execute_result"
    },
    {
     "data": {
      "image/png": "[encoded data removed]",
      "text/plain": [
       "<Figure size 432x288 with 1 Axes>"
      ]
     },
     "metadata": {
      "needs_background": "light"
     },
     "output_type": "display_data"
    }
   ],
   "source": [
    "t = np.zeros((m, 4), dtype = complex)\n",
    "\n",
    "for i in range(m):\n",
    "    t[i] = propagation(2.*eps0, 1.7*eps0, (1 - (omega_p/omega[i])**2)*eps0, mu0, kx0, ky0, omega[i])\n",
    "    \n",
    "\n",
    "from matplotlib import pyplot as plt \n",
    "\n",
    "plt.figure(figsize=(6,4))\n",
    "\n",
    "\n",
    "plt.xlabel(r\"$\\kappa$\", fontsize = 20)\n",
    "plt.ylabel(r\"$\\omega$\", fontsize = 20)\n",
    "plt.scatter(k[:, 0], omega,s = 0.1, marker='.',  color = \"black\")\n",
    "plt.scatter(k[:,1], omega,s = 0.1, marker='.', color = \"black\")\n",
    "plt.scatter(k[:, 2], omega,s = 0.1, marker='.', color = \"black\")\n",
    "plt.scatter(k[:, 3], omega,s = 0.1, marker='.', color = \"black\")\n",
    "plt.axvline(0, linestyle='--', color='k')\n",
    "plt.xticks([-np.pi, 0, np.pi])\n",
    "#plt.yticks([])"
   ]
  },
  {
   "cell_type": "markdown",
   "id": "17482bb5",
   "metadata": {},
   "source": [
    "# Finding the band dispersion. ex $\\neq$ ey"
   ]
  },
  {
   "cell_type": "code",
   "execution_count": 123,
   "id": "8de230ef",
   "metadata": {},
   "outputs": [],
   "source": [
    "import numpy as np\n",
    "import scipy as sp\n",
    "import scipy.constants as spcs\n",
    "\n",
    "\n",
    "# universal constants \n",
    "c       = spcs.c\n",
    "eps0    = spcs.epsilon_0\n",
    "mu0     = spcs.mu_0\n",
    "eta0    = np.sqrt(mu0/eps0)\n",
    "\n",
    "length  = 1e-6\n",
    "omega_p = 0.1*np.pi*c/length\n",
    "\n",
    "# problem parameters \n",
    "m       = 10000\n",
    "omega   = (1+0.001)*omega_p\n",
    "n1      = 1\n",
    "n2      = 1\n",
    "theta   = 0\n",
    "phi     = 0\n",
    "thetar  = np.arcsin(n1*np.sin(theta)/n2)\n",
    "\n",
    "\n",
    "\n",
    "kx0     = 5e-7*np.sqrt(2)*omega_p/c\n",
    "ky0     = np.linspace(-0.1*np.sqrt(2)*omega/c, 0.1*np.sqrt(2)*omega/c, m)\n",
    "\n",
    "    \n",
    "# material parameters\n",
    "\n",
    "\n",
    "\n",
    "T   = np.zeros((m, 4, 4), dtype = complex)\n",
    "\n",
    "q1    = np.zeros((m, 4), dtype = complex)\n",
    "k     = np.zeros((m, 4), dtype = float)\n",
    "t     = np.zeros((m, 4), dtype = complex)\n",
    "\n",
    "\n",
    "for i in range(m):\n",
    "    \n",
    "    epsA = np.array([[2., 0, 0], [0, 1.7, 0], [0, 0, 1 - (omega_p/omega)**2]])*eps0\n",
    "    muA  = np.array([[1., 0, 0], [0, 1., 0], [0, 0, 1.]])*mu0\n",
    "    xiA  = np.zeros((3,3), dtype = complex)\n",
    "    zetA = np.zeros((3,3), dtype = complex)\n",
    "    dA   = length\n",
    "    \n",
    "    Uniform_ep_list = [epsA]\n",
    "    Uniform_mu_list = [muA]\n",
    "    Uniform_xi_list = [xiA]\n",
    "    Uniform_zeta_list = [zetA]\n",
    "    thickness_list  = [dA]\n",
    "    phi_list = [0.]\n",
    "\n",
    "    T[i] = Tmatrix(omega, kx0, ky0[i], Uniform_ep_list, Uniform_mu_list, Uniform_xi_list, Uniform_zeta_list, thickness_list, phi_list)\n",
    "    \n",
    "        \n",
    "    q1[i]  = BandStructure(T[i], thickness_list[0])\n",
    "    t[i] = propagation(2.*eps0, 1.7*eps0, (1 - (omega_p/omega)**2)*eps0, mu0, kx0, ky0[i], omega)*dA\n",
    "    \n",
    "    for j in range(4):\n",
    "        if np.abs(np.imag(q1[i, j])/np.abs(q1[i,j])) < 1e-5:\n",
    "            k[i,j] = np.real(q1[i,j])*np.sum(thickness_list)\n",
    "        else:\n",
    "            k[i,j] = None\n",
    "            \n",
    "    Uniform_ep_list = []\n",
    "    Uniform_mu_list = []\n",
    "    Uniform_xi_list = []\n",
    "    Uniform_zeta_list = []\n",
    "    thickness_list  = []"
   ]
  },
  {
   "cell_type": "code",
   "execution_count": 124,
   "id": "7aeb99d1",
   "metadata": {},
   "outputs": [
    {
     "data": {
      "text/plain": [
       "<matplotlib.lines.Line2D at 0x7fb1a17348e0>"
      ]
     },
     "execution_count": 124,
     "metadata": {},
     "output_type": "execute_result"
    },
    {
     "data": {
      "image/png": "[encoded data removed]",
      "text/plain": [
       "<Figure size 432x288 with 1 Axes>"
      ]
     },
     "metadata": {
      "needs_background": "light"
     },
     "output_type": "display_data"
    }
   ],
   "source": [
    "from matplotlib import pyplot as plt \n",
    "\n",
    "plt.figure(figsize=(6,4))\n",
    "\n",
    "plt.xlabel(r\"$\\kappa$\", fontsize = 20)\n",
    "plt.ylabel(r\"$k_y$\", fontsize = 20)\n",
    "#plt.scatter(k[:, 0], omega/omega_p, marker='.',  color = \"black\")\n",
    "plt.scatter(k[:, 2], ky0, marker='.', color = \"black\")\n",
    "#plt.scatter(k[:, 1], omega/omega_p, marker='.', color = \"black\")\n",
    "#plt.scatter(k[:, 3], omega/omega_p, marker='.', color = \"black\")\n",
    "plt.axvline(0, linestyle='--', color='k')"
   ]
  },
  {
   "cell_type": "code",
   "execution_count": 125,
   "id": "36bdd573",
   "metadata": {},
   "outputs": [
    {
     "data": {
      "text/plain": [
       "(0.4442881621268723, 7234)"
      ]
     },
     "execution_count": 125,
     "metadata": {},
     "output_type": "execute_result"
    }
   ],
   "source": [
    "find_nearest(k[:,2], 0.4442882938158366)"
   ]
  },
  {
   "cell_type": "code",
   "execution_count": 126,
   "id": "b520adb4",
   "metadata": {},
   "outputs": [
    {
     "data": {
      "text/plain": [
       "0.019877086803160693"
      ]
     },
     "execution_count": 126,
     "metadata": {},
     "output_type": "execute_result"
    }
   ],
   "source": [
    "ky0[7234]*length"
   ]
  },
  {
   "cell_type": "code",
   "execution_count": 127,
   "id": "adcc3188",
   "metadata": {},
   "outputs": [
    {
     "name": "stderr",
     "output_type": "stream",
     "text": [
      "<ipython-input-127-6adb4eb5b780>:8: RuntimeWarning: invalid value encountered in sqrt\n",
      "  plt.plot(b, np.sqrt(np.array(b)*4)*omega_p/c*length, 'r--')\n",
      "<ipython-input-127-6adb4eb5b780>:9: RuntimeWarning: invalid value encountered in sqrt\n",
      "  plt.plot(b, -np.sqrt(-np.array(b)*2*(2-1.7)/(1.7))*omega_p/c*length, 'r--')\n"
     ]
    },
    {
     "data": {
      "text/plain": [
       "[<matplotlib.lines.Line2D at 0x7fb1a0a81e50>]"
      ]
     },
     "execution_count": 127,
     "metadata": {},
     "output_type": "execute_result"
    },
    {
     "data": {
      "image/png": "[encoded data removed]",
      "text/plain": [
       "<Figure size 432x288 with 1 Axes>"
      ]
     },
     "metadata": {
      "needs_background": "light"
     },
     "output_type": "display_data"
    }
   ],
   "source": [
    "a = [-0.01754, -0.01631, -0.01501, -0.0136, -0.01211, -0.01042, -0.0085, -0.0059, 0.0199, 0.0281, 0.0344, 0.0398, 0.0445, 0.0487, 0.0527, 0.0563]\n",
    "b = [-0.008, -0.007, -0.006, -0.005, -0.004, -0.003, -0.002, -0.001, 0.001, 0.002, 0.003, 0.004, 0.005, 0.006, 0.007, 0.008]\n",
    "\n",
    "plt.figure;\n",
    "plt.xlabel(r\"$\\omega/\\omega_p-1$\", fontsize = 20)\n",
    "plt.ylabel(r\"$k_y$\", fontsize = 20)\n",
    "plt.scatter(b, a, marker='.', color = \"black\")\n",
    "plt.plot(b, np.sqrt(np.array(b)*4)*omega_p/c*length, 'r--')\n",
    "plt.plot(b, -np.sqrt(-np.array(b)*2*(2-1.7)/(1.7))*omega_p/c*length, 'r--')"
   ]
  },
  {
   "cell_type": "code",
   "execution_count": 136,
   "id": "f14101e1",
   "metadata": {},
   "outputs": [
    {
     "data": {
      "text/plain": [
       "0.0394788704634891"
      ]
     },
     "execution_count": 136,
     "metadata": {},
     "output_type": "execute_result"
    }
   ],
   "source": [
    "0.01754/(np.sqrt(2)*omega_p/c*length)"
   ]
  },
  {
   "cell_type": "code",
   "execution_count": 102,
   "id": "f444a1da",
   "metadata": {},
   "outputs": [
    {
     "data": {
      "text/plain": [
       "[<matplotlib.lines.Line2D at 0x7fab9bda4c70>]"
      ]
     },
     "execution_count": 102,
     "metadata": {},
     "output_type": "execute_result"
    },
    {
     "data": {
      "image/png": "[encoded data removed]",
      "text/plain": [
       "<Figure size 432x288 with 1 Axes>"
      ]
     },
     "metadata": {
      "needs_background": "light"
     },
     "output_type": "display_data"
    }
   ],
   "source": [
    "a = [-0.0525, -0.0456, -0.0389, -0.0322, -0.0257, -0.01915, -0.0127, -0.0063, 0.0062, 0.0124, 0.0186, 0.0247, 0.0307, 0.0367, 0.0425, 0.0484]\n",
    "b = [-0.08, -0.07, -0.06, -0.05, -0.04, -0.03, -0.02, -0.01, 0.01, 0.02, 0.03, 0.04, 0.05, 0.06, 0.07, 0.08]\n",
    "\n",
    "plt.figure;\n",
    "plt.xlabel(r\"$\\omega/\\omega_p-1$\", fontsize = 20)\n",
    "plt.ylabel(r\"$k_x$\", fontsize = 20)\n",
    "plt.scatter(b, a, marker='.', color = \"black\")\n",
    "plt.plot(b, np.array(b)*omega_p*2/c*length, 'r--')"
   ]
  }
 ],
 "metadata": {
  "kernelspec": {
   "display_name": "Python 3",
   "language": "python",
   "name": "python3"
  },
  "language_info": {
   "codemirror_mode": {
    "name": "ipython",
    "version": 3
   },
   "file_extension": ".py",
   "mimetype": "text/x-python",
   "name": "python",
   "nbconvert_exporter": "python",
   "pygments_lexer": "ipython3",
   "version": "3.8.8"
  }
 },
 "nbformat": 4,
 "nbformat_minor": 5
}
